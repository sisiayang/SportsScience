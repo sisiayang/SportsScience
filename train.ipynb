{
 "cells": [
  {
   "cell_type": "code",
   "execution_count": 387,
   "metadata": {},
   "outputs": [],
   "source": [
    "import tensorflow as tf\n",
    "import pandas as pd\n",
    "import numpy as np\n",
    "from keras.preprocessing.sequence import pad_sequences\n",
    "import keras\n",
    "from keras.layers import Embedding, Masking, Concatenate, GRU, Dense, Reshape\n",
    "from model import CNN_with_mask"
   ]
  },
  {
   "cell_type": "code",
   "execution_count": 388,
   "metadata": {},
   "outputs": [],
   "source": [
    "def get_padding_data(df):\n",
    "    '''\n",
    "    one df represents one game\n",
    "    split: space, action, player(?), error&score\n",
    "    label: 發球方是否得分？\n",
    "    '''\n",
    "    col = df.columns\n",
    "    space_col = [c for c in df.columns if 'Space' in c]\n",
    "    action_col = [c for c in df.columns if 'Action' in c]\n",
    "    result_col = ['Errors', 'Score', 'Nothing']\n",
    "    others_col = [c for c in df.columns if c not in space_col and c not in action_col and c not in result_col and c != 'Game' and c != 'Rally']\n",
    "\n",
    "    team_col = [c for c in df.columns if 'Team' in c]\n",
    "\n",
    "    rally_set = []\n",
    "    rally_space_set = []\n",
    "    rally_action_set = []\n",
    "    rally_result_set = []\n",
    "    for _, df_rally in df.groupby(['Game', 'Rally']):   # each rally in one game\n",
    "        # print(df_rally)\n",
    "        curr_team = df.iloc[df_rally.index[0]][team_col].tolist()\n",
    "        shot_set = []\n",
    "        shot_space_set = []\n",
    "        shot_action_set = []\n",
    "        shot_result_set = []\n",
    "        \n",
    "        atk_sequence = []\n",
    "        atk_space_sequence = []\n",
    "        atk_action_sequence = []\n",
    "        atk_result = []\n",
    "        \n",
    "        for _, shot in df_rally.iterrows():\n",
    "            if(shot[team_col].tolist() != curr_team):\n",
    "                shot_set.append(atk_sequence)\n",
    "                shot_space_set.append(atk_space_sequence)\n",
    "                shot_action_set.append(atk_action_sequence)\n",
    "                shot_result_set.append(atk_result)   # 最後一動的結果 -> predict object\n",
    "                \n",
    "                curr_team = shot[team_col].tolist()\n",
    "\n",
    "                atk_sequence = []\n",
    "                atk_space_sequence = []\n",
    "                atk_action_sequence = []\n",
    "\n",
    "            atk_space_sequence.append(shot[space_col])\n",
    "            atk_action_sequence.append(shot[action_col])\n",
    "            atk_sequence.append(shot[others_col])\n",
    "            atk_result = shot[result_col]\n",
    "        \n",
    "        # the last shot\n",
    "        shot_set.append(atk_sequence)\n",
    "        shot_space_set.append(atk_space_sequence)\n",
    "        shot_action_set.append(atk_action_sequence)\n",
    "        shot_result_set.append(atk_result)\n",
    "\n",
    "        # one rally has been finished\n",
    "        shot_set = pad_sequences(shot_set, maxlen=3, padding='post')\n",
    "        shot_space_set = pad_sequences(shot_space_set, maxlen=3, padding='post')\n",
    "        shot_action_set = pad_sequences(shot_action_set, maxlen=3, padding='post')\n",
    "\n",
    "        # one rally has been finished\n",
    "        rally_set.append(shot_set)\n",
    "        rally_space_set.append(shot_space_set)\n",
    "        rally_action_set.append(shot_action_set)\n",
    "        rally_result_set.append(shot_result_set)\n",
    "\n",
    "    padded_rally_set = pad_sequences(rally_set, dtype=float, padding='post')\n",
    "    padded_rally_space_set = pad_sequences(rally_space_set, dtype=float, padding='post')\n",
    "    padded_rally_action_set = pad_sequences(rally_action_set, dtype=float, padding='post')\n",
    "    padded_rally_result_set = pad_sequences(rally_result_set, dtype=float, padding='post')\n",
    "    \n",
    "    return padded_rally_set, padded_rally_space_set, padded_rally_action_set, padded_rally_result_set\n"
   ]
  },
  {
   "cell_type": "code",
   "execution_count": 389,
   "metadata": {},
   "outputs": [],
   "source": [
    "df = pd.read_csv('test.csv')\n",
    "\n",
    "space_replace = {list(df.groupby('Space').groups.keys())[i]: i+1 for i in range(len(df.groupby('Space')))}\n",
    "action_replace = {list(df.groupby('Action').groups.keys())[i]: i+1 for i in range(len(df.groupby('Action')))}\n",
    "\n",
    "df = pd.get_dummies(df, columns=['Team', 'No.'])\n",
    "df = df.replace(space_replace)\n",
    "df = df.replace(action_replace)"
   ]
  },
  {
   "cell_type": "code",
   "execution_count": 390,
   "metadata": {},
   "outputs": [
    {
     "name": "stdout",
     "output_type": "stream",
     "text": [
      "(1292, 14, 3, 36)\n",
      "(1292, 14, 3, 1)\n",
      "(1292, 14, 3, 1)\n",
      "(1292, 14, 3)\n"
     ]
    }
   ],
   "source": [
    "rally_set, rally_space_set, rally_action_set, rally_result_set = get_padding_data(df)\n",
    "\n",
    "# rally數, 最大回合數in one rally, 3, feature數\n",
    "print(rally_set.shape)\n",
    "print(rally_space_set.shape)\n",
    "print(rally_action_set.shape)\n",
    "print(rally_result_set.shape)"
   ]
  },
  {
   "cell_type": "code",
   "execution_count": 391,
   "metadata": {},
   "outputs": [],
   "source": [
    "rally_space_set = rally_space_set.squeeze()\n",
    "rally_action_set = rally_action_set.squeeze()"
   ]
  },
  {
   "cell_type": "code",
   "execution_count": 392,
   "metadata": {},
   "outputs": [],
   "source": [
    "rally_set_tensor = tf.convert_to_tensor(rally_set)\n",
    "rally_space_set_tensor = tf.convert_to_tensor(rally_space_set)\n",
    "rally_action_set_tensor = tf.convert_to_tensor(rally_action_set)\n",
    "rally_result_set_tensor = tf.convert_to_tensor(rally_result_set)\n",
    "\n",
    "rally_result_set_tensor = tf.where(tf.math.is_nan(rally_result_set_tensor), 0.0, rally_result_set_tensor)"
   ]
  },
  {
   "attachments": {},
   "cell_type": "markdown",
   "metadata": {},
   "source": [
    "---"
   ]
  },
  {
   "cell_type": "code",
   "execution_count": 393,
   "metadata": {},
   "outputs": [],
   "source": [
    "# rally_num = rally_set.shape[0]\n",
    "rally_size = rally_set.shape[1]\n",
    "shot_size = 3\n",
    "feature_dim = (rally_set.shape[-1], len(df.groupby('Space'))+1, len(df.groupby('Action'))+1)\n",
    "space_embed_size = 8\n",
    "action_embed_size = 8\n",
    "shot_embed_size = 16"
   ]
  },
  {
   "cell_type": "code",
   "execution_count": 394,
   "metadata": {},
   "outputs": [],
   "source": [
    "def create_model(feature_dim, space_embed_size, action_embed_size, shot_embed_size):\n",
    "    '''\n",
    "    framework: \n",
    "    1. 對 space, action 做 embeding, (input, output) = (feature_dim, embed_size)\n",
    "    2. concat space, action, others 成一個 embedded vector for each atk, (input) =  ([feature_dim, embed_size, embed_size])\n",
    "    3. 先做 embedding\n",
    "    4. CNN, filters = shot_embed_size\n",
    "    5. GRU\n",
    "    '''\n",
    "    # each input: 三個維度, rally shot feature\n",
    "    input_others = keras.Input(shape=(rally_size, shot_size, feature_dim[0]))\n",
    "    input_space = keras.Input(shape=(rally_size, shot_size))\n",
    "    input_action = keras.Input(shape=(rally_size, shot_size))\n",
    "\n",
    "    # space & action 先做 embedding, 再和 others concat\n",
    "    embed_space_layer = Embedding(input_dim=feature_dim[1], output_dim=space_embed_size, mask_zero=True, name='Space_Embedding')\n",
    "    embed_action_layer = Embedding(input_dim=feature_dim[2], output_dim=action_embed_size, mask_zero=True, name='Action_Embedding')\n",
    "    masking_layer = Masking(mask_value=0)   # for input_others (還沒有經過mask)\n",
    "    concat_layer = Concatenate(name='Input_Concat')\n",
    "\n",
    "    embed_shot_layer = CNN_with_mask(kernel_size=3, filters=shot_embed_size, strides=3, name='Shot_Embedding')\n",
    "\n",
    "    cnn_layer = CNN_with_mask(kernel_size=3, filters=shot_embed_size, strides=1, name='CNN_Layer')\n",
    "    gru_layer = GRU(units=16, return_sequences=True, name='GRU_Layer')\n",
    "    dense_layer = Dense(units=3, activation='softmax')\n",
    "    reshape_layer = Reshape((-1, 1, 3))\n",
    "\n",
    "    # forward\n",
    "    inputs = [input_others, input_space, input_action]\n",
    "\n",
    "    embed_space = embed_space_layer(input_space)\n",
    "    embed_action = embed_action_layer(input_action)\n",
    "    masked_others = masking_layer(tf.cast(input_others, tf.float32))\n",
    "    embed_input = concat_layer([masked_others, embed_space, embed_action])\n",
    "    embed_shot = tf.squeeze(embed_shot_layer(embed_input), axis=2)\n",
    "\n",
    "    cnn_output = cnn_layer(embed_shot)\n",
    "    gru_output = gru_layer(cnn_output)\n",
    "    output = dense_layer(gru_output)\n",
    "    model = keras.Model(inputs=inputs, outputs=output, name='Classification')\n",
    "    return model"
   ]
  },
  {
   "cell_type": "code",
   "execution_count": 395,
   "metadata": {},
   "outputs": [
    {
     "name": "stdout",
     "output_type": "stream",
     "text": [
      "Model: \"Classification\"\n",
      "__________________________________________________________________________________________________\n",
      "Layer (type)                    Output Shape         Param #     Connected to                     \n",
      "==================================================================================================\n",
      "input_61 (InputLayer)           [(None, 14, 3, 36)]  0                                            \n",
      "__________________________________________________________________________________________________\n",
      "tf.cast_17 (TFOpLambda)         (None, 14, 3, 36)    0           input_61[0][0]                   \n",
      "__________________________________________________________________________________________________\n",
      "input_62 (InputLayer)           [(None, 14, 3)]      0                                            \n",
      "__________________________________________________________________________________________________\n",
      "input_63 (InputLayer)           [(None, 14, 3)]      0                                            \n",
      "__________________________________________________________________________________________________\n",
      "masking_20 (Masking)            (None, 14, 3, 36)    0           tf.cast_17[0][0]                 \n",
      "__________________________________________________________________________________________________\n",
      "Space_Embedding (Embedding)     (None, 14, 3, 8)     152         input_62[0][0]                   \n",
      "__________________________________________________________________________________________________\n",
      "Action_Embedding (Embedding)    (None, 14, 3, 8)     128         input_63[0][0]                   \n",
      "__________________________________________________________________________________________________\n",
      "Input_Concat (Concatenate)      (None, 14, 3, 52)    0           masking_20[0][0]                 \n",
      "                                                                 Space_Embedding[0][0]            \n",
      "                                                                 Action_Embedding[0][0]           \n",
      "__________________________________________________________________________________________________\n",
      "cnn_with_mask_37 (CNN_with_mask (None, 14, 1, 16)    2512        Input_Concat[0][0]               \n",
      "__________________________________________________________________________________________________\n",
      "tf.compat.v1.squeeze_16 (TFOpLa (None, 14, 16)       0           cnn_with_mask_37[0][0]           \n",
      "__________________________________________________________________________________________________\n",
      "cnn_with_mask_38 (CNN_with_mask (None, 14, 16)       784         tf.compat.v1.squeeze_16[0][0]    \n",
      "__________________________________________________________________________________________________\n",
      "GRU_Layer (GRU)                 (None, 14, 16)       1632        cnn_with_mask_38[0][0]           \n",
      "__________________________________________________________________________________________________\n",
      "dense_16 (Dense)                (None, 14, 3)        51          GRU_Layer[0][0]                  \n",
      "==================================================================================================\n",
      "Total params: 5,259\n",
      "Trainable params: 5,259\n",
      "Non-trainable params: 0\n",
      "__________________________________________________________________________________________________\n"
     ]
    }
   ],
   "source": [
    "model = create_model(feature_dim, space_embed_size, action_embed_size, shot_embed_size)\n",
    "model.summary()"
   ]
  },
  {
   "cell_type": "code",
   "execution_count": 396,
   "metadata": {},
   "outputs": [],
   "source": [
    "# print(rally_set_tensor.shape)\n",
    "# print(rally_space_set_tensor.shape)\n",
    "# print(rally_action_set_tensor.shape)\n",
    "# print(rally_result_set_tensor.shape)"
   ]
  },
  {
   "cell_type": "code",
   "execution_count": 397,
   "metadata": {},
   "outputs": [],
   "source": [
    "# model.call([rally_set_tensor, rally_space_set_tensor, rally_action_set_tensor])"
   ]
  },
  {
   "cell_type": "code",
   "execution_count": 398,
   "metadata": {},
   "outputs": [],
   "source": [
    "def split_data(others_tensor, space_tensor, action_tensor, label_tensor):\n",
    "    l = label_tensor.shape[0]\n",
    "    split_persentage = int(l*0.7)\n",
    "\n",
    "    train_space = space_tensor[:split_persentage]\n",
    "    train_action = action_tensor[:split_persentage]\n",
    "    train_others = others_tensor[:split_persentage]\n",
    "    train_label = label_tensor[:split_persentage]\n",
    "\n",
    "    test_space = space_tensor[split_persentage:]\n",
    "    test_action = action_tensor[split_persentage:]\n",
    "    test_others = others_tensor[split_persentage:]\n",
    "    test_label = label_tensor[split_persentage:]\n",
    "\n",
    "    train_x = [train_others, train_space, train_action]\n",
    "    train_y = train_label\n",
    "\n",
    "    test_x = [test_others, test_space, test_action]\n",
    "    test_y = test_label\n",
    "\n",
    "    return train_x, train_y, test_x, test_y"
   ]
  },
  {
   "cell_type": "code",
   "execution_count": 399,
   "metadata": {},
   "outputs": [],
   "source": [
    "train_x, train_y, test_x, test_y = split_data(rally_set_tensor, rally_space_set_tensor, rally_action_set_tensor, rally_result_set_tensor)"
   ]
  },
  {
   "cell_type": "code",
   "execution_count": 400,
   "metadata": {},
   "outputs": [],
   "source": [
    "from tensorflow.keras import backend as K\n",
    "\n",
    "def f1(y_true, y_pred):    \n",
    "    def recall_m(y_true, y_pred):\n",
    "        TP = K.sum(K.round(K.clip(y_true * y_pred, 0, 1)))\n",
    "        Positives = K.sum(K.round(K.clip(y_true, 0, 1)))\n",
    "        \n",
    "        recall = TP / (Positives+K.epsilon())    \n",
    "        return recall \n",
    "    \n",
    "    \n",
    "    def precision_m(y_true, y_pred):\n",
    "        TP = K.sum(K.round(K.clip(y_true * y_pred, 0, 1)))\n",
    "        Pred_Positives = K.sum(K.round(K.clip(y_pred, 0, 1)))\n",
    "    \n",
    "        precision = TP / (Pred_Positives+K.epsilon())\n",
    "        return precision \n",
    "    \n",
    "    precision, recall = precision_m(y_true, y_pred), recall_m(y_true, y_pred)\n",
    "    \n",
    "    return 2*((precision*recall)/(precision+recall+K.epsilon()))"
   ]
  },
  {
   "cell_type": "code",
   "execution_count": 401,
   "metadata": {},
   "outputs": [],
   "source": [
    "# regularizer = tf.keras.regularizers.l2(0.01)\n",
    "optimizer = 'adam'\n",
    "loss = keras.losses.CategoricalCrossentropy()\n",
    "metrics = [f1, 'accuracy']\n",
    "epochs = 50\n",
    "callbacks = tf.keras.callbacks.EarlyStopping(min_delta=0.002, patience=15, restore_best_weights=True)\n",
    "\n",
    "model.compile(optimizer=optimizer, loss=loss, metrics=metrics)"
   ]
  },
  {
   "cell_type": "code",
   "execution_count": 402,
   "metadata": {},
   "outputs": [
    {
     "name": "stdout",
     "output_type": "stream",
     "text": [
      "Epoch 1/50\n",
      "29/29 [==============================] - 7s 12ms/step - loss: 0.2318 - f1: 0.0000e+00 - accuracy: 0.8233\n",
      "Epoch 2/50\n",
      "29/29 [==============================] - 0s 11ms/step - loss: 0.2305 - f1: 0.0000e+00 - accuracy: 0.5925\n",
      "Epoch 3/50\n",
      "29/29 [==============================] - 0s 12ms/step - loss: 0.2283 - f1: 0.0000e+00 - accuracy: 0.1026\n",
      "Epoch 4/50\n",
      "29/29 [==============================] - 0s 10ms/step - loss: 0.2208 - f1: 0.2572 - accuracy: 0.0985\n",
      "Epoch 5/50\n",
      "29/29 [==============================] - 0s 11ms/step - loss: 0.2133 - f1: 0.3628 - accuracy: 0.0985\n",
      "Epoch 6/50\n",
      "29/29 [==============================] - 0s 13ms/step - loss: 0.2059 - f1: 0.3597 - accuracy: 0.0985\n",
      "Epoch 7/50\n",
      "29/29 [==============================] - 0s 10ms/step - loss: 0.1981 - f1: 0.3711 - accuracy: 0.0985\n",
      "Epoch 8/50\n",
      "29/29 [==============================] - 0s 11ms/step - loss: 0.1861 - f1: 0.4668 - accuracy: 0.0985\n",
      "Epoch 9/50\n",
      "29/29 [==============================] - 0s 13ms/step - loss: 0.1663 - f1: 0.5512 - accuracy: 0.1077\n",
      "Epoch 10/50\n",
      "29/29 [==============================] - 0s 10ms/step - loss: 0.1590 - f1: 0.5918 - accuracy: 0.1155\n",
      "Epoch 11/50\n",
      "29/29 [==============================] - 0s 8ms/step - loss: 0.1541 - f1: 0.6095 - accuracy: 0.1311\n",
      "Epoch 12/50\n",
      "29/29 [==============================] - 0s 7ms/step - loss: 0.1497 - f1: 0.6065 - accuracy: 0.5144\n",
      "Epoch 13/50\n",
      "29/29 [==============================] - 0s 7ms/step - loss: 0.1455 - f1: 0.6002 - accuracy: 0.9272\n",
      "Epoch 14/50\n",
      "29/29 [==============================] - 0s 7ms/step - loss: 0.1403 - f1: 0.6086 - accuracy: 0.9279\n",
      "Epoch 15/50\n",
      "29/29 [==============================] - 0s 7ms/step - loss: 0.1334 - f1: 0.6537 - accuracy: 0.9523\n",
      "Epoch 16/50\n",
      "29/29 [==============================] - 0s 7ms/step - loss: 0.1292 - f1: 0.6969 - accuracy: 0.9629\n",
      "Epoch 17/50\n",
      "29/29 [==============================] - 0s 7ms/step - loss: 0.1263 - f1: 0.7201 - accuracy: 0.9650\n",
      "Epoch 18/50\n",
      "29/29 [==============================] - 0s 7ms/step - loss: 0.1238 - f1: 0.7205 - accuracy: 0.9678\n",
      "Epoch 19/50\n",
      "29/29 [==============================] - 0s 7ms/step - loss: 0.1213 - f1: 0.7282 - accuracy: 0.9696\n",
      "Epoch 20/50\n",
      "29/29 [==============================] - 0s 7ms/step - loss: 0.1160 - f1: 0.7305 - accuracy: 0.9705A: 0s - loss: 0.1151 - f1: 0.7237 - accuracy: 0.9\n",
      "Epoch 21/50\n",
      "29/29 [==============================] - 0s 7ms/step - loss: 0.0954 - f1: 0.8443 - accuracy: 0.4275\n",
      "Epoch 22/50\n",
      "29/29 [==============================] - 0s 7ms/step - loss: 0.0898 - f1: 0.8757 - accuracy: 0.2002\n",
      "Epoch 23/50\n",
      "29/29 [==============================] - 0s 7ms/step - loss: 0.0870 - f1: 0.8864 - accuracy: 0.1982\n",
      "Epoch 24/50\n",
      "29/29 [==============================] - 0s 7ms/step - loss: 0.0845 - f1: 0.8851 - accuracy: 0.1997\n",
      "Epoch 25/50\n",
      "29/29 [==============================] - 0s 7ms/step - loss: 0.0811 - f1: 0.8952 - accuracy: 0.1987\n",
      "Epoch 26/50\n",
      "29/29 [==============================] - 0s 7ms/step - loss: 0.0778 - f1: 0.9066 - accuracy: 0.1982\n",
      "Epoch 27/50\n",
      "29/29 [==============================] - 0s 7ms/step - loss: 0.0763 - f1: 0.9057 - accuracy: 0.1980\n",
      "Epoch 28/50\n",
      "29/29 [==============================] - 0s 7ms/step - loss: 0.0748 - f1: 0.9074 - accuracy: 0.1980\n",
      "Epoch 29/50\n",
      "29/29 [==============================] - 0s 11ms/step - loss: 0.0707 - f1: 0.9073 - accuracy: 0.1993\n",
      "Epoch 30/50\n",
      "29/29 [==============================] - 0s 7ms/step - loss: 0.0681 - f1: 0.9087 - accuracy: 0.1990\n",
      "Epoch 31/50\n",
      "29/29 [==============================] - 0s 7ms/step - loss: 0.0652 - f1: 0.9125 - accuracy: 0.1991\n",
      "Epoch 32/50\n",
      "29/29 [==============================] - 0s 7ms/step - loss: 0.0630 - f1: 0.9143 - accuracy: 0.1990\n",
      "Epoch 33/50\n",
      "29/29 [==============================] - 0s 7ms/step - loss: 0.0613 - f1: 0.9144 - accuracy: 0.1995\n",
      "Epoch 34/50\n",
      "29/29 [==============================] - 0s 7ms/step - loss: 0.0601 - f1: 0.9147 - accuracy: 0.1994\n",
      "Epoch 35/50\n",
      "29/29 [==============================] - 0s 8ms/step - loss: 0.0595 - f1: 0.9154 - accuracy: 0.1994\n",
      "Epoch 36/50\n",
      "29/29 [==============================] - 0s 7ms/step - loss: 0.0585 - f1: 0.9182 - accuracy: 0.1999\n",
      "Epoch 37/50\n",
      "29/29 [==============================] - 0s 7ms/step - loss: 0.0581 - f1: 0.9184 - accuracy: 0.2001\n",
      "Epoch 38/50\n",
      "29/29 [==============================] - 0s 7ms/step - loss: 0.0572 - f1: 0.9205 - accuracy: 0.1997\n",
      "Epoch 39/50\n",
      "29/29 [==============================] - 0s 7ms/step - loss: 0.0565 - f1: 0.9209 - accuracy: 0.2001\n",
      "Epoch 40/50\n",
      "29/29 [==============================] - 0s 7ms/step - loss: 0.0561 - f1: 0.9200 - accuracy: 0.2004\n",
      "Epoch 41/50\n",
      "29/29 [==============================] - 0s 8ms/step - loss: 0.0556 - f1: 0.9236 - accuracy: 0.2003\n",
      "Epoch 42/50\n",
      "29/29 [==============================] - 0s 7ms/step - loss: 0.0550 - f1: 0.9244 - accuracy: 0.2005\n",
      "Epoch 43/50\n",
      "29/29 [==============================] - 0s 7ms/step - loss: 0.0545 - f1: 0.9230 - accuracy: 0.2004\n",
      "Epoch 44/50\n",
      "29/29 [==============================] - 0s 7ms/step - loss: 0.0541 - f1: 0.9249 - accuracy: 0.2012\n",
      "Epoch 45/50\n",
      "29/29 [==============================] - 0s 7ms/step - loss: 0.0537 - f1: 0.9240 - accuracy: 0.2011\n",
      "Epoch 46/50\n",
      "29/29 [==============================] - 0s 7ms/step - loss: 0.0532 - f1: 0.9281 - accuracy: 0.2016\n",
      "Epoch 47/50\n",
      "29/29 [==============================] - 0s 8ms/step - loss: 0.0532 - f1: 0.9279 - accuracy: 0.2008\n",
      "Epoch 48/50\n",
      "29/29 [==============================] - 0s 7ms/step - loss: 0.0525 - f1: 0.9241 - accuracy: 0.2019\n",
      "Epoch 49/50\n",
      "29/29 [==============================] - 0s 7ms/step - loss: 0.0523 - f1: 0.9271 - accuracy: 0.2023\n",
      "Epoch 50/50\n",
      "29/29 [==============================] - 0s 6ms/step - loss: 0.0522 - f1: 0.9260 - accuracy: 0.2011\n"
     ]
    },
    {
     "data": {
      "text/plain": [
       "<keras.callbacks.History at 0x2047d5cc588>"
      ]
     },
     "execution_count": 402,
     "metadata": {},
     "output_type": "execute_result"
    }
   ],
   "source": [
    "model.fit(train_x, train_y, epochs=epochs)"
   ]
  },
  {
   "cell_type": "code",
   "execution_count": 403,
   "metadata": {},
   "outputs": [
    {
     "name": "stdout",
     "output_type": "stream",
     "text": [
      "13/13 [==============================] - 1s 5ms/step - loss: 0.0682 - f1: 0.8832 - accuracy: 0.1900\n"
     ]
    }
   ],
   "source": [
    "result = model.evaluate(test_x, test_y)"
   ]
  },
  {
   "cell_type": "code",
   "execution_count": 404,
   "metadata": {},
   "outputs": [],
   "source": [
    "y_pred = model.predict(test_x)"
   ]
  },
  {
   "cell_type": "code",
   "execution_count": 405,
   "metadata": {},
   "outputs": [],
   "source": [
    "# from tensorflow.python.ops.numpy_ops import np_config\n",
    "# np_config.enable_numpy_behavior()"
   ]
  },
  {
   "cell_type": "code",
   "execution_count": 406,
   "metadata": {},
   "outputs": [
    {
     "data": {
      "text/plain": [
       "TensorShape([388, 14, 3])"
      ]
     },
     "execution_count": 406,
     "metadata": {},
     "output_type": "execute_result"
    }
   ],
   "source": [
    "test_y.shape"
   ]
  },
  {
   "cell_type": "code",
   "execution_count": 407,
   "metadata": {},
   "outputs": [],
   "source": [
    "test_y_reshape = test_y.reshape(test_y.shape[0]*test_y.shape[1], 3)\n",
    "y_pred_reshape = y_pred.reshape(y_pred.shape[0]*y_pred.shape[1], 3)\n",
    "\n",
    "idx = [i for i in range(len(test_y_reshape)) if(any(test_y_reshape[i] == np.array([1, 1, 1])))]"
   ]
  },
  {
   "cell_type": "code",
   "execution_count": 408,
   "metadata": {},
   "outputs": [],
   "source": [
    "y = np.argmax(y_pred_reshape[idx], axis=1)\n",
    "reshape_y = np.argmax(test_y_reshape[idx], axis=1)"
   ]
  },
  {
   "cell_type": "code",
   "execution_count": 410,
   "metadata": {},
   "outputs": [
    {
     "data": {
      "text/plain": [
       "1172"
      ]
     },
     "execution_count": 410,
     "metadata": {},
     "output_type": "execute_result"
    }
   ],
   "source": [
    "len(reshape_y)"
   ]
  },
  {
   "cell_type": "code",
   "execution_count": 411,
   "metadata": {},
   "outputs": [
    {
     "data": {
      "text/plain": [
       "0.8805460750853242"
      ]
     },
     "execution_count": 411,
     "metadata": {},
     "output_type": "execute_result"
    }
   ],
   "source": [
    "from sklearn.metrics import accuracy_score\n",
    "\n",
    "accuracy_score(reshape_y, y)"
   ]
  },
  {
   "cell_type": "code",
   "execution_count": 412,
   "metadata": {},
   "outputs": [
    {
     "data": {
      "text/plain": [
       "<tf.Tensor: shape=(), dtype=float64, numpy=0.9708737362951817>"
      ]
     },
     "execution_count": 412,
     "metadata": {},
     "output_type": "execute_result"
    }
   ],
   "source": [
    "f1(reshape_y, y)"
   ]
  },
  {
   "cell_type": "code",
   "execution_count": null,
   "metadata": {},
   "outputs": [],
   "source": []
  }
 ],
 "metadata": {
  "kernelspec": {
   "display_name": "SportScience",
   "language": "python",
   "name": "python3"
  },
  "language_info": {
   "codemirror_mode": {
    "name": "ipython",
    "version": 3
   },
   "file_extension": ".py",
   "mimetype": "text/x-python",
   "name": "python",
   "nbconvert_exporter": "python",
   "pygments_lexer": "ipython3",
   "version": "3.6.13"
  },
  "orig_nbformat": 4,
  "vscode": {
   "interpreter": {
    "hash": "d5a07162fe3afdd7b480234d7b349d638e7b8aabfdb46dc5c5983105b59f4026"
   }
  }
 },
 "nbformat": 4,
 "nbformat_minor": 2
}
