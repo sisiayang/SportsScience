{
 "cells": [
  {
   "cell_type": "code",
   "execution_count": 1,
   "metadata": {},
   "outputs": [],
   "source": [
    "import tensorflow as tf\n",
    "import pandas as pd\n",
    "import numpy as np\n",
    "from keras.preprocessing.sequence import pad_sequences\n",
    "import keras\n",
    "from keras.layers import Embedding, Masking, Concatenate, GRU, Dense, Reshape\n",
    "from model import CNN_with_mask\n",
    "from other_model import prosenet_model, bilstm, onlstm"
   ]
  },
  {
   "cell_type": "code",
   "execution_count": 4,
   "metadata": {},
   "outputs": [],
   "source": [
    "def get_padding_data(df):\n",
    "    result_col = ['Errors', 'Score', 'Nothing']\n",
    "    col = [c for c in df.columns if c not in result_col and c != 'Game' and c != 'Rally']\n",
    "\n",
    "    team_col = [c for c in df.columns if 'Team' in c]\n",
    "\n",
    "    rally_set = []\n",
    "    rally_result_set = []\n",
    "    for _, df_rally in df.groupby(['Game', 'Rally']):   # each rally in one game\n",
    "        # print(df_rally)\n",
    "        curr_team = df.iloc[df_rally.index[0]][team_col].tolist()\n",
    "        shot_set = []\n",
    "        shot_result_set = []\n",
    "        \n",
    "        atk_sequence = []\n",
    "        atk_result = []\n",
    "        \n",
    "        for _, shot in df_rally.iterrows():\n",
    "            if(shot[team_col].tolist() != curr_team):\n",
    "                shot_set.append(atk_sequence)\n",
    "                shot_result_set.append(atk_result)   # 最後一動的結果 -> predict object\n",
    "                \n",
    "                curr_team = shot[team_col].tolist()\n",
    "\n",
    "                atk_sequence = []\n",
    "\n",
    "            atk_sequence.append(shot[col])\n",
    "            atk_result = shot[result_col]\n",
    "        \n",
    "        # the last shot\n",
    "        shot_set.append(atk_sequence)\n",
    "        shot_result_set.append(atk_result)\n",
    "\n",
    "        # one rally has been finished\n",
    "        shot_set = pad_sequences(shot_set, maxlen=3, padding='post')\n",
    "\n",
    "        # one rally has been finished\n",
    "        rally_set.append(shot_set)\n",
    "        rally_result_set.append(shot_result_set)\n",
    "\n",
    "    padded_rally_set = pad_sequences(rally_set, dtype=float, padding='post')\n",
    "    padded_rally_result_set = pad_sequences(rally_result_set, dtype=float, padding='post')\n",
    "    \n",
    "    return padded_rally_set, padded_rally_result_set\n"
   ]
  },
  {
   "cell_type": "code",
   "execution_count": 5,
   "metadata": {},
   "outputs": [],
   "source": [
    "df = pd.read_csv('test.csv')\n",
    "df = pd.get_dummies(df)"
   ]
  },
  {
   "cell_type": "code",
   "execution_count": 6,
   "metadata": {},
   "outputs": [],
   "source": [
    "rally_set, rally_result_set = get_padding_data(df)"
   ]
  },
  {
   "cell_type": "code",
   "execution_count": 7,
   "metadata": {},
   "outputs": [
    {
     "name": "stdout",
     "output_type": "stream",
     "text": [
      "(1292, 14, 3, 43)\n",
      "(1292, 14, 3)\n"
     ]
    }
   ],
   "source": [
    "# rally數, 最大回合數in one rally, 3, feature數\n",
    "print(rally_set.shape)\n",
    "print(rally_result_set.shape)"
   ]
  },
  {
   "cell_type": "code",
   "execution_count": 17,
   "metadata": {},
   "outputs": [
    {
     "ename": "ValueError",
     "evalue": "cannot reshape array of size 54264 into shape (1292,2)",
     "output_type": "error",
     "traceback": [
      "\u001b[1;31m---------------------------------------------------------------------------\u001b[0m",
      "\u001b[1;31mValueError\u001b[0m                                Traceback (most recent call last)",
      "\u001b[1;32m<ipython-input-17-1c83c8abab65>\u001b[0m in \u001b[0;36m<module>\u001b[1;34m\u001b[0m\n\u001b[1;32m----> 1\u001b[1;33m \u001b[0mrally_result_set\u001b[0m \u001b[1;33m=\u001b[0m \u001b[0mrally_result_set\u001b[0m\u001b[1;33m.\u001b[0m\u001b[0mreshape\u001b[0m\u001b[1;33m(\u001b[0m\u001b[1;36m1292\u001b[0m\u001b[1;33m,\u001b[0m \u001b[1;36m2\u001b[0m\u001b[1;33m)\u001b[0m\u001b[1;33m\u001b[0m\u001b[1;33m\u001b[0m\u001b[0m\n\u001b[0m",
      "\u001b[1;31mValueError\u001b[0m: cannot reshape array of size 54264 into shape (1292,2)"
     ]
    }
   ],
   "source": [
    "# rally_result_set = rally_result_set.reshape(1292, 2)"
   ]
  },
  {
   "cell_type": "code",
   "execution_count": 8,
   "metadata": {},
   "outputs": [],
   "source": [
    "rally_set_tensor = tf.convert_to_tensor(rally_set)\n",
    "rally_result_set_tensor = tf.convert_to_tensor(rally_result_set)\n",
    "\n",
    "rally_result_set_tensor = tf.where(tf.math.is_nan(rally_result_set_tensor), 0.0, rally_result_set_tensor)"
   ]
  },
  {
   "cell_type": "code",
   "execution_count": 9,
   "metadata": {},
   "outputs": [],
   "source": [
    "def split_data(others_tensor, label_tensor):\n",
    "    l = label_tensor.shape[0]\n",
    "    split_persentage = int(l*0.7)\n",
    "\n",
    "    train_x = others_tensor[:split_persentage]\n",
    "    train_y = label_tensor[:split_persentage]\n",
    "\n",
    "    test_x = others_tensor[split_persentage:]\n",
    "    test_y = label_tensor[split_persentage:]\n",
    "\n",
    "    return train_x, train_y, test_x, test_y"
   ]
  },
  {
   "cell_type": "code",
   "execution_count": 10,
   "metadata": {},
   "outputs": [],
   "source": [
    "train_x, train_y, test_x, test_y = split_data(rally_set_tensor, rally_result_set_tensor)"
   ]
  },
  {
   "cell_type": "code",
   "execution_count": 22,
   "metadata": {},
   "outputs": [
    {
     "name": "stdout",
     "output_type": "stream",
     "text": [
      "Model: \"Classification\"\n",
      "_________________________________________________________________\n",
      "Layer (type)                 Output Shape              Param #   \n",
      "=================================================================\n",
      "Shots_input (InputLayer)     [(None, 14, 3, 43)]       0         \n",
      "_________________________________________________________________\n",
      "Sequence_masking (Masking)   (None, 14, 3, 43)         0         \n",
      "_________________________________________________________________\n",
      "cnn_with_mask_1 (CNN_with_ma (None, 14, 1, 43)         5590      \n",
      "_________________________________________________________________\n",
      "tf.compat.v1.squeeze_1 (TFOp (None, 14, 43)            0         \n",
      "_________________________________________________________________\n",
      "classifier (Dense)           (None, 14, 3)             129       \n",
      "=================================================================\n",
      "Total params: 5,719\n",
      "Trainable params: 5,719\n",
      "Non-trainable params: 0\n",
      "_________________________________________________________________\n"
     ]
    }
   ],
   "source": [
    "model = prosenet_model(shot_sequence_shape=rally_set.shape[1:], nclasses=3)\n",
    "model.summary()"
   ]
  },
  {
   "cell_type": "code",
   "execution_count": 23,
   "metadata": {},
   "outputs": [],
   "source": [
    "# regularizer = tf.keras.regularizers.l2(0.01)\n",
    "optimizer = 'adam'\n",
    "loss = keras.losses.CategoricalCrossentropy()\n",
    "metrics = ['accuracy']\n",
    "epochs = 30\n",
    "# callbacks = tf.keras.callbacks.EarlyStopping(min_delta=0.002, patience=15, restore_best_weights=True)\n",
    "\n",
    "model.compile(optimizer=optimizer, loss=loss, metrics=metrics)"
   ]
  },
  {
   "cell_type": "code",
   "execution_count": 24,
   "metadata": {},
   "outputs": [
    {
     "name": "stdout",
     "output_type": "stream",
     "text": [
      "Epoch 1/30\n",
      "29/29 [==============================] - 0s 890us/step - loss: 0.2166 - accuracy: 0.1427\n",
      "Epoch 2/30\n",
      "29/29 [==============================] - 0s 926us/step - loss: 0.2032 - accuracy: 0.1329\n",
      "Epoch 3/30\n",
      "29/29 [==============================] - 0s 962us/step - loss: 0.1945 - accuracy: 0.1399\n",
      "Epoch 4/30\n",
      "29/29 [==============================] - 0s 855us/step - loss: 0.1884 - accuracy: 0.1428\n",
      "Epoch 5/30\n",
      "29/29 [==============================] - 0s 926us/step - loss: 0.1841 - accuracy: 0.1425\n",
      "Epoch 6/30\n",
      "29/29 [==============================] - 0s 855us/step - loss: 0.1808 - accuracy: 0.1448\n",
      "Epoch 7/30\n",
      "29/29 [==============================] - 0s 873us/step - loss: 0.1792 - accuracy: 0.1451\n",
      "Epoch 8/30\n",
      "29/29 [==============================] - 0s 962us/step - loss: 0.1774 - accuracy: 0.1455\n",
      "Epoch 9/30\n",
      "29/29 [==============================] - 0s 855us/step - loss: 0.1751 - accuracy: 0.1455\n",
      "Epoch 10/30\n",
      "29/29 [==============================] - 0s 1ms/step - loss: 0.1736 - accuracy: 0.1454\n",
      "Epoch 11/30\n",
      "29/29 [==============================] - 0s 1ms/step - loss: 0.1725 - accuracy: 0.1465\n",
      "Epoch 12/30\n",
      "29/29 [==============================] - 0s 855us/step - loss: 0.1715 - accuracy: 0.1467\n",
      "Epoch 13/30\n",
      "29/29 [==============================] - 0s 897us/step - loss: 0.1709 - accuracy: 0.1466\n",
      "Epoch 14/30\n",
      "29/29 [==============================] - 0s 855us/step - loss: 0.1703 - accuracy: 0.1460\n",
      "Epoch 15/30\n",
      "29/29 [==============================] - 0s 858us/step - loss: 0.1699 - accuracy: 0.1473\n",
      "Epoch 16/30\n",
      "29/29 [==============================] - 0s 874us/step - loss: 0.1690 - accuracy: 0.1465\n",
      "Epoch 17/30\n",
      "29/29 [==============================] - 0s 819us/step - loss: 0.1684 - accuracy: 0.1478\n",
      "Epoch 18/30\n",
      "29/29 [==============================] - 0s 855us/step - loss: 0.1687 - accuracy: 0.1475\n",
      "Epoch 19/30\n",
      "29/29 [==============================] - 0s 855us/step - loss: 0.1694 - accuracy: 0.1465\n",
      "Epoch 20/30\n",
      "29/29 [==============================] - 0s 819us/step - loss: 0.1673 - accuracy: 0.1481\n",
      "Epoch 21/30\n",
      "29/29 [==============================] - 0s 890us/step - loss: 0.1672 - accuracy: 0.1476\n",
      "Epoch 22/30\n",
      "29/29 [==============================] - 0s 819us/step - loss: 0.1668 - accuracy: 0.1469\n",
      "Epoch 23/30\n",
      "29/29 [==============================] - 0s 926us/step - loss: 0.1666 - accuracy: 0.1473\n",
      "Epoch 24/30\n",
      "29/29 [==============================] - 0s 926us/step - loss: 0.1660 - accuracy: 0.1484\n",
      "Epoch 25/30\n",
      "29/29 [==============================] - 0s 839us/step - loss: 0.1657 - accuracy: 0.1487\n",
      "Epoch 26/30\n",
      "29/29 [==============================] - 0s 855us/step - loss: 0.1664 - accuracy: 0.1490\n",
      "Epoch 27/30\n",
      "29/29 [==============================] - 0s 855us/step - loss: 0.1654 - accuracy: 0.1478\n",
      "Epoch 28/30\n",
      "29/29 [==============================] - 0s 873us/step - loss: 0.1654 - accuracy: 0.1476\n",
      "Epoch 29/30\n",
      "29/29 [==============================] - 0s 819us/step - loss: 0.1650 - accuracy: 0.1482\n",
      "Epoch 30/30\n",
      "29/29 [==============================] - 0s 890us/step - loss: 0.1651 - accuracy: 0.1484\n"
     ]
    },
    {
     "data": {
      "text/plain": [
       "<keras.callbacks.History at 0x201ae832828>"
      ]
     },
     "execution_count": 24,
     "metadata": {},
     "output_type": "execute_result"
    }
   ],
   "source": [
    "model.fit(train_x, train_y, epochs=30)"
   ]
  },
  {
   "cell_type": "code",
   "execution_count": 17,
   "metadata": {},
   "outputs": [],
   "source": [
    "from tensorflow.python.ops.numpy_ops import np_config\n",
    "np_config.enable_numpy_behavior()"
   ]
  },
  {
   "cell_type": "code",
   "execution_count": 27,
   "metadata": {},
   "outputs": [
    {
     "name": "stdout",
     "output_type": "stream",
     "text": [
      "13/13 [==============================] - 0s 748us/step - loss: 0.1728 - accuracy: 0.1443\n"
     ]
    }
   ],
   "source": [
    "result = model.evaluate(test_x, test_y)"
   ]
  },
  {
   "cell_type": "code",
   "execution_count": 29,
   "metadata": {},
   "outputs": [
    {
     "name": "stdout",
     "output_type": "stream",
     "text": [
      "1172\n"
     ]
    }
   ],
   "source": [
    "y_pred = model.predict(test_x)\n",
    "\n",
    "test_y_reshape = test_y.reshape(test_y.shape[0]*test_y.shape[1], 3)\n",
    "y_pred_reshape = y_pred.reshape(y_pred.shape[0]*y_pred.shape[1], 3)\n",
    "\n",
    "idx = [i for i in range(len(test_y_reshape)) if(any(test_y_reshape[i] == np.array([1, 1, 1])))]\n",
    "print(len(idx))\n",
    "\n",
    "argmax_y_pred_reshape = np.argmax(y_pred_reshape[idx], axis=1)\n",
    "argmax_test_y_reshape = np.argmax(test_y_reshape[idx], axis=1)"
   ]
  },
  {
   "cell_type": "code",
   "execution_count": 30,
   "metadata": {},
   "outputs": [],
   "source": [
    "from sklearn.metrics import accuracy_score, roc_auc_score\n",
    "from evaluate import calculate_BS, f1, show_eval_result\n",
    "\n",
    "acc_score = accuracy_score(argmax_test_y_reshape, argmax_y_pred_reshape)\n",
    "f1_score = f1(argmax_test_y_reshape, argmax_y_pred_reshape)\n",
    "auc_score = roc_auc_score(test_y_reshape[idx, :], y_pred_reshape[idx, :], multi_class='ovr')\n",
    "BS = calculate_BS(test_y_reshape[idx, :], y_pred_reshape[idx, :], 3)\n",
    "\n",
    "show_eval_result(acc_score, f1_score, auc_score, BS)"
   ]
  },
  {
   "cell_type": "code",
   "execution_count": 31,
   "metadata": {},
   "outputs": [
    {
     "name": "stdout",
     "output_type": "stream",
     "text": [
      "accuracy:    0.67\n",
      "f1:          0.85\n",
      "auc:         0.81\n",
      "BS:          0.16, 0.12, 0.19\n",
      "mean of BS:  0.15\n"
     ]
    }
   ],
   "source": []
  },
  {
   "attachments": {},
   "cell_type": "markdown",
   "metadata": {},
   "source": [
    "---"
   ]
  },
  {
   "cell_type": "code",
   "execution_count": 14,
   "metadata": {},
   "outputs": [
    {
     "name": "stdout",
     "output_type": "stream",
     "text": [
      "Model: \"model_2\"\n",
      "_________________________________________________________________\n",
      "Layer (type)                 Output Shape              Param #   \n",
      "=================================================================\n",
      "Shots_input (InputLayer)     [(None, 14, 3, 43)]       0         \n",
      "_________________________________________________________________\n",
      "Sequence_masking (Masking)   (None, 14, 3, 43)         0         \n",
      "_________________________________________________________________\n",
      "cnn_with_mask_2 (CNN_with_ma (None, 14, 1, 43)         5590      \n",
      "_________________________________________________________________\n",
      "tf.compat.v1.squeeze_2 (TFOp (None, 14, 43)            0         \n",
      "_________________________________________________________________\n",
      "Bidirectional_recurrent_laye (None, 14, 64)            19456     \n",
      "_________________________________________________________________\n",
      "dense_2 (Dense)              (None, 14, 3)             195       \n",
      "=================================================================\n",
      "Total params: 25,241\n",
      "Trainable params: 25,241\n",
      "Non-trainable params: 0\n",
      "_________________________________________________________________\n"
     ]
    }
   ],
   "source": [
    "model = bilstm(shot_sequence_shape=rally_set.shape[1:])\n",
    "model.summary()"
   ]
  },
  {
   "cell_type": "code",
   "execution_count": 15,
   "metadata": {},
   "outputs": [],
   "source": [
    "# regularizer = tf.keras.regularizers.l2(0.01)\n",
    "optimizer = 'adam'\n",
    "loss = keras.losses.CategoricalCrossentropy()\n",
    "metrics = ['accuracy']\n",
    "epochs = 30\n",
    "# callbacks = tf.keras.callbacks.EarlyStopping(min_delta=0.002, patience=15, restore_best_weights=True)\n",
    "\n",
    "model.compile(optimizer=optimizer, loss=loss, metrics=metrics)"
   ]
  },
  {
   "cell_type": "code",
   "execution_count": 16,
   "metadata": {},
   "outputs": [
    {
     "name": "stdout",
     "output_type": "stream",
     "text": [
      "Epoch 1/30\n",
      "29/29 [==============================] - 2s 4ms/step - loss: 0.1950 - accuracy: 0.1830\n",
      "Epoch 2/30\n",
      "29/29 [==============================] - 0s 4ms/step - loss: 0.1523 - accuracy: 0.7138\n",
      "Epoch 3/30\n",
      "29/29 [==============================] - 0s 4ms/step - loss: 0.1491 - accuracy: 0.9490\n",
      "Epoch 4/30\n",
      "29/29 [==============================] - 0s 4ms/step - loss: 0.1414 - accuracy: 0.8998\n",
      "Epoch 5/30\n",
      "29/29 [==============================] - 0s 4ms/step - loss: 0.1348 - accuracy: 0.8918\n",
      "Epoch 6/30\n",
      "29/29 [==============================] - 0s 4ms/step - loss: 0.1301 - accuracy: 0.9501\n",
      "Epoch 7/30\n",
      "29/29 [==============================] - 0s 4ms/step - loss: 0.1267 - accuracy: 0.9696\n",
      "Epoch 8/30\n",
      "29/29 [==============================] - 0s 4ms/step - loss: 0.1230 - accuracy: 0.9712\n",
      "Epoch 9/30\n",
      "29/29 [==============================] - 0s 4ms/step - loss: 0.1197 - accuracy: 0.9723\n",
      "Epoch 10/30\n",
      "29/29 [==============================] - 0s 4ms/step - loss: 0.1166 - accuracy: 0.9727\n",
      "Epoch 11/30\n",
      "29/29 [==============================] - 0s 4ms/step - loss: 0.1137 - accuracy: 0.9737\n",
      "Epoch 12/30\n",
      "29/29 [==============================] - 0s 4ms/step - loss: 0.1119 - accuracy: 0.9740\n",
      "Epoch 13/30\n",
      "29/29 [==============================] - 0s 4ms/step - loss: 0.1101 - accuracy: 0.9736\n",
      "Epoch 14/30\n",
      "29/29 [==============================] - 0s 4ms/step - loss: 0.1086 - accuracy: 0.9742\n",
      "Epoch 15/30\n",
      "29/29 [==============================] - 0s 4ms/step - loss: 0.1070 - accuracy: 0.9750\n",
      "Epoch 16/30\n",
      "29/29 [==============================] - 0s 4ms/step - loss: 0.1041 - accuracy: 0.9751\n",
      "Epoch 17/30\n",
      "29/29 [==============================] - 0s 4ms/step - loss: 0.1014 - accuracy: 0.9754\n",
      "Epoch 18/30\n",
      "29/29 [==============================] - 0s 4ms/step - loss: 0.0994 - accuracy: 0.9753\n",
      "Epoch 19/30\n",
      "29/29 [==============================] - 0s 4ms/step - loss: 0.0976 - accuracy: 0.9760\n",
      "Epoch 20/30\n",
      "29/29 [==============================] - 0s 4ms/step - loss: 0.0959 - accuracy: 0.9763\n",
      "Epoch 21/30\n",
      "29/29 [==============================] - 0s 4ms/step - loss: 0.0943 - accuracy: 0.9770\n",
      "Epoch 22/30\n",
      "29/29 [==============================] - 0s 4ms/step - loss: 0.0927 - accuracy: 0.9765\n",
      "Epoch 23/30\n",
      "29/29 [==============================] - 0s 4ms/step - loss: 0.0913 - accuracy: 0.9769\n",
      "Epoch 24/30\n",
      "29/29 [==============================] - 0s 4ms/step - loss: 0.0903 - accuracy: 0.9775\n",
      "Epoch 25/30\n",
      "29/29 [==============================] - 0s 4ms/step - loss: 0.0889 - accuracy: 0.9778\n",
      "Epoch 26/30\n",
      "29/29 [==============================] - 0s 4ms/step - loss: 0.0884 - accuracy: 0.9777\n",
      "Epoch 27/30\n",
      "29/29 [==============================] - 0s 4ms/step - loss: 0.0873 - accuracy: 0.9779\n",
      "Epoch 28/30\n",
      "29/29 [==============================] - 0s 4ms/step - loss: 0.0864 - accuracy: 0.9776\n",
      "Epoch 29/30\n",
      "29/29 [==============================] - 0s 4ms/step - loss: 0.0860 - accuracy: 0.9778\n",
      "Epoch 30/30\n",
      "29/29 [==============================] - 0s 4ms/step - loss: 0.0841 - accuracy: 0.9779\n"
     ]
    },
    {
     "data": {
      "text/plain": [
       "<keras.callbacks.History at 0x2353cf343c8>"
      ]
     },
     "execution_count": 16,
     "metadata": {},
     "output_type": "execute_result"
    }
   ],
   "source": [
    "model.fit(train_x, train_y, epochs=epochs)"
   ]
  },
  {
   "cell_type": "code",
   "execution_count": 17,
   "metadata": {},
   "outputs": [
    {
     "name": "stdout",
     "output_type": "stream",
     "text": [
      "13/13 [==============================] - 0s 1ms/step - loss: 0.0918 - accuracy: 0.9720\n"
     ]
    }
   ],
   "source": [
    "result = model.evaluate(test_x, test_y)"
   ]
  },
  {
   "cell_type": "code",
   "execution_count": 20,
   "metadata": {},
   "outputs": [
    {
     "name": "stdout",
     "output_type": "stream",
     "text": [
      "1172\n"
     ]
    }
   ],
   "source": [
    "y_pred = model.predict(test_x)\n",
    "\n",
    "test_y_reshape = test_y.reshape(test_y.shape[0]*test_y.shape[1], 3)\n",
    "y_pred_reshape = y_pred.reshape(y_pred.shape[0]*y_pred.shape[1], 3)\n",
    "\n",
    "idx = [i for i in range(len(test_y_reshape)) if(any(test_y_reshape[i] == np.array([1, 1, 1])))]\n",
    "print(len(idx))\n",
    "\n",
    "argmax_y_pred_reshape = np.argmax(y_pred_reshape[idx], axis=1)\n",
    "argmax_test_y_reshape = np.argmax(test_y_reshape[idx], axis=1)"
   ]
  },
  {
   "cell_type": "code",
   "execution_count": 21,
   "metadata": {},
   "outputs": [
    {
     "name": "stdout",
     "output_type": "stream",
     "text": [
      "accuracy:    0.87\n",
      "f1:          0.92\n",
      "auc:         0.50\n",
      "BS:          0.33, 0.21, 0.46\n",
      "mean of BS:  0.33\n"
     ]
    }
   ],
   "source": [
    "from sklearn.metrics import accuracy_score, roc_auc_score\n",
    "from evaluate import calculate_BS, f1, show_eval_result\n",
    "\n",
    "acc_score = accuracy_score(argmax_test_y_reshape, argmax_y_pred_reshape)\n",
    "f1_score = f1(argmax_test_y_reshape, argmax_y_pred_reshape)\n",
    "auc_score = roc_auc_score(test_y_reshape[idx, :], y_pred_reshape[idx, :], multi_class='ovr')\n",
    "BS = calculate_BS(test_y_reshape[idx, :], y_pred_reshape[idx, :], 3)\n",
    "\n",
    "show_eval_result(acc_score, f1_score, auc_score, BS)"
   ]
  },
  {
   "attachments": {},
   "cell_type": "markdown",
   "metadata": {},
   "source": [
    "---"
   ]
  },
  {
   "cell_type": "code",
   "execution_count": 22,
   "metadata": {},
   "outputs": [
    {
     "name": "stdout",
     "output_type": "stream",
     "text": [
      "Collecting keras_ordered_neurons\n",
      "  Downloading keras-ordered-neurons-0.10.0.tar.gz (10 kB)\n",
      "Building wheels for collected packages: keras-ordered-neurons\n",
      "  Building wheel for keras-ordered-neurons (setup.py): started\n",
      "  Building wheel for keras-ordered-neurons (setup.py): finished with status 'done'\n",
      "  Created wheel for keras-ordered-neurons: filename=keras_ordered_neurons-0.10.0-py3-none-any.whl size=10963 sha256=b22155be9b78f1f5f6308d57e85840ce8885f5c3fba3fee3bc0f2025c28ab2dd\n",
      "  Stored in directory: c:\\users\\yichen\\appdata\\local\\pip\\cache\\wheels\\04\\6e\\db\\c16295f3a0bd5a22579aca2e00e1d51ee37e259248d2eb4a46\n",
      "Successfully built keras-ordered-neurons\n",
      "Installing collected packages: keras-ordered-neurons\n",
      "Successfully installed keras-ordered-neurons-0.10.0\n"
     ]
    }
   ],
   "source": [
    "!pip install keras_ordered_neurons"
   ]
  },
  {
   "cell_type": "code",
   "execution_count": 12,
   "metadata": {},
   "outputs": [
    {
     "name": "stdout",
     "output_type": "stream",
     "text": [
      "Model: \"model_1\"\n",
      "_________________________________________________________________\n",
      "Layer (type)                 Output Shape              Param #   \n",
      "=================================================================\n",
      "Shots_input (InputLayer)     [(None, 14, 3, 43)]       0         \n",
      "_________________________________________________________________\n",
      "Sequence_masking (Masking)   (None, 14, 3, 43)         0         \n",
      "_________________________________________________________________\n",
      "cnn_with_mask_1 (CNN_with_ma (None, 14, 1, 43)         5590      \n",
      "_________________________________________________________________\n",
      "tf.compat.v1.squeeze_1 (TFOp (None, 14, 43)            0         \n",
      "_________________________________________________________________\n",
      "ONLSTM (ONLSTM)              (None, 14, 32)            10944     \n",
      "_________________________________________________________________\n",
      "dense_1 (Dense)              (None, 14, 3)             99        \n",
      "=================================================================\n",
      "Total params: 16,633\n",
      "Trainable params: 16,633\n",
      "Non-trainable params: 0\n",
      "_________________________________________________________________\n"
     ]
    }
   ],
   "source": [
    "model = onlstm(shot_sequence_shape=rally_set.shape[1:])\n",
    "model.summary()"
   ]
  },
  {
   "cell_type": "code",
   "execution_count": 24,
   "metadata": {},
   "outputs": [],
   "source": [
    "from typing import Tuple, Dict, Any"
   ]
  },
  {
   "cell_type": "code",
   "execution_count": 35,
   "metadata": {},
   "outputs": [],
   "source": [
    "def eval_model_result(train_x, train_y, test_x, test_y, \n",
    "                        model_kwargs: Dict[str, Any] = {'model': None, 'optimizer': None, 'loss': None, 'metrics': None, 'epochs': None, 'shapes': []}):\n",
    "    if(model_kwargs['model'] == 'prosenet_model'):\n",
    "        pass\n",
    "    elif(model_kwargs['model'] == 'deepmoji'):\n",
    "        pass\n",
    "    elif(model_kwargs['model'] == 'bilstm'):\n",
    "        pass\n",
    "    elif(model_kwargs['model'] == 'onlstm'):\n",
    "        pass\n",
    "    elif(model_kwargs['model'] == 'transformer'):\n",
    "        pass"
   ]
  },
  {
   "cell_type": "code",
   "execution_count": 37,
   "metadata": {},
   "outputs": [
    {
     "name": "stdout",
     "output_type": "stream",
     "text": [
      "onlstm\n",
      "adam\n",
      "<keras.losses.CategoricalCrossentropy object at 0x0000013E236286A0>\n",
      "['accuracy']\n"
     ]
    }
   ],
   "source": [
    "eval_model_result(train_x, train_y, test_x, test_y, \n",
    "                  model_kwargs={'model': 'onlstm', \n",
    "                                'optimizer': 'adam', \n",
    "                                'loss': keras.losses.CategoricalCrossentropy(), \n",
    "                                'metrics': ['accuracy'], \n",
    "                                'epochs': 30, \n",
    "                                'shapes': [10, 3, 24]})"
   ]
  },
  {
   "cell_type": "code",
   "execution_count": 13,
   "metadata": {},
   "outputs": [],
   "source": [
    "# regularizer = tf.keras.regularizers.l2(0.01)\n",
    "optimizer = 'adam'\n",
    "loss = keras.losses.CategoricalCrossentropy()\n",
    "metrics = ['accuracy']\n",
    "epochs = 30\n",
    "# callbacks = tf.keras.callbacks.EarlyStopping(min_delta=0.002, patience=15, restore_best_weights=True)\n",
    "\n",
    "model.compile(optimizer=optimizer, loss=loss, metrics=metrics)"
   ]
  },
  {
   "cell_type": "code",
   "execution_count": 14,
   "metadata": {},
   "outputs": [
    {
     "name": "stdout",
     "output_type": "stream",
     "text": [
      "Epoch 1/30\n",
      "WARNING:tensorflow:Gradients do not exist for variables ['ONLSTM/onlstm_cell_1/kernel:0', 'ONLSTM/onlstm_cell_1/recurrent_kernel:0', 'ONLSTM/onlstm_cell_1/bias:0'] when minimizing the loss.\n",
      "WARNING:tensorflow:Gradients do not exist for variables ['ONLSTM/onlstm_cell_1/kernel:0', 'ONLSTM/onlstm_cell_1/recurrent_kernel:0', 'ONLSTM/onlstm_cell_1/bias:0'] when minimizing the loss.\n",
      "29/29 [==============================] - 2s 8ms/step - loss: 0.2304 - accuracy: 0.2447\n",
      "Epoch 2/30\n",
      "29/29 [==============================] - 0s 7ms/step - loss: 0.2215 - accuracy: 0.1800\n",
      "Epoch 3/30\n",
      "29/29 [==============================] - 0s 7ms/step - loss: 0.2151 - accuracy: 0.1323\n",
      "Epoch 4/30\n",
      "29/29 [==============================] - 0s 7ms/step - loss: 0.2116 - accuracy: 0.1114\n",
      "Epoch 5/30\n",
      "29/29 [==============================] - 0s 7ms/step - loss: 0.2105 - accuracy: 0.1056\n",
      "Epoch 6/30\n",
      "29/29 [==============================] - 0s 7ms/step - loss: 0.2105 - accuracy: 0.1059\n",
      "Epoch 7/30\n",
      "29/29 [==============================] - 0s 7ms/step - loss: 0.2111 - accuracy: 0.1056\n",
      "Epoch 8/30\n",
      "29/29 [==============================] - 0s 7ms/step - loss: 0.2110 - accuracy: 0.1060\n",
      "Epoch 9/30\n",
      "29/29 [==============================] - 0s 7ms/step - loss: 0.2106 - accuracy: 0.1067\n",
      "Epoch 10/30\n",
      "29/29 [==============================] - 0s 7ms/step - loss: 0.2109 - accuracy: 0.1078\n",
      "Epoch 11/30\n",
      "29/29 [==============================] - 0s 7ms/step - loss: 0.2109 - accuracy: 0.1084\n",
      "Epoch 12/30\n",
      "29/29 [==============================] - 0s 7ms/step - loss: 0.2101 - accuracy: 0.1088\n",
      "Epoch 13/30\n",
      "29/29 [==============================] - 0s 7ms/step - loss: 0.2094 - accuracy: 0.1082\n",
      "Epoch 14/30\n",
      "29/29 [==============================] - 0s 7ms/step - loss: 0.2089 - accuracy: 0.1081\n",
      "Epoch 15/30\n",
      "29/29 [==============================] - 0s 7ms/step - loss: 0.2085 - accuracy: 0.1082\n",
      "Epoch 16/30\n",
      "29/29 [==============================] - 0s 7ms/step - loss: 0.2079 - accuracy: 0.1087\n",
      "Epoch 17/30\n",
      "29/29 [==============================] - 0s 7ms/step - loss: 0.2077 - accuracy: 0.1084\n",
      "Epoch 18/30\n",
      "29/29 [==============================] - 0s 7ms/step - loss: 0.2079 - accuracy: 0.1078\n",
      "Epoch 19/30\n",
      "29/29 [==============================] - 0s 7ms/step - loss: 0.2083 - accuracy: 0.1080\n",
      "Epoch 20/30\n",
      "29/29 [==============================] - 0s 7ms/step - loss: 0.2104 - accuracy: 0.1013\n",
      "Epoch 21/30\n",
      "29/29 [==============================] - 0s 8ms/step - loss: 0.2117 - accuracy: 0.0876\n",
      "Epoch 22/30\n",
      "29/29 [==============================] - 0s 7ms/step - loss: 0.2115 - accuracy: 0.0861\n",
      "Epoch 23/30\n",
      "29/29 [==============================] - 0s 7ms/step - loss: 0.2113 - accuracy: 0.0893\n",
      "Epoch 24/30\n",
      "29/29 [==============================] - 0s 7ms/step - loss: 0.2108 - accuracy: 0.0947\n",
      "Epoch 25/30\n",
      "29/29 [==============================] - 0s 8ms/step - loss: 0.2101 - accuracy: 0.1003\n",
      "Epoch 26/30\n",
      "29/29 [==============================] - 0s 7ms/step - loss: 0.2095 - accuracy: 0.1016\n",
      "Epoch 27/30\n",
      "29/29 [==============================] - 0s 7ms/step - loss: 0.2093 - accuracy: 0.1079\n",
      "Epoch 28/30\n",
      "29/29 [==============================] - 0s 7ms/step - loss: 0.2093 - accuracy: 0.1043\n",
      "Epoch 29/30\n",
      "29/29 [==============================] - 0s 7ms/step - loss: 0.2124 - accuracy: 0.0962\n",
      "Epoch 30/30\n",
      "29/29 [==============================] - 0s 7ms/step - loss: 0.2122 - accuracy: 0.1110\n"
     ]
    },
    {
     "data": {
      "text/plain": [
       "<keras.callbacks.History at 0x13e18109c50>"
      ]
     },
     "execution_count": 14,
     "metadata": {},
     "output_type": "execute_result"
    }
   ],
   "source": [
    "model.fit(train_x, train_y, epochs=30)"
   ]
  },
  {
   "cell_type": "code",
   "execution_count": 15,
   "metadata": {},
   "outputs": [
    {
     "name": "stdout",
     "output_type": "stream",
     "text": [
      "13/13 [==============================] - 0s 2ms/step - loss: 0.2132 - accuracy: 0.1079\n"
     ]
    }
   ],
   "source": [
    "result = model.evaluate(test_x, test_y)"
   ]
  },
  {
   "cell_type": "code",
   "execution_count": 18,
   "metadata": {},
   "outputs": [
    {
     "name": "stdout",
     "output_type": "stream",
     "text": [
      "1172\n"
     ]
    }
   ],
   "source": [
    "y_pred = model.predict(test_x)\n",
    "\n",
    "test_y_reshape = test_y.reshape(test_y.shape[0]*test_y.shape[1], 3)\n",
    "y_pred_reshape = y_pred.reshape(y_pred.shape[0]*y_pred.shape[1], 3)\n",
    "\n",
    "idx = [i for i in range(len(test_y_reshape)) if(any(test_y_reshape[i] == np.array([1, 1, 1])))]\n",
    "print(len(idx))\n",
    "\n",
    "argmax_y_pred_reshape = np.argmax(y_pred_reshape[idx], axis=1)\n",
    "argmax_test_y_reshape = np.argmax(test_y_reshape[idx], axis=1)"
   ]
  },
  {
   "cell_type": "code",
   "execution_count": 19,
   "metadata": {},
   "outputs": [
    {
     "name": "stdout",
     "output_type": "stream",
     "text": [
      "accuracy:    0.50\n",
      "f1:          0.81\n",
      "auc:         0.49\n",
      "BS:          0.33, 0.21, 0.46\n",
      "mean of BS:  0.33\n"
     ]
    }
   ],
   "source": [
    "from sklearn.metrics import accuracy_score, roc_auc_score\n",
    "from evaluate import calculate_BS, f1, show_eval_result\n",
    "\n",
    "acc_score = accuracy_score(argmax_test_y_reshape, argmax_y_pred_reshape)\n",
    "f1_score = f1(argmax_test_y_reshape, argmax_y_pred_reshape)\n",
    "auc_score = roc_auc_score(test_y_reshape[idx, :], y_pred_reshape[idx, :], multi_class='ovr')\n",
    "BS = calculate_BS(test_y_reshape[idx, :], y_pred_reshape[idx, :], 3)\n",
    "\n",
    "show_eval_result(acc_score, f1_score, auc_score, BS)"
   ]
  },
  {
   "attachments": {},
   "cell_type": "markdown",
   "metadata": {},
   "source": [
    "---"
   ]
  },
  {
   "cell_type": "code",
   "execution_count": null,
   "metadata": {},
   "outputs": [],
   "source": []
  }
 ],
 "metadata": {
  "kernelspec": {
   "display_name": "SportsScience",
   "language": "python",
   "name": "python3"
  },
  "language_info": {
   "codemirror_mode": {
    "name": "ipython",
    "version": 3
   },
   "file_extension": ".py",
   "mimetype": "text/x-python",
   "name": "python",
   "nbconvert_exporter": "python",
   "pygments_lexer": "ipython3",
   "version": "3.6.13"
  },
  "orig_nbformat": 4
 },
 "nbformat": 4,
 "nbformat_minor": 2
}
