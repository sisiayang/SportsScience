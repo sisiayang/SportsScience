{
 "cells": [
  {
   "cell_type": "code",
   "execution_count": 5,
   "metadata": {},
   "outputs": [],
   "source": [
    "import pandas as pd\n",
    "import numpy as np"
   ]
  },
  {
   "cell_type": "code",
   "execution_count": 9,
   "metadata": {},
   "outputs": [],
   "source": [
    "df_dict = {'IRI VS POL_0316': 5, 'ITA VS FRA_0316': 3, 'ITA VS NED_0316':4, 'ITA VS POL_0316': 3, 'JPA VS FRA_0316': 3, 'USA VS BRA_0316': 4, 'USA VS FRA_0316': 5, 'USA VS POL_0316': 3}"
   ]
  },
  {
   "cell_type": "code",
   "execution_count": 10,
   "metadata": {},
   "outputs": [],
   "source": [
    "def combine_df(df_dict):\n",
    "    game = 1\n",
    "    col = ['Rally', 'Team', 'No.', 'Space', 'Action', 'Errors', 'Attempts', 'Score']\n",
    "    combined_df = pd.DataFrame(columns = ['Game'] + col)\n",
    "    for key, value in df_dict.items():\n",
    "        for i in range(1, value+1):\n",
    "            try:\n",
    "                df = pd.read_excel('data/'+key+'.xlsx', dtype={'Rally': float, 'No.': str, 'Action': str}, sheet_name='Set'+str(i))\n",
    "                df = df[col]\n",
    "                df = df.drop(index=len(df)-1, axis=0)    # 最後一列為總比分\n",
    "                df.insert(0, 'Game', game)\n",
    "                combined_df = pd.concat([combined_df, df])\n",
    "                game += 1\n",
    "            except Exception as e:\n",
    "                print('data/'+key+'.xlsx', 'Set'+str(i))\n",
    "                print(e, '\\n', '='*30)\n",
    "    \n",
    "    combined_df.insert(8, 'Nothing', np.nan)\n",
    "    combined_df = combined_df.reset_index(drop=True)\n",
    "    return combined_df"
   ]
  },
  {
   "cell_type": "code",
   "execution_count": 33,
   "metadata": {},
   "outputs": [],
   "source": [
    "df = combine_df(df_dict)"
   ]
  },
  {
   "cell_type": "code",
   "execution_count": 34,
   "metadata": {},
   "outputs": [],
   "source": [
    "df = df.drop(index=df[df['Space'].isna()].index)    # 把 OP 或一些其他的 noise data 去除\n",
    "\n",
    "# 合併 Attempt 和 Action、加上 Nothing label\n",
    "for idx, row in df.iterrows():\n",
    "    if(pd.isna(row['Attempts'])):\n",
    "        df.loc[idx, 'Action'] = row['Action'] + '_0'\n",
    "    else:\n",
    "        df.loc[idx, 'Action'] = row['Action'] + '_1'\n",
    "    if(pd.isna(row['Errors']) and pd.isna(row['Score'])):\n",
    "        df.loc[idx, 'Nothing'] = 1.0\n",
    "\n",
    "df = df.drop(columns='Attempts')\n",
    "df = df.reset_index(drop=True)\n",
    "df = df.replace({' ': np.nan})"
   ]
  },
  {
   "cell_type": "code",
   "execution_count": 35,
   "metadata": {},
   "outputs": [],
   "source": [
    "# 檢查是否有異常值 or 空值\n",
    "# team_list = ['IRI', 'POL', 'ITA', 'FRA', 'NED', 'JPA', 'USA', 'BRA']\n",
    "# space_list = [1, 2, 3, 4, 5, 6, 7, 8, 9, 'FZ', 'L', 'M', 'Y']\n",
    "# action_list = ['JS', 'SS', 'FS', 'R', 'G', 'A', 'B', 'D', 'OP']"
   ]
  },
  {
   "cell_type": "code",
   "execution_count": 36,
   "metadata": {},
   "outputs": [
    {
     "name": "stdout",
     "output_type": "stream",
     "text": [
      "1292\n"
     ]
    }
   ],
   "source": [
    "rally_data = []\n",
    "for d in df.groupby(['Game', 'Rally']):\n",
    "    rally_data.append(d[1])\n",
    "print(len(rally_data))"
   ]
  },
  {
   "cell_type": "code",
   "execution_count": 37,
   "metadata": {},
   "outputs": [],
   "source": [
    "import random as rd"
   ]
  },
  {
   "cell_type": "code",
   "execution_count": 38,
   "metadata": {},
   "outputs": [],
   "source": [
    "rd.shuffle(rally_data)\n",
    "shuffled_df = pd.DataFrame(columns=df.columns)\n",
    "\n",
    "for rally in rally_data:\n",
    "    shuffled_df = pd.concat([shuffled_df, rally])"
   ]
  },
  {
   "cell_type": "code",
   "execution_count": 39,
   "metadata": {},
   "outputs": [
    {
     "data": {
      "text/html": [
       "<div>\n",
       "<style scoped>\n",
       "    .dataframe tbody tr th:only-of-type {\n",
       "        vertical-align: middle;\n",
       "    }\n",
       "\n",
       "    .dataframe tbody tr th {\n",
       "        vertical-align: top;\n",
       "    }\n",
       "\n",
       "    .dataframe thead th {\n",
       "        text-align: right;\n",
       "    }\n",
       "</style>\n",
       "<table border=\"1\" class=\"dataframe\">\n",
       "  <thead>\n",
       "    <tr style=\"text-align: right;\">\n",
       "      <th></th>\n",
       "      <th>Game</th>\n",
       "      <th>Rally</th>\n",
       "      <th>Team</th>\n",
       "      <th>No.</th>\n",
       "      <th>Space</th>\n",
       "      <th>Action</th>\n",
       "      <th>Errors</th>\n",
       "      <th>Nothing</th>\n",
       "      <th>Score</th>\n",
       "    </tr>\n",
       "  </thead>\n",
       "  <tbody>\n",
       "    <tr>\n",
       "      <th>5007</th>\n",
       "      <td>21</td>\n",
       "      <td>25.0</td>\n",
       "      <td>USA</td>\n",
       "      <td>15</td>\n",
       "      <td>Y</td>\n",
       "      <td>JS_0</td>\n",
       "      <td>NaN</td>\n",
       "      <td>1.0</td>\n",
       "      <td>NaN</td>\n",
       "    </tr>\n",
       "    <tr>\n",
       "      <th>5008</th>\n",
       "      <td>21</td>\n",
       "      <td>25.0</td>\n",
       "      <td>BRA</td>\n",
       "      <td>18</td>\n",
       "      <td>7</td>\n",
       "      <td>R_0</td>\n",
       "      <td>NaN</td>\n",
       "      <td>1.0</td>\n",
       "      <td>NaN</td>\n",
       "    </tr>\n",
       "    <tr>\n",
       "      <th>5009</th>\n",
       "      <td>21</td>\n",
       "      <td>25.0</td>\n",
       "      <td>BRA</td>\n",
       "      <td>1</td>\n",
       "      <td>2</td>\n",
       "      <td>G_0</td>\n",
       "      <td>NaN</td>\n",
       "      <td>1.0</td>\n",
       "      <td>NaN</td>\n",
       "    </tr>\n",
       "    <tr>\n",
       "      <th>5010</th>\n",
       "      <td>21</td>\n",
       "      <td>25.0</td>\n",
       "      <td>BRA</td>\n",
       "      <td>23</td>\n",
       "      <td>2</td>\n",
       "      <td>A_0</td>\n",
       "      <td>NaN</td>\n",
       "      <td>NaN</td>\n",
       "      <td>1.0</td>\n",
       "    </tr>\n",
       "    <tr>\n",
       "      <th>5011</th>\n",
       "      <td>21</td>\n",
       "      <td>25.0</td>\n",
       "      <td>USA</td>\n",
       "      <td>8</td>\n",
       "      <td>8</td>\n",
       "      <td>D_0</td>\n",
       "      <td>1.0</td>\n",
       "      <td>NaN</td>\n",
       "      <td>NaN</td>\n",
       "    </tr>\n",
       "    <tr>\n",
       "      <th>...</th>\n",
       "      <td>...</td>\n",
       "      <td>...</td>\n",
       "      <td>...</td>\n",
       "      <td>...</td>\n",
       "      <td>...</td>\n",
       "      <td>...</td>\n",
       "      <td>...</td>\n",
       "      <td>...</td>\n",
       "      <td>...</td>\n",
       "    </tr>\n",
       "    <tr>\n",
       "      <th>3539</th>\n",
       "      <td>15</td>\n",
       "      <td>30.0</td>\n",
       "      <td>POL</td>\n",
       "      <td>20</td>\n",
       "      <td>L</td>\n",
       "      <td>JS_0</td>\n",
       "      <td>NaN</td>\n",
       "      <td>1.0</td>\n",
       "      <td>NaN</td>\n",
       "    </tr>\n",
       "    <tr>\n",
       "      <th>3540</th>\n",
       "      <td>15</td>\n",
       "      <td>30.0</td>\n",
       "      <td>ITA</td>\n",
       "      <td>15</td>\n",
       "      <td>8</td>\n",
       "      <td>R_0</td>\n",
       "      <td>NaN</td>\n",
       "      <td>1.0</td>\n",
       "      <td>NaN</td>\n",
       "    </tr>\n",
       "    <tr>\n",
       "      <th>3541</th>\n",
       "      <td>15</td>\n",
       "      <td>30.0</td>\n",
       "      <td>ITA</td>\n",
       "      <td>6</td>\n",
       "      <td>2</td>\n",
       "      <td>G_0</td>\n",
       "      <td>NaN</td>\n",
       "      <td>1.0</td>\n",
       "      <td>NaN</td>\n",
       "    </tr>\n",
       "    <tr>\n",
       "      <th>3542</th>\n",
       "      <td>15</td>\n",
       "      <td>30.0</td>\n",
       "      <td>ITA</td>\n",
       "      <td>5</td>\n",
       "      <td>1</td>\n",
       "      <td>At_0</td>\n",
       "      <td>NaN</td>\n",
       "      <td>NaN</td>\n",
       "      <td>1.0</td>\n",
       "    </tr>\n",
       "    <tr>\n",
       "      <th>3543</th>\n",
       "      <td>15</td>\n",
       "      <td>30.0</td>\n",
       "      <td>POL</td>\n",
       "      <td>16</td>\n",
       "      <td>8</td>\n",
       "      <td>D_0</td>\n",
       "      <td>1.0</td>\n",
       "      <td>NaN</td>\n",
       "      <td>NaN</td>\n",
       "    </tr>\n",
       "  </tbody>\n",
       "</table>\n",
       "<p>7147 rows × 9 columns</p>\n",
       "</div>"
      ],
      "text/plain": [
       "     Game  Rally Team No. Space Action  Errors  Nothing  Score\n",
       "5007   21   25.0  USA  15     Y   JS_0     NaN      1.0    NaN\n",
       "5008   21   25.0  BRA  18     7    R_0     NaN      1.0    NaN\n",
       "5009   21   25.0  BRA   1     2    G_0     NaN      1.0    NaN\n",
       "5010   21   25.0  BRA  23     2    A_0     NaN      NaN    1.0\n",
       "5011   21   25.0  USA   8     8    D_0     1.0      NaN    NaN\n",
       "...   ...    ...  ...  ..   ...    ...     ...      ...    ...\n",
       "3539   15   30.0  POL  20     L   JS_0     NaN      1.0    NaN\n",
       "3540   15   30.0  ITA  15     8    R_0     NaN      1.0    NaN\n",
       "3541   15   30.0  ITA   6     2    G_0     NaN      1.0    NaN\n",
       "3542   15   30.0  ITA   5     1   At_0     NaN      NaN    1.0\n",
       "3543   15   30.0  POL  16     8    D_0     1.0      NaN    NaN\n",
       "\n",
       "[7147 rows x 9 columns]"
      ]
     },
     "execution_count": 39,
     "metadata": {},
     "output_type": "execute_result"
    }
   ],
   "source": [
    "shuffled_df"
   ]
  },
  {
   "cell_type": "code",
   "execution_count": 41,
   "metadata": {},
   "outputs": [
    {
     "data": {
      "text/html": [
       "<div>\n",
       "<style scoped>\n",
       "    .dataframe tbody tr th:only-of-type {\n",
       "        vertical-align: middle;\n",
       "    }\n",
       "\n",
       "    .dataframe tbody tr th {\n",
       "        vertical-align: top;\n",
       "    }\n",
       "\n",
       "    .dataframe thead th {\n",
       "        text-align: right;\n",
       "    }\n",
       "</style>\n",
       "<table border=\"1\" class=\"dataframe\">\n",
       "  <thead>\n",
       "    <tr style=\"text-align: right;\">\n",
       "      <th></th>\n",
       "      <th>Game</th>\n",
       "      <th>Rally</th>\n",
       "      <th>Team</th>\n",
       "      <th>No.</th>\n",
       "      <th>Space</th>\n",
       "      <th>Action</th>\n",
       "      <th>Errors</th>\n",
       "      <th>Nothing</th>\n",
       "    </tr>\n",
       "    <tr>\n",
       "      <th>Score</th>\n",
       "      <th></th>\n",
       "      <th></th>\n",
       "      <th></th>\n",
       "      <th></th>\n",
       "      <th></th>\n",
       "      <th></th>\n",
       "      <th></th>\n",
       "      <th></th>\n",
       "    </tr>\n",
       "  </thead>\n",
       "  <tbody>\n",
       "    <tr>\n",
       "      <th>1.0</th>\n",
       "      <td>891</td>\n",
       "      <td>891</td>\n",
       "      <td>890</td>\n",
       "      <td>891</td>\n",
       "      <td>891</td>\n",
       "      <td>891</td>\n",
       "      <td>0</td>\n",
       "      <td>0</td>\n",
       "    </tr>\n",
       "  </tbody>\n",
       "</table>\n",
       "</div>"
      ],
      "text/plain": [
       "       Game  Rally  Team  No.  Space  Action  Errors  Nothing\n",
       "Score                                                        \n",
       "1.0     891    891   890  891    891     891       0        0"
      ]
     },
     "execution_count": 41,
     "metadata": {},
     "output_type": "execute_result"
    }
   ],
   "source": [
    "shuffled_df.groupby('Score').count()"
   ]
  },
  {
   "cell_type": "code",
   "execution_count": 42,
   "metadata": {},
   "outputs": [
    {
     "data": {
      "text/html": [
       "<div>\n",
       "<style scoped>\n",
       "    .dataframe tbody tr th:only-of-type {\n",
       "        vertical-align: middle;\n",
       "    }\n",
       "\n",
       "    .dataframe tbody tr th {\n",
       "        vertical-align: top;\n",
       "    }\n",
       "\n",
       "    .dataframe thead th {\n",
       "        text-align: right;\n",
       "    }\n",
       "</style>\n",
       "<table border=\"1\" class=\"dataframe\">\n",
       "  <thead>\n",
       "    <tr style=\"text-align: right;\">\n",
       "      <th></th>\n",
       "      <th>Game</th>\n",
       "      <th>Rally</th>\n",
       "      <th>Team</th>\n",
       "      <th>No.</th>\n",
       "      <th>Space</th>\n",
       "      <th>Action</th>\n",
       "      <th>Nothing</th>\n",
       "      <th>Score</th>\n",
       "    </tr>\n",
       "    <tr>\n",
       "      <th>Errors</th>\n",
       "      <th></th>\n",
       "      <th></th>\n",
       "      <th></th>\n",
       "      <th></th>\n",
       "      <th></th>\n",
       "      <th></th>\n",
       "      <th></th>\n",
       "      <th></th>\n",
       "    </tr>\n",
       "  </thead>\n",
       "  <tbody>\n",
       "    <tr>\n",
       "      <th>1.0</th>\n",
       "      <td>1288</td>\n",
       "      <td>1288</td>\n",
       "      <td>1287</td>\n",
       "      <td>1288</td>\n",
       "      <td>1288</td>\n",
       "      <td>1288</td>\n",
       "      <td>0</td>\n",
       "      <td>0</td>\n",
       "    </tr>\n",
       "  </tbody>\n",
       "</table>\n",
       "</div>"
      ],
      "text/plain": [
       "        Game  Rally  Team   No.  Space  Action  Nothing  Score\n",
       "Errors                                                        \n",
       "1.0     1288   1288  1287  1288   1288    1288        0      0"
      ]
     },
     "execution_count": 42,
     "metadata": {},
     "output_type": "execute_result"
    }
   ],
   "source": [
    "shuffled_df.groupby('Errors').count()"
   ]
  },
  {
   "cell_type": "code",
   "execution_count": 43,
   "metadata": {},
   "outputs": [],
   "source": [
    "shuffled_df.to_csv('test.csv', index=False)"
   ]
  },
  {
   "cell_type": "code",
   "execution_count": null,
   "metadata": {},
   "outputs": [],
   "source": []
  }
 ],
 "metadata": {
  "kernelspec": {
   "display_name": "SportScience",
   "language": "python",
   "name": "python3"
  },
  "language_info": {
   "codemirror_mode": {
    "name": "ipython",
    "version": 3
   },
   "file_extension": ".py",
   "mimetype": "text/x-python",
   "name": "python",
   "nbconvert_exporter": "python",
   "pygments_lexer": "ipython3",
   "version": "3.6.13"
  },
  "orig_nbformat": 4,
  "vscode": {
   "interpreter": {
    "hash": "d5a07162fe3afdd7b480234d7b349d638e7b8aabfdb46dc5c5983105b59f4026"
   }
  }
 },
 "nbformat": 4,
 "nbformat_minor": 2
}
