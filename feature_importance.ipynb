{
 "cells": [
  {
   "cell_type": "code",
   "execution_count": 1,
   "metadata": {},
   "outputs": [],
   "source": [
    "import tensorflow as tf\n",
    "import pandas as pd\n",
    "import numpy as np\n",
    "from keras.preprocessing.sequence import pad_sequences\n",
    "import keras\n",
    "from keras.layers import Embedding, Masking, Concatenate, GRU, Dense, Reshape\n",
    "from model import CNN_with_mask\n",
    "\n",
    "from get_training_data import get_rally_result, get_padding_data, permute_feature"
   ]
  },
  {
   "cell_type": "code",
   "execution_count": 2,
   "metadata": {},
   "outputs": [],
   "source": [
    "np.random.seed(44)\n",
    "tf.random.set_seed(44)"
   ]
  },
  {
   "cell_type": "code",
   "execution_count": 3,
   "metadata": {},
   "outputs": [],
   "source": [
    "df = pd.read_csv('test.csv')"
   ]
  },
  {
   "cell_type": "code",
   "execution_count": 4,
   "metadata": {},
   "outputs": [],
   "source": [
    "def replaced_by_mode(df, ex_feature):\n",
    "    if(ex_feature == 'Original'):\n",
    "        return df\n",
    "    col = ['Team', 'No.', 'Space', 'Action']\n",
    "    col.remove(ex_feature)\n",
    "    for c in col:\n",
    "        mode = df.mode(axis=0)[c][0]\n",
    "        replace = {list(df.groupby(c).groups.keys())[i]: mode for i in range(len(df.groupby(c)))}\n",
    "        df[c] = df[c].replace(replace)\n",
    "\n",
    "    return df"
   ]
  },
  {
   "attachments": {},
   "cell_type": "markdown",
   "metadata": {},
   "source": [
    "Feature: Team, No., Space, Action"
   ]
  },
  {
   "cell_type": "code",
   "execution_count": 5,
   "metadata": {},
   "outputs": [],
   "source": [
    "feature = 'Action'\n",
    "# df = permute_feature(df, feature)\n",
    "df = replaced_by_mode(df, feature)"
   ]
  },
  {
   "cell_type": "code",
   "execution_count": 6,
   "metadata": {},
   "outputs": [],
   "source": [
    "space_replace = {list(df.groupby('Space').groups.keys())[i]: i+1 for i in range(len(df.groupby('Space')))}\n",
    "action_replace = {list(df.groupby('Action').groups.keys())[i]: i+1 for i in range(len(df.groupby('Action')))}\n",
    "\n",
    "df = pd.get_dummies(df, columns=['Team', 'No.'])\n",
    "df['Space'] = df['Space'].replace(space_replace)\n",
    "df['Action'] = df['Action'].replace(action_replace)"
   ]
  },
  {
   "cell_type": "code",
   "execution_count": 7,
   "metadata": {},
   "outputs": [],
   "source": [
    "label, ignor = get_rally_result(df)"
   ]
  },
  {
   "cell_type": "code",
   "execution_count": 8,
   "metadata": {},
   "outputs": [
    {
     "name": "stdout",
     "output_type": "stream",
     "text": [
      "(1291, 2, 3, 2)\n",
      "(1291, 2, 3, 1)\n",
      "(1291, 2, 3, 1)\n",
      "(1291, 2)\n"
     ]
    }
   ],
   "source": [
    "rally_set, rally_space_set, rally_action_set= get_padding_data(df, ignor)\n",
    "\n",
    "# rally數, 最大回合數in one rally, 3, feature數\n",
    "print(rally_set.shape)\n",
    "print(rally_space_set.shape)\n",
    "print(rally_action_set.shape)\n",
    "print(label.shape)"
   ]
  },
  {
   "cell_type": "code",
   "execution_count": 9,
   "metadata": {},
   "outputs": [],
   "source": [
    "rally_space_set = rally_space_set.squeeze()\n",
    "rally_action_set = rally_action_set.squeeze()"
   ]
  },
  {
   "cell_type": "code",
   "execution_count": 10,
   "metadata": {},
   "outputs": [],
   "source": [
    "rally_set_tensor = tf.convert_to_tensor(rally_set)\n",
    "rally_space_set_tensor = tf.convert_to_tensor(rally_space_set)\n",
    "rally_action_set_tensor = tf.convert_to_tensor(rally_action_set)\n",
    "rally_result_tensor = tf.convert_to_tensor(label)"
   ]
  },
  {
   "cell_type": "code",
   "execution_count": 11,
   "metadata": {},
   "outputs": [],
   "source": [
    "from keras_self_attention import SeqWeightedAttention"
   ]
  },
  {
   "cell_type": "code",
   "execution_count": 12,
   "metadata": {},
   "outputs": [],
   "source": [
    "# rally_num = rally_set.shape[0]\n",
    "rally_size = rally_set.shape[1]\n",
    "shot_size = 3\n",
    "feature_dim = (rally_set.shape[-1], len(df.groupby('Space'))+1, len(df.groupby('Action'))+1)\n",
    "space_embed_size = 8\n",
    "action_embed_size = 8\n",
    "shot_embed_size = 16"
   ]
  },
  {
   "cell_type": "code",
   "execution_count": 13,
   "metadata": {},
   "outputs": [],
   "source": [
    "def create_model(feature_dim, space_embed_size, action_embed_size, shot_embed_size):\n",
    "    '''\n",
    "    framework: \n",
    "    1. 對 space, action 做 embeding, (input, output) = (feature_dim, embed_size)\n",
    "    2. concat space, action, others 成一個 embedded vector for each atk, (input) =  ([feature_dim, embed_size, embed_size])\n",
    "    3. 先做 embedding\n",
    "    4. CNN, filters = shot_embed_size\n",
    "    5. GRU\n",
    "    '''\n",
    "    # each input: 三個維度, rally shot feature\n",
    "    input_others = keras.Input(shape=(rally_size, shot_size, feature_dim[0]))\n",
    "    input_space = keras.Input(shape=(rally_size, shot_size))\n",
    "    input_action = keras.Input(shape=(rally_size, shot_size))\n",
    "\n",
    "    # space & action 先做 embedding, 再和 others concat\n",
    "    embed_space_layer = Embedding(input_dim=feature_dim[1], output_dim=space_embed_size, mask_zero=True, name='Space_Embedding')\n",
    "    embed_action_layer = Embedding(input_dim=feature_dim[2], output_dim=action_embed_size, mask_zero=True, name='Action_Embedding')\n",
    "    masking_layer = Masking(mask_value=0)   # for input_others (還沒有經過mask)\n",
    "    concat_layer = Concatenate(name='Input_Concat')\n",
    "    embed_shot_layer = CNN_with_mask(kernel_size=3, filters=shot_embed_size, strides=3, name='Shot_Embedding')\n",
    "    cnn_layer = CNN_with_mask(kernel_size=3, filters=shot_embed_size, strides=1, name='CNN_Layer')\n",
    "    gru_layer = GRU(return_sequences=True, units=16, name='GRU_Layer')\n",
    "\n",
    "    layer_attention = SeqWeightedAttention(return_attention=True)\n",
    "\n",
    "    dense_layer = Dense(units=2, activation='softmax')\n",
    "\n",
    "    # forward\n",
    "    inputs = [input_others, input_space, input_action]\n",
    "\n",
    "    embed_space = embed_space_layer(input_space)\n",
    "    embed_action = embed_action_layer(input_action)\n",
    "    masked_others = masking_layer(tf.cast(input_others, tf.float32))\n",
    "    embed_input = concat_layer([masked_others, embed_space, embed_action])\n",
    "    embed_shot = tf.squeeze(embed_shot_layer(embed_input), axis=2)\n",
    "\n",
    "    cnn_output = cnn_layer(embed_shot)\n",
    "    gru_output = gru_layer(cnn_output)\n",
    "\n",
    "    rally_represent, contributions = layer_attention(gru_output)\n",
    "    output = dense_layer(rally_represent)\n",
    "    # output = dense_layer(gru_output)\n",
    "    model = keras.Model(inputs=inputs, outputs=output, name='Classification')\n",
    "\n",
    "    model_attention = tf.keras.Model(inputs=inputs, outputs=contributions, name='Attention')\n",
    "    return model, model_attention"
   ]
  },
  {
   "cell_type": "code",
   "execution_count": 14,
   "metadata": {},
   "outputs": [
    {
     "name": "stdout",
     "output_type": "stream",
     "text": [
      "Model: \"Classification\"\n",
      "__________________________________________________________________________________________________\n",
      "Layer (type)                    Output Shape         Param #     Connected to                     \n",
      "==================================================================================================\n",
      "input_1 (InputLayer)            [(None, 2, 3, 2)]    0                                            \n",
      "__________________________________________________________________________________________________\n",
      "tf.cast (TFOpLambda)            (None, 2, 3, 2)      0           input_1[0][0]                    \n",
      "__________________________________________________________________________________________________\n",
      "input_2 (InputLayer)            [(None, 2, 3)]       0                                            \n",
      "__________________________________________________________________________________________________\n",
      "input_3 (InputLayer)            [(None, 2, 3)]       0                                            \n",
      "__________________________________________________________________________________________________\n",
      "masking (Masking)               (None, 2, 3, 2)      0           tf.cast[0][0]                    \n",
      "__________________________________________________________________________________________________\n",
      "Space_Embedding (Embedding)     (None, 2, 3, 8)      16          input_2[0][0]                    \n",
      "__________________________________________________________________________________________________\n",
      "Action_Embedding (Embedding)    (None, 2, 3, 8)      128         input_3[0][0]                    \n",
      "__________________________________________________________________________________________________\n",
      "Input_Concat (Concatenate)      (None, 2, 3, 18)     0           masking[0][0]                    \n",
      "                                                                 Space_Embedding[0][0]            \n",
      "                                                                 Action_Embedding[0][0]           \n",
      "__________________________________________________________________________________________________\n",
      "cnn_with_mask (CNN_with_mask)   (None, 2, 1, 16)     880         Input_Concat[0][0]               \n",
      "__________________________________________________________________________________________________\n",
      "tf.compat.v1.squeeze (TFOpLambd (None, 2, 16)        0           cnn_with_mask[0][0]              \n",
      "__________________________________________________________________________________________________\n",
      "cnn_with_mask_1 (CNN_with_mask) (None, 2, 16)        784         tf.compat.v1.squeeze[0][0]       \n",
      "__________________________________________________________________________________________________\n",
      "GRU_Layer (GRU)                 (None, 2, 16)        1632        cnn_with_mask_1[0][0]            \n",
      "__________________________________________________________________________________________________\n",
      "seq_weighted_attention (SeqWeig [(None, 16), (None,  17          GRU_Layer[0][0]                  \n",
      "__________________________________________________________________________________________________\n",
      "dense (Dense)                   (None, 2)            34          seq_weighted_attention[0][0]     \n",
      "==================================================================================================\n",
      "Total params: 3,491\n",
      "Trainable params: 3,491\n",
      "Non-trainable params: 0\n",
      "__________________________________________________________________________________________________\n"
     ]
    }
   ],
   "source": [
    "model, model_attention = create_model(feature_dim, space_embed_size, action_embed_size, shot_embed_size)\n",
    "model.summary()"
   ]
  },
  {
   "cell_type": "code",
   "execution_count": 15,
   "metadata": {},
   "outputs": [],
   "source": [
    "def split_data(others_tensor, space_tensor, action_tensor, label_tensor):\n",
    "    l = label_tensor.shape[0]\n",
    "    split_persentage = int(l*0.9)\n",
    "\n",
    "    train_space = space_tensor[:split_persentage]\n",
    "    train_action = action_tensor[:split_persentage]\n",
    "    train_others = others_tensor[:split_persentage]\n",
    "    train_label = label[:split_persentage]\n",
    "\n",
    "    test_space = space_tensor[split_persentage:]\n",
    "    test_action = action_tensor[split_persentage:]\n",
    "    test_others = others_tensor[split_persentage:]\n",
    "    test_label = label[split_persentage:]\n",
    "\n",
    "    train_x = [train_others, train_space, train_action]\n",
    "    train_y = train_label\n",
    "\n",
    "    test_x = [test_others, test_space, test_action]\n",
    "    test_y = test_label\n",
    "\n",
    "    return train_x, train_y, test_x, test_y"
   ]
  },
  {
   "cell_type": "code",
   "execution_count": 16,
   "metadata": {},
   "outputs": [],
   "source": [
    "train_x, train_y, test_x, test_y = split_data(rally_set_tensor, rally_space_set_tensor, rally_action_set_tensor, rally_result_tensor)"
   ]
  },
  {
   "cell_type": "code",
   "execution_count": 17,
   "metadata": {},
   "outputs": [],
   "source": [
    "optimizer = 'adam'\n",
    "loss = keras.losses.CategoricalCrossentropy()\n",
    "metrics = ['accuracy']\n",
    "epochs = 50\n",
    "callbacks = tf.keras.callbacks.EarlyStopping(min_delta=0.002, patience=15, restore_best_weights=True, monitor='val_loss')\n",
    "\n",
    "model.compile(optimizer=optimizer, loss=loss, metrics=metrics)"
   ]
  },
  {
   "cell_type": "code",
   "execution_count": 18,
   "metadata": {},
   "outputs": [
    {
     "name": "stdout",
     "output_type": "stream",
     "text": [
      "Epoch 1/50\n",
      "33/33 [==============================] - 2s 16ms/step - loss: 0.5763 - accuracy: 0.6897 - val_loss: 0.4982 - val_accuracy: 0.6923\n",
      "Epoch 2/50\n",
      "33/33 [==============================] - 0s 3ms/step - loss: 0.4076 - accuracy: 0.8257 - val_loss: 0.2996 - val_accuracy: 0.8462\n",
      "Epoch 3/50\n",
      "33/33 [==============================] - 0s 3ms/step - loss: 0.2398 - accuracy: 0.8927 - val_loss: 0.1830 - val_accuracy: 0.9658\n",
      "Epoch 4/50\n",
      "33/33 [==============================] - 0s 3ms/step - loss: 0.1568 - accuracy: 0.9646 - val_loss: 0.1427 - val_accuracy: 0.9658\n",
      "Epoch 5/50\n",
      "33/33 [==============================] - 0s 3ms/step - loss: 0.1321 - accuracy: 0.9626 - val_loss: 0.1360 - val_accuracy: 0.9658\n",
      "Epoch 6/50\n",
      "33/33 [==============================] - 0s 2ms/step - loss: 0.1258 - accuracy: 0.9646 - val_loss: 0.1330 - val_accuracy: 0.9658\n",
      "Epoch 7/50\n",
      "33/33 [==============================] - 0s 3ms/step - loss: 0.1189 - accuracy: 0.9674 - val_loss: 0.1318 - val_accuracy: 0.9658\n",
      "Epoch 8/50\n",
      "33/33 [==============================] - 0s 2ms/step - loss: 0.1137 - accuracy: 0.9684 - val_loss: 0.1394 - val_accuracy: 0.9573\n",
      "Epoch 9/50\n",
      "33/33 [==============================] - 0s 2ms/step - loss: 0.1143 - accuracy: 0.9713 - val_loss: 0.1332 - val_accuracy: 0.9573\n",
      "Epoch 10/50\n",
      "33/33 [==============================] - 0s 3ms/step - loss: 0.1105 - accuracy: 0.9693 - val_loss: 0.1317 - val_accuracy: 0.9487\n",
      "Epoch 11/50\n",
      "33/33 [==============================] - 0s 2ms/step - loss: 0.1091 - accuracy: 0.9703 - val_loss: 0.1475 - val_accuracy: 0.9487\n",
      "Epoch 12/50\n",
      "33/33 [==============================] - 0s 2ms/step - loss: 0.1131 - accuracy: 0.9703 - val_loss: 0.1466 - val_accuracy: 0.9487\n",
      "Epoch 13/50\n",
      "33/33 [==============================] - 0s 2ms/step - loss: 0.1043 - accuracy: 0.9732 - val_loss: 0.1342 - val_accuracy: 0.9658\n",
      "Epoch 14/50\n",
      "33/33 [==============================] - 0s 2ms/step - loss: 0.1054 - accuracy: 0.9713 - val_loss: 0.1466 - val_accuracy: 0.9487\n",
      "Epoch 15/50\n",
      "33/33 [==============================] - 0s 2ms/step - loss: 0.1044 - accuracy: 0.9674 - val_loss: 0.1320 - val_accuracy: 0.9573\n",
      "Epoch 16/50\n",
      "33/33 [==============================] - 0s 2ms/step - loss: 0.1015 - accuracy: 0.9722 - val_loss: 0.1350 - val_accuracy: 0.9573\n",
      "Epoch 17/50\n",
      "33/33 [==============================] - 0s 2ms/step - loss: 0.1043 - accuracy: 0.9722 - val_loss: 0.1282 - val_accuracy: 0.9573\n",
      "Epoch 18/50\n",
      "33/33 [==============================] - 0s 2ms/step - loss: 0.1020 - accuracy: 0.9732 - val_loss: 0.1317 - val_accuracy: 0.9573\n",
      "Epoch 19/50\n",
      "33/33 [==============================] - 0s 2ms/step - loss: 0.1005 - accuracy: 0.9741 - val_loss: 0.1346 - val_accuracy: 0.9573\n",
      "Epoch 20/50\n",
      "33/33 [==============================] - 0s 2ms/step - loss: 0.1009 - accuracy: 0.9713 - val_loss: 0.1318 - val_accuracy: 0.9573\n",
      "Epoch 21/50\n",
      "33/33 [==============================] - 0s 2ms/step - loss: 0.0989 - accuracy: 0.9741 - val_loss: 0.1308 - val_accuracy: 0.9573\n",
      "Epoch 22/50\n",
      "33/33 [==============================] - 0s 2ms/step - loss: 0.0987 - accuracy: 0.9732 - val_loss: 0.1280 - val_accuracy: 0.9573\n",
      "Epoch 23/50\n",
      "33/33 [==============================] - 0s 2ms/step - loss: 0.0992 - accuracy: 0.9751 - val_loss: 0.1288 - val_accuracy: 0.9573\n",
      "Epoch 24/50\n",
      "33/33 [==============================] - 0s 2ms/step - loss: 0.0995 - accuracy: 0.9741 - val_loss: 0.1299 - val_accuracy: 0.9573\n",
      "Epoch 25/50\n",
      "33/33 [==============================] - 0s 2ms/step - loss: 0.0980 - accuracy: 0.9741 - val_loss: 0.1303 - val_accuracy: 0.9573\n",
      "Epoch 26/50\n",
      "33/33 [==============================] - 0s 2ms/step - loss: 0.0975 - accuracy: 0.9761 - val_loss: 0.1253 - val_accuracy: 0.9573\n",
      "Epoch 27/50\n",
      "33/33 [==============================] - 0s 2ms/step - loss: 0.0977 - accuracy: 0.9761 - val_loss: 0.1269 - val_accuracy: 0.9573\n",
      "Epoch 28/50\n",
      "33/33 [==============================] - ETA: 0s - loss: 0.1054 - accuracy: 0.97 - 0s 2ms/step - loss: 0.0994 - accuracy: 0.9751 - val_loss: 0.1285 - val_accuracy: 0.9573\n",
      "Epoch 29/50\n",
      "33/33 [==============================] - 0s 2ms/step - loss: 0.0988 - accuracy: 0.9732 - val_loss: 0.1297 - val_accuracy: 0.9573\n",
      "Epoch 30/50\n",
      "33/33 [==============================] - 0s 2ms/step - loss: 0.0974 - accuracy: 0.9751 - val_loss: 0.1270 - val_accuracy: 0.9573\n",
      "Epoch 31/50\n",
      "33/33 [==============================] - 0s 2ms/step - loss: 0.0965 - accuracy: 0.9751 - val_loss: 0.1235 - val_accuracy: 0.9573\n",
      "Epoch 32/50\n",
      "33/33 [==============================] - 0s 2ms/step - loss: 0.0980 - accuracy: 0.9751 - val_loss: 0.1300 - val_accuracy: 0.9573\n",
      "Epoch 33/50\n",
      "33/33 [==============================] - 0s 2ms/step - loss: 0.0966 - accuracy: 0.9770 - val_loss: 0.1326 - val_accuracy: 0.9658\n",
      "Epoch 34/50\n",
      "33/33 [==============================] - 0s 2ms/step - loss: 0.0953 - accuracy: 0.9751 - val_loss: 0.1230 - val_accuracy: 0.9573\n",
      "Epoch 35/50\n",
      "33/33 [==============================] - 0s 2ms/step - loss: 0.0960 - accuracy: 0.9732 - val_loss: 0.1236 - val_accuracy: 0.9573\n",
      "Epoch 36/50\n",
      "33/33 [==============================] - 0s 2ms/step - loss: 0.0980 - accuracy: 0.9761 - val_loss: 0.1326 - val_accuracy: 0.9573\n",
      "Epoch 37/50\n",
      "33/33 [==============================] - 0s 2ms/step - loss: 0.0987 - accuracy: 0.9761 - val_loss: 0.1266 - val_accuracy: 0.9573\n",
      "Epoch 38/50\n",
      "33/33 [==============================] - 0s 2ms/step - loss: 0.0955 - accuracy: 0.9751 - val_loss: 0.1250 - val_accuracy: 0.9573\n",
      "Epoch 39/50\n",
      "33/33 [==============================] - 0s 2ms/step - loss: 0.0974 - accuracy: 0.9751 - val_loss: 0.1355 - val_accuracy: 0.9658\n",
      "Epoch 40/50\n",
      "33/33 [==============================] - 0s 2ms/step - loss: 0.0997 - accuracy: 0.9770 - val_loss: 0.1280 - val_accuracy: 0.9658\n",
      "Epoch 41/50\n",
      "33/33 [==============================] - 0s 2ms/step - loss: 0.0958 - accuracy: 0.9751 - val_loss: 0.1283 - val_accuracy: 0.9573\n",
      "Epoch 42/50\n",
      "33/33 [==============================] - 0s 2ms/step - loss: 0.0963 - accuracy: 0.9741 - val_loss: 0.1256 - val_accuracy: 0.9573\n",
      "Epoch 43/50\n",
      "33/33 [==============================] - 0s 2ms/step - loss: 0.0956 - accuracy: 0.9741 - val_loss: 0.1222 - val_accuracy: 0.9573\n",
      "Epoch 44/50\n",
      "33/33 [==============================] - 0s 2ms/step - loss: 0.0990 - accuracy: 0.9751 - val_loss: 0.1225 - val_accuracy: 0.9573\n",
      "Epoch 45/50\n",
      "33/33 [==============================] - 0s 2ms/step - loss: 0.0949 - accuracy: 0.9751 - val_loss: 0.1295 - val_accuracy: 0.9573\n",
      "Epoch 46/50\n",
      "33/33 [==============================] - 0s 2ms/step - loss: 0.0937 - accuracy: 0.9761 - val_loss: 0.1513 - val_accuracy: 0.9487\n",
      "Epoch 47/50\n",
      "33/33 [==============================] - 0s 2ms/step - loss: 0.0995 - accuracy: 0.9761 - val_loss: 0.1317 - val_accuracy: 0.9573\n",
      "Epoch 48/50\n",
      "33/33 [==============================] - 0s 2ms/step - loss: 0.1002 - accuracy: 0.9741 - val_loss: 0.1269 - val_accuracy: 0.9573\n",
      "Epoch 49/50\n",
      "33/33 [==============================] - 0s 2ms/step - loss: 0.0959 - accuracy: 0.9751 - val_loss: 0.1246 - val_accuracy: 0.9573\n"
     ]
    },
    {
     "data": {
      "text/plain": [
       "<keras.callbacks.History at 0x280708a8e48>"
      ]
     },
     "execution_count": 18,
     "metadata": {},
     "output_type": "execute_result"
    }
   ],
   "source": [
    "model.fit(train_x, train_y, epochs=epochs, validation_split=0.1, callbacks=[callbacks])"
   ]
  },
  {
   "cell_type": "code",
   "execution_count": 19,
   "metadata": {},
   "outputs": [],
   "source": [
    "# model.save_weights('bestModel/my_model_weights.h5')"
   ]
  },
  {
   "cell_type": "code",
   "execution_count": 20,
   "metadata": {},
   "outputs": [
    {
     "name": "stdout",
     "output_type": "stream",
     "text": [
      "5/5 [==============================] - 0s 1000us/step - loss: 0.1279 - accuracy: 0.9692\n"
     ]
    }
   ],
   "source": [
    "result = model.evaluate(test_x, test_y)"
   ]
  },
  {
   "cell_type": "code",
   "execution_count": 21,
   "metadata": {},
   "outputs": [],
   "source": [
    "y_pred = model.predict(test_x)"
   ]
  },
  {
   "cell_type": "code",
   "execution_count": 22,
   "metadata": {},
   "outputs": [],
   "source": [
    "from tensorflow.python.ops.numpy_ops import np_config\n",
    "np_config.enable_numpy_behavior()"
   ]
  },
  {
   "cell_type": "code",
   "execution_count": 23,
   "metadata": {},
   "outputs": [],
   "source": [
    "argmax_y_pred = np.argmax(y_pred, axis=1)\n",
    "argmax_test_y = np.argmax(test_y, axis=1)"
   ]
  },
  {
   "cell_type": "code",
   "execution_count": 24,
   "metadata": {},
   "outputs": [],
   "source": [
    "from sklearn.metrics import accuracy_score, roc_auc_score\n",
    "from evaluate import calculate_BS, f1, show_eval_result_2class\n",
    "\n",
    "acc_score = accuracy_score(argmax_test_y, argmax_y_pred)\n",
    "f1_score = f1(argmax_test_y, argmax_y_pred)\n",
    "auc_score = roc_auc_score(test_y, y_pred)\n",
    "BS = calculate_BS(test_y, y_pred, 2)"
   ]
  },
  {
   "cell_type": "code",
   "execution_count": 25,
   "metadata": {},
   "outputs": [
    {
     "name": "stdout",
     "output_type": "stream",
     "text": [
      "accuracy:    0.97\n",
      "f1:          0.98\n",
      "auc:         0.98\n",
      "BS:          0.03\n"
     ]
    }
   ],
   "source": [
    "print('accuracy:    {:.2f}'.format(acc_score))\n",
    "print('f1:          {:.2f}'.format(f1_score))\n",
    "print('auc:         {:.2f}'.format(auc_score))\n",
    "print('BS:          {:.2f}'.format(BS['BS'][0]))"
   ]
  },
  {
   "cell_type": "code",
   "execution_count": 26,
   "metadata": {},
   "outputs": [],
   "source": [
    "def output_result(type):\n",
    "    if(type == 'permute'):\n",
    "        output_path = 'permute_feature_result.txt'\n",
    "        f = open(output_path, 'a')\n",
    "        f.write('Permuted feature: ' + feature + '\\n')\n",
    "        f.write('-'*40 + '\\n')\n",
    "        f.write('accuracy:    {:.2f}'.format(acc_score) + '\\n')\n",
    "        f.write('f1:          {:.2f}'.format(f1_score) + '\\n')\n",
    "        f.write('auc:         {:.2f}'.format(auc_score) + '\\n')\n",
    "        f.write('BS:          {:.2f}'.format(BS['BS'][0]) + '\\n')\n",
    "        f.write('\\n' + '='*40 + '\\n')\n",
    "        f.close()\n",
    "    elif(type == 'mode'):\n",
    "        output_path = 'replaced_by_mode_result.txt'\n",
    "        f = open(output_path, 'a')\n",
    "        f.write('Fixed feature: ' + feature + '\\n')\n",
    "        f.write('-'*40 + '\\n')\n",
    "        f.write('accuracy:    {:.2f}'.format(acc_score) + '\\n')\n",
    "        f.write('f1:          {:.2f}'.format(f1_score) + '\\n')\n",
    "        f.write('auc:         {:.2f}'.format(auc_score) + '\\n')\n",
    "        f.write('BS:          {:.2f}'.format(BS['BS'][0]) + '\\n')\n",
    "        f.write('\\n' + '='*40 + '\\n')\n",
    "    elif(type == 'attention'):\n",
    "        output_path = 'attention_result.txt'\n",
    "        f = open(output_path, 'a')\n",
    "        f.write('Permuted feature: ' + feature + '\\n')\n",
    "        f.write('-'*40 + '\\n')\n",
    "        f.write('accuracy:    {:.2f}'.format(acc_score) + '\\n')\n",
    "        f.write('f1:          {:.2f}'.format(f1_score) + '\\n')\n",
    "        f.write('auc:         {:.2f}'.format(auc_score) + '\\n')\n",
    "        f.write('BS:          {:.2f}'.format(BS['BS'][0]) + '\\n')\n",
    "        f.write('\\n' + '='*40 + '\\n')\n",
    "        f.close()"
   ]
  },
  {
   "cell_type": "code",
   "execution_count": 27,
   "metadata": {},
   "outputs": [],
   "source": [
    "# output_result('permute')\n",
    "# output_result('mode')"
   ]
  },
  {
   "cell_type": "code",
   "execution_count": null,
   "metadata": {},
   "outputs": [],
   "source": []
  }
 ],
 "metadata": {
  "kernelspec": {
   "display_name": "SportsScience",
   "language": "python",
   "name": "python3"
  },
  "language_info": {
   "codemirror_mode": {
    "name": "ipython",
    "version": 3
   },
   "file_extension": ".py",
   "mimetype": "text/x-python",
   "name": "python",
   "nbconvert_exporter": "python",
   "pygments_lexer": "ipython3",
   "version": "3.6.13"
  },
  "orig_nbformat": 4
 },
 "nbformat": 4,
 "nbformat_minor": 2
}
