{
 "cells": [
  {
   "cell_type": "code",
   "execution_count": 1,
   "metadata": {},
   "outputs": [],
   "source": [
    "import tensorflow as tf\n",
    "import pandas as pd\n",
    "import numpy as np\n",
    "from keras.preprocessing.sequence import pad_sequences\n",
    "import keras\n",
    "from keras.layers import Embedding, Masking, Concatenate, GRU, Dense, Reshape\n",
    "from model import CNN_with_mask\n",
    "\n",
    "from get_training_data import get_rally_result, get_padding_data, permute_feature"
   ]
  },
  {
   "cell_type": "code",
   "execution_count": 2,
   "metadata": {},
   "outputs": [],
   "source": [
    "np.random.seed(44)\n",
    "tf.random.set_seed(44)"
   ]
  },
  {
   "cell_type": "code",
   "execution_count": 3,
   "metadata": {},
   "outputs": [],
   "source": [
    "df = pd.read_csv('new_test.csv')"
   ]
  },
  {
   "cell_type": "code",
   "execution_count": 4,
   "metadata": {},
   "outputs": [],
   "source": [
    "# def replaced_by_mode(df, ex_feature):\n",
    "#     if(ex_feature == 'Original'):\n",
    "#         return df\n",
    "#     col = ['Team', 'No.', 'Space', 'Action']\n",
    "#     col.remove(ex_feature)\n",
    "#     for c in col:\n",
    "#         mode = df.mode(axis=0)[c][0]\n",
    "#         replace = {list(df.groupby(c).groups.keys())[i]: mode for i in range(len(df.groupby(c)))}\n",
    "#         df[c] = df[c].replace(replace)\n",
    "\n",
    "#     return df"
   ]
  },
  {
   "attachments": {},
   "cell_type": "markdown",
   "metadata": {},
   "source": [
    "Feature: Team, No., Space, Action"
   ]
  },
  {
   "cell_type": "code",
   "execution_count": 5,
   "metadata": {},
   "outputs": [],
   "source": [
    "feature_list = [['Player', 'Space'], ['Player', 'Action'], ['Player', 'Sequence'], ['Space', 'Action'], ['Space', 'Sequence'], ['Action', 'Sequence']]"
   ]
  },
  {
   "cell_type": "code",
   "execution_count": 6,
   "metadata": {},
   "outputs": [
    {
     "name": "stdout",
     "output_type": "stream",
     "text": [
      "   Game  Rally  Player Team Space Action  Errors  Nothing  Score\n",
      "0    21   25.0   ITA_6  USA     6   JS_0     NaN      1.0    NaN\n",
      "1    21   25.0  ITA_15  BRA     1    R_0     NaN      1.0    NaN\n",
      "2    21   25.0   USA_2  BRA     6    G_0     NaN      1.0    NaN\n",
      "3    21   25.0   ITA_6  BRA     2    A_0     NaN      NaN    1.0\n",
      "4    21   25.0   ITA_5  USA     5    D_0     1.0      NaN    NaN\n",
      "   Game  Rally  Player Team Space Action  Errors  Nothing  Score\n",
      "0    21   25.0  ITA_15  USA     6    D_0     NaN      1.0    NaN\n",
      "1    21   25.0  POL_19  BRA     1    A_0     NaN      1.0    NaN\n",
      "2    21   25.0   ITA_6  BRA     6    R_0     NaN      1.0    NaN\n",
      "3    21   25.0  FRA_19  BRA     2    G_1     NaN      NaN    1.0\n",
      "4    21   25.0  FRA_19  USA     5    R_1     1.0      NaN    NaN\n",
      "  Game  Rally  Player Team Space Action  Errors  Nothing  Score\n",
      "0   14    6.0   ITA_7  POL     1   At_0     1.0      NaN    NaN\n",
      "0   21   15.0   NED_7  BRA     Y   JS_0     NaN      1.0    NaN\n",
      "1   21   15.0  FRA_14  BRA     7    R_0     NaN      1.0    NaN\n",
      "2   21   15.0  FRA_17  BRA     3    B_0     NaN      1.0    NaN\n",
      "3   21   15.0  POL_19  USA     2    G_1     NaN      1.0    NaN\n",
      "  Game  Rally  Player Team Space Action  Errors  Nothing  Score\n",
      "0   14    6.0   ITA_7  POL     1    A_0     1.0      NaN    NaN\n",
      "0   21   15.0   NED_7  BRA     1    A_0     NaN      1.0    NaN\n",
      "1   21   15.0  FRA_14  BRA     6    R_0     NaN      1.0    NaN\n",
      "2   21   15.0  FRA_17  BRA     6    R_0     NaN      1.0    NaN\n",
      "3   21   15.0  POL_19  USA     4    D_0     NaN      1.0    NaN\n",
      "  Game  Rally  Player Team Space Action  Errors  Nothing  Score\n",
      "0   25    7.0  BRA_17  USA     L   FS_0     NaN      1.0    NaN\n",
      "1   25    7.0   NED_2  USA     L    D_0     NaN      1.0    NaN\n",
      "2   25    7.0   IRI_1  USA     6    A_0     NaN      1.0    NaN\n",
      "3   25    7.0  ITA_15  FRA     4    R_1     NaN      1.0    NaN\n",
      "4   25    7.0  FRA_17  FRA     6    G_1     NaN      1.0    NaN\n",
      "  Game  Rally  Player Team Space Action  Errors  Nothing  Score\n",
      "0   28   44.0   POL_7  POL     1    A_0     1.0      NaN    NaN\n",
      "1   28   44.0  ITA_17  POL     1   FS_0     NaN      1.0    NaN\n",
      "2   28   44.0  USA_11  POL     4    A_0     NaN      1.0    NaN\n",
      "3   28   44.0   JAP_8  POL     2   FS_0     NaN      1.0    NaN\n",
      "4   28   44.0   BRA_1  USA     L    R_0     NaN      1.0    NaN\n"
     ]
    }
   ],
   "source": [
    "for experiment in feature_list:\n",
    "    ############# permutation #############################\n",
    "    for f in experiment:\n",
    "        df = permute_feature(df, f)\n",
    "    ############# train for result ########################\n",
    "    model = training(df)\n",
    "    \n"
   ]
  },
  {
   "cell_type": "code",
   "execution_count": 5,
   "metadata": {},
   "outputs": [],
   "source": [
    "feature_1 = 'Space'\n",
    "feature_2 = 'Player'\n",
    "df = permute_feature(df, feature_1)\n",
    "df = permute_feature(df, feature_2)\n",
    "\n",
    "# df = replaced_by_mode(df, feature)"
   ]
  },
  {
   "cell_type": "code",
   "execution_count": 6,
   "metadata": {},
   "outputs": [
    {
     "data": {
      "text/html": [
       "<div>\n",
       "<style scoped>\n",
       "    .dataframe tbody tr th:only-of-type {\n",
       "        vertical-align: middle;\n",
       "    }\n",
       "\n",
       "    .dataframe tbody tr th {\n",
       "        vertical-align: top;\n",
       "    }\n",
       "\n",
       "    .dataframe thead th {\n",
       "        text-align: right;\n",
       "    }\n",
       "</style>\n",
       "<table border=\"1\" class=\"dataframe\">\n",
       "  <thead>\n",
       "    <tr style=\"text-align: right;\">\n",
       "      <th></th>\n",
       "      <th>Game</th>\n",
       "      <th>Rally</th>\n",
       "      <th>Player</th>\n",
       "      <th>Team</th>\n",
       "      <th>Space</th>\n",
       "      <th>Action</th>\n",
       "      <th>Errors</th>\n",
       "      <th>Nothing</th>\n",
       "      <th>Score</th>\n",
       "    </tr>\n",
       "  </thead>\n",
       "  <tbody>\n",
       "    <tr>\n",
       "      <th>0</th>\n",
       "      <td>21</td>\n",
       "      <td>25.0</td>\n",
       "      <td>ITA_6</td>\n",
       "      <td>USA</td>\n",
       "      <td>6</td>\n",
       "      <td>JS_0</td>\n",
       "      <td>NaN</td>\n",
       "      <td>1.0</td>\n",
       "      <td>NaN</td>\n",
       "    </tr>\n",
       "    <tr>\n",
       "      <th>1</th>\n",
       "      <td>21</td>\n",
       "      <td>25.0</td>\n",
       "      <td>ITA_15</td>\n",
       "      <td>BRA</td>\n",
       "      <td>1</td>\n",
       "      <td>R_0</td>\n",
       "      <td>NaN</td>\n",
       "      <td>1.0</td>\n",
       "      <td>NaN</td>\n",
       "    </tr>\n",
       "    <tr>\n",
       "      <th>2</th>\n",
       "      <td>21</td>\n",
       "      <td>25.0</td>\n",
       "      <td>USA_2</td>\n",
       "      <td>BRA</td>\n",
       "      <td>6</td>\n",
       "      <td>G_0</td>\n",
       "      <td>NaN</td>\n",
       "      <td>1.0</td>\n",
       "      <td>NaN</td>\n",
       "    </tr>\n",
       "    <tr>\n",
       "      <th>3</th>\n",
       "      <td>21</td>\n",
       "      <td>25.0</td>\n",
       "      <td>ITA_6</td>\n",
       "      <td>BRA</td>\n",
       "      <td>2</td>\n",
       "      <td>A_0</td>\n",
       "      <td>NaN</td>\n",
       "      <td>NaN</td>\n",
       "      <td>1.0</td>\n",
       "    </tr>\n",
       "    <tr>\n",
       "      <th>4</th>\n",
       "      <td>21</td>\n",
       "      <td>25.0</td>\n",
       "      <td>ITA_5</td>\n",
       "      <td>USA</td>\n",
       "      <td>5</td>\n",
       "      <td>D_0</td>\n",
       "      <td>1.0</td>\n",
       "      <td>NaN</td>\n",
       "      <td>NaN</td>\n",
       "    </tr>\n",
       "  </tbody>\n",
       "</table>\n",
       "</div>"
      ],
      "text/plain": [
       "   Game  Rally  Player Team Space Action  Errors  Nothing  Score\n",
       "0    21   25.0   ITA_6  USA     6   JS_0     NaN      1.0    NaN\n",
       "1    21   25.0  ITA_15  BRA     1    R_0     NaN      1.0    NaN\n",
       "2    21   25.0   USA_2  BRA     6    G_0     NaN      1.0    NaN\n",
       "3    21   25.0   ITA_6  BRA     2    A_0     NaN      NaN    1.0\n",
       "4    21   25.0   ITA_5  USA     5    D_0     1.0      NaN    NaN"
      ]
     },
     "execution_count": 6,
     "metadata": {},
     "output_type": "execute_result"
    }
   ],
   "source": [
    "df.head(5)"
   ]
  },
  {
   "cell_type": "code",
   "execution_count": null,
   "metadata": {},
   "outputs": [],
   "source": [
    "def training(df):\n",
    "    space_replace = {list(df.groupby('Space').groups.keys())[i]: i+1 for i in range(len(df.groupby('Space')))}\n",
    "    action_replace = {list(df.groupby('Action').groups.keys())[i]: i+1 for i in range(len(df.groupby('Action')))}\n",
    "    df = pd.get_dummies(df, columns=['Player'])\n",
    "    df = df.replace(space_replace)\n",
    "    df = df.replace(action_replace)\n",
    "    # get label\n",
    "    label, ignor = get_rally_result(df)\n",
    "    # get training data\n",
    "    rally_set, rally_space_set, rally_action_set= get_padding_data(df, ignor)\n",
    "    rally_space_set = rally_space_set.squeeze()\n",
    "    rally_action_set = rally_action_set.squeeze()\n",
    "    rally_set_tensor = tf.convert_to_tensor(rally_set)\n",
    "    rally_space_set_tensor = tf.convert_to_tensor(rally_space_set)\n",
    "    rally_action_set_tensor = tf.convert_to_tensor(rally_action_set)\n",
    "    rally_result_tensor = tf.convert_to_tensor(label)\n",
    "\n",
    "    train_x, train_y, test_x, test_y = split_data(rally_set_tensor, rally_space_set_tensor, rally_action_set_tensor, rally_result_tensor)\n",
    "    # setting\n",
    "    rally_size = rally_set.shape[1]\n",
    "    shot_size = 3\n",
    "    feature_dim = (rally_set.shape[-1], len(df.groupby('Space'))+1, len(df.groupby('Action'))+1)\n",
    "    space_embed_size = 8\n",
    "    action_embed_size = 8\n",
    "    shot_embed_size = 16\n",
    "    # create model\n",
    "    model = create_model(feature_dim, space_embed_size, action_embed_size, shot_embed_size)\n",
    "    optimizer = 'adam'\n",
    "    loss = keras.losses.CategoricalCrossentropy()\n",
    "    metrics = ['accuracy']\n",
    "    epochs = 30\n",
    "    callbacks = tf.keras.callbacks.EarlyStopping(min_delta=0.002, patience=15, restore_best_weights=True, monitor='val_loss')\n",
    "\n",
    "    model.compile(optimizer=optimizer, loss=loss, metrics=metrics)\n",
    "    model.fit(train_x, train_y, epochs=epochs, validation_split=0.1, callbacks=[callbacks])\n",
    "\n",
    "    return model"
   ]
  },
  {
   "cell_type": "code",
   "execution_count": 7,
   "metadata": {},
   "outputs": [],
   "source": [
    "space_replace = {list(df.groupby('Space').groups.keys())[i]: i+1 for i in range(len(df.groupby('Space')))}\n",
    "action_replace = {list(df.groupby('Action').groups.keys())[i]: i+1 for i in range(len(df.groupby('Action')))}\n",
    "\n",
    "# df = pd.get_dummies(df, columns=['Team', 'No.'])\n",
    "df = pd.get_dummies(df, columns=['Player'])\n",
    "df = df.replace(space_replace)\n",
    "df = df.replace(action_replace)"
   ]
  },
  {
   "cell_type": "code",
   "execution_count": 8,
   "metadata": {},
   "outputs": [],
   "source": [
    "label, ignor = get_rally_result(df)"
   ]
  },
  {
   "cell_type": "code",
   "execution_count": 9,
   "metadata": {},
   "outputs": [
    {
     "name": "stdout",
     "output_type": "stream",
     "text": [
      "(1291, 19, 3, 127)\n",
      "(1291, 19, 3, 1)\n",
      "(1291, 19, 3, 1)\n",
      "(1291, 2)\n"
     ]
    }
   ],
   "source": [
    "rally_set, rally_space_set, rally_action_set= get_padding_data(df, ignor)\n",
    "\n",
    "# rally數, 最大回合數in one rally, 3, feature數\n",
    "print(rally_set.shape)\n",
    "print(rally_space_set.shape)\n",
    "print(rally_action_set.shape)\n",
    "print(label.shape)"
   ]
  },
  {
   "cell_type": "code",
   "execution_count": 10,
   "metadata": {},
   "outputs": [],
   "source": [
    "rally_space_set = rally_space_set.squeeze()\n",
    "rally_action_set = rally_action_set.squeeze()"
   ]
  },
  {
   "cell_type": "code",
   "execution_count": 11,
   "metadata": {},
   "outputs": [],
   "source": [
    "rally_set_tensor = tf.convert_to_tensor(rally_set)\n",
    "rally_space_set_tensor = tf.convert_to_tensor(rally_space_set)\n",
    "rally_action_set_tensor = tf.convert_to_tensor(rally_action_set)\n",
    "rally_result_tensor = tf.convert_to_tensor(label)"
   ]
  },
  {
   "cell_type": "code",
   "execution_count": 12,
   "metadata": {},
   "outputs": [],
   "source": [
    "from keras_self_attention import SeqWeightedAttention"
   ]
  },
  {
   "cell_type": "code",
   "execution_count": 13,
   "metadata": {},
   "outputs": [],
   "source": [
    "class TestAttention(keras.layers.Layer):\n",
    "    def __init__(self, input_dim=32):\n",
    "        super().__init__()\n",
    "        self.w = self.add_weight(\n",
    "            shape=(input_dim, input_dim), initializer=\"random_normal\", trainable=True\n",
    "        )\n",
    "        self.b = self.add_weight(shape=(input_dim,), initializer=\"random_normal\", trainable=True)\n",
    "\n",
    "    def call(self, inputs):\n",
    "        # Hadamard product\n",
    "        product_x = tf.matmul(inputs, self.w) + self.b\n",
    "        soft_x = tf.nn.softmax(product_x)\n",
    "        output = tf.multiply(inputs, soft_x)\n",
    "        return soft_x\n",
    "    def compute_mask(self, inputs, mask=None):\n",
    "        return mask\n",
    "    def get_config(self):\n",
    "        config = super().get_config().copy()\n",
    "        config.update({\n",
    "            'con_layer': self.con_layer\n",
    "        })\n",
    "        return config"
   ]
  },
  {
   "cell_type": "code",
   "execution_count": 14,
   "metadata": {},
   "outputs": [],
   "source": [
    "# rally_num = rally_set.shape[0]\n",
    "rally_size = rally_set.shape[1]\n",
    "shot_size = 3\n",
    "feature_dim = (rally_set.shape[-1], len(df.groupby('Space'))+1, len(df.groupby('Action'))+1)\n",
    "space_embed_size = 8\n",
    "action_embed_size = 8\n",
    "shot_embed_size = 16"
   ]
  },
  {
   "cell_type": "code",
   "execution_count": 15,
   "metadata": {},
   "outputs": [],
   "source": [
    "def create_model(feature_dim, space_embed_size, action_embed_size, shot_embed_size):\n",
    "    '''\n",
    "    framework: \n",
    "    1. 對 space, action 做 embeding, (input, output) = (feature_dim, embed_size)\n",
    "    2. concat space, action, others 成一個 embedded vector for each atk, (input) =  ([feature_dim, embed_size, embed_size])\n",
    "    3. 先做 embedding\n",
    "    4. CNN, filters = shot_embed_size\n",
    "    5. GRU\n",
    "    '''\n",
    "    # each input: 三個維度, rally shot feature\n",
    "    input_others = keras.Input(shape=(rally_size, shot_size, feature_dim[0]))\n",
    "    input_space = keras.Input(shape=(rally_size, shot_size))\n",
    "    input_action = keras.Input(shape=(rally_size, shot_size))\n",
    "\n",
    "    # space & action 先做 embedding, 再和 others concat\n",
    "    embed_space_layer = Embedding(input_dim=feature_dim[1], output_dim=space_embed_size, mask_zero=True, name='Space_Embedding')\n",
    "    embed_action_layer = Embedding(input_dim=feature_dim[2], output_dim=action_embed_size, mask_zero=True, name='Action_Embedding')\n",
    "    masking_layer = Masking(mask_value=0)\n",
    "    concat_layer = Concatenate(name='Input_Concat')\n",
    "\n",
    "    # attention_layer = TestAttention(input_dim=feature_dim[0]+space_embed_size+action_embed_size)\n",
    "\n",
    "    embed_shot_layer = CNN_with_mask(kernel_size=3, filters=shot_embed_size, strides=3, name='Shot_Embedding')\n",
    "    cnn_layer = CNN_with_mask(kernel_size=3, filters=shot_embed_size, strides=1, name='CNN_Layer')\n",
    "    gru_layer = GRU(units=16, name='GRU_Layer')\n",
    "\n",
    "    # gru_layer = GRU(return_sequences=True, units=16, name='GRU_Layer')\n",
    "    # layer_attention = SeqWeightedAttention(return_attention=True)\n",
    "\n",
    "    dense_layer = Dense(units=2, activation='softmax')\n",
    "\n",
    "    # forward\n",
    "    inputs = [input_others, input_space, input_action]\n",
    "\n",
    "    embed_space = embed_space_layer(input_space)\n",
    "    embed_action = embed_action_layer(input_action)\n",
    "    masked_others = masking_layer(tf.cast(input_others, tf.float32))\n",
    "    embed_input = concat_layer([masked_others, embed_space, embed_action])\n",
    "\n",
    "    # attention_input = attention_layer(embed_input)\n",
    "    # embed_shot = tf.squeeze(embed_shot_layer(attention_input), axis=2)\n",
    "\n",
    "    embed_shot = tf.squeeze(embed_shot_layer(embed_input), axis=2)\n",
    "\n",
    "    cnn_output = cnn_layer(embed_shot)\n",
    "    gru_output = gru_layer(cnn_output)\n",
    "\n",
    "    # rally_represent, contributions = layer_attention(gru_output)\n",
    "    # output = dense_layer(rally_represent)\n",
    "\n",
    "    output = dense_layer(gru_output)\n",
    "    model = keras.Model(inputs=inputs, outputs=output, name='Classification')\n",
    "\n",
    "    # model_attention = tf.keras.Model(inputs=inputs, outputs=contributions, name='Attention')\n",
    "    # return model, model_attention\n",
    "    return model"
   ]
  },
  {
   "cell_type": "code",
   "execution_count": 16,
   "metadata": {},
   "outputs": [
    {
     "name": "stdout",
     "output_type": "stream",
     "text": [
      "Model: \"Classification\"\n",
      "__________________________________________________________________________________________________\n",
      "Layer (type)                    Output Shape         Param #     Connected to                     \n",
      "==================================================================================================\n",
      "input_1 (InputLayer)            [(None, 19, 3, 127)] 0                                            \n",
      "__________________________________________________________________________________________________\n",
      "tf.cast (TFOpLambda)            (None, 19, 3, 127)   0           input_1[0][0]                    \n",
      "__________________________________________________________________________________________________\n",
      "input_2 (InputLayer)            [(None, 19, 3)]      0                                            \n",
      "__________________________________________________________________________________________________\n",
      "input_3 (InputLayer)            [(None, 19, 3)]      0                                            \n",
      "__________________________________________________________________________________________________\n",
      "masking (Masking)               (None, 19, 3, 127)   0           tf.cast[0][0]                    \n",
      "__________________________________________________________________________________________________\n",
      "Space_Embedding (Embedding)     (None, 19, 3, 8)     152         input_2[0][0]                    \n",
      "__________________________________________________________________________________________________\n",
      "Action_Embedding (Embedding)    (None, 19, 3, 8)     128         input_3[0][0]                    \n",
      "__________________________________________________________________________________________________\n",
      "Input_Concat (Concatenate)      (None, 19, 3, 143)   0           masking[0][0]                    \n",
      "                                                                 Space_Embedding[0][0]            \n",
      "                                                                 Action_Embedding[0][0]           \n",
      "__________________________________________________________________________________________________\n",
      "test_attention (TestAttention)  (None, 19, 3, 143)   20592       Input_Concat[0][0]               \n",
      "__________________________________________________________________________________________________\n",
      "cnn_with_mask (CNN_with_mask)   (None, 19, 1, 16)    6880        test_attention[0][0]             \n",
      "__________________________________________________________________________________________________\n",
      "tf.compat.v1.squeeze (TFOpLambd (None, 19, 16)       0           cnn_with_mask[0][0]              \n",
      "__________________________________________________________________________________________________\n",
      "cnn_with_mask_1 (CNN_with_mask) (None, 19, 16)       784         tf.compat.v1.squeeze[0][0]       \n",
      "__________________________________________________________________________________________________\n",
      "GRU_Layer (GRU)                 (None, 16)           1632        cnn_with_mask_1[0][0]            \n",
      "__________________________________________________________________________________________________\n",
      "dense (Dense)                   (None, 2)            34          GRU_Layer[0][0]                  \n",
      "==================================================================================================\n",
      "Total params: 30,202\n",
      "Trainable params: 30,202\n",
      "Non-trainable params: 0\n",
      "__________________________________________________________________________________________________\n"
     ]
    }
   ],
   "source": [
    "# model, model_attention = create_model(feature_dim, space_embed_size, action_embed_size, shot_embed_size)\n",
    "model = create_model(feature_dim, space_embed_size, action_embed_size, shot_embed_size)\n",
    "model.summary()"
   ]
  },
  {
   "cell_type": "code",
   "execution_count": 17,
   "metadata": {},
   "outputs": [],
   "source": [
    "def split_data(others_tensor, space_tensor, action_tensor, label_tensor):\n",
    "    l = label_tensor.shape[0]\n",
    "    split_persentage = int(l*0.9)\n",
    "\n",
    "    train_space = space_tensor[:split_persentage]\n",
    "    train_action = action_tensor[:split_persentage]\n",
    "    train_others = others_tensor[:split_persentage]\n",
    "    train_label = label[:split_persentage]\n",
    "\n",
    "    test_space = space_tensor[split_persentage:]\n",
    "    test_action = action_tensor[split_persentage:]\n",
    "    test_others = others_tensor[split_persentage:]\n",
    "    test_label = label[split_persentage:]\n",
    "\n",
    "    train_x = [train_others, train_space, train_action]\n",
    "    train_y = train_label\n",
    "\n",
    "    test_x = [test_others, test_space, test_action]\n",
    "    test_y = test_label\n",
    "\n",
    "    return train_x, train_y, test_x, test_y"
   ]
  },
  {
   "cell_type": "code",
   "execution_count": 18,
   "metadata": {},
   "outputs": [],
   "source": [
    "train_x, train_y, test_x, test_y = split_data(rally_set_tensor, rally_space_set_tensor, rally_action_set_tensor, rally_result_tensor)"
   ]
  },
  {
   "cell_type": "code",
   "execution_count": 19,
   "metadata": {},
   "outputs": [],
   "source": [
    "optimizer = 'adam'\n",
    "loss = keras.losses.CategoricalCrossentropy()\n",
    "metrics = ['accuracy']\n",
    "epochs = 30\n",
    "callbacks = tf.keras.callbacks.EarlyStopping(min_delta=0.002, patience=15, restore_best_weights=True, monitor='val_loss')\n",
    "\n",
    "model.compile(optimizer=optimizer, loss=loss, metrics=metrics)"
   ]
  },
  {
   "cell_type": "code",
   "execution_count": 20,
   "metadata": {},
   "outputs": [
    {
     "name": "stdout",
     "output_type": "stream",
     "text": [
      "Epoch 1/30\n",
      "33/33 [==============================] - 3s 42ms/step - loss: 0.6530 - accuracy: 0.6523 - val_loss: 0.6048 - val_accuracy: 0.7094\n",
      "Epoch 2/30\n",
      "33/33 [==============================] - 1s 34ms/step - loss: 0.6437 - accuracy: 0.6600 - val_loss: 0.6070 - val_accuracy: 0.7094\n",
      "Epoch 3/30\n",
      "33/33 [==============================] - 1s 33ms/step - loss: 0.6441 - accuracy: 0.6600 - val_loss: 0.6075 - val_accuracy: 0.7094\n",
      "Epoch 4/30\n",
      "33/33 [==============================] - 1s 31ms/step - loss: 0.6436 - accuracy: 0.6600 - val_loss: 0.6186 - val_accuracy: 0.7094\n",
      "Epoch 5/30\n",
      "33/33 [==============================] - 1s 31ms/step - loss: 0.6429 - accuracy: 0.6600 - val_loss: 0.6077 - val_accuracy: 0.7094\n",
      "Epoch 6/30\n",
      "33/33 [==============================] - 1s 31ms/step - loss: 0.6420 - accuracy: 0.6600 - val_loss: 0.6088 - val_accuracy: 0.7094\n",
      "Epoch 7/30\n",
      "33/33 [==============================] - 1s 31ms/step - loss: 0.6417 - accuracy: 0.6600 - val_loss: 0.6114 - val_accuracy: 0.7094\n",
      "Epoch 8/30\n",
      "33/33 [==============================] - 1s 31ms/step - loss: 0.6419 - accuracy: 0.6600 - val_loss: 0.6090 - val_accuracy: 0.7094\n",
      "Epoch 9/30\n",
      "33/33 [==============================] - 1s 32ms/step - loss: 0.6446 - accuracy: 0.6600 - val_loss: 0.6050 - val_accuracy: 0.7094\n",
      "Epoch 10/30\n",
      "33/33 [==============================] - 1s 33ms/step - loss: 0.6415 - accuracy: 0.6600 - val_loss: 0.6107 - val_accuracy: 0.7094\n",
      "Epoch 11/30\n",
      "33/33 [==============================] - 1s 32ms/step - loss: 0.6426 - accuracy: 0.6600 - val_loss: 0.6102 - val_accuracy: 0.7094\n",
      "Epoch 12/30\n",
      "33/33 [==============================] - 1s 32ms/step - loss: 0.6431 - accuracy: 0.6600 - val_loss: 0.6062 - val_accuracy: 0.7094\n",
      "Epoch 13/30\n",
      "33/33 [==============================] - 1s 32ms/step - loss: 0.6431 - accuracy: 0.6600 - val_loss: 0.6056 - val_accuracy: 0.7094\n",
      "Epoch 14/30\n",
      "33/33 [==============================] - 1s 32ms/step - loss: 0.6416 - accuracy: 0.6600 - val_loss: 0.6086 - val_accuracy: 0.7094\n",
      "Epoch 15/30\n",
      "33/33 [==============================] - 1s 32ms/step - loss: 0.6428 - accuracy: 0.6600 - val_loss: 0.6133 - val_accuracy: 0.7094\n",
      "Epoch 16/30\n",
      "33/33 [==============================] - 1s 32ms/step - loss: 0.6425 - accuracy: 0.6600 - val_loss: 0.6086 - val_accuracy: 0.7094\n"
     ]
    },
    {
     "data": {
      "text/plain": [
       "<keras.callbacks.History at 0x13664b14be0>"
      ]
     },
     "execution_count": 20,
     "metadata": {},
     "output_type": "execute_result"
    }
   ],
   "source": [
    "model.fit(train_x, train_y, epochs=epochs, validation_split=0.1, callbacks=[callbacks])"
   ]
  },
  {
   "cell_type": "code",
   "execution_count": 21,
   "metadata": {},
   "outputs": [],
   "source": [
    "# np.diag(model.weights[2])"
   ]
  },
  {
   "cell_type": "code",
   "execution_count": 22,
   "metadata": {},
   "outputs": [],
   "source": [
    "# model.save_weights('bestModel/my_model_weights.h5')"
   ]
  },
  {
   "cell_type": "code",
   "execution_count": 23,
   "metadata": {},
   "outputs": [
    {
     "name": "stdout",
     "output_type": "stream",
     "text": [
      "5/5 [==============================] - 0s 6ms/step - loss: 0.6234 - accuracy: 0.6846\n"
     ]
    }
   ],
   "source": [
    "result = model.evaluate(test_x, test_y)"
   ]
  },
  {
   "cell_type": "code",
   "execution_count": 24,
   "metadata": {},
   "outputs": [],
   "source": [
    "y_pred = model.predict(test_x)"
   ]
  },
  {
   "cell_type": "code",
   "execution_count": 25,
   "metadata": {},
   "outputs": [],
   "source": [
    "from tensorflow.python.ops.numpy_ops import np_config\n",
    "np_config.enable_numpy_behavior()"
   ]
  },
  {
   "cell_type": "code",
   "execution_count": 26,
   "metadata": {},
   "outputs": [],
   "source": [
    "argmax_y_pred = np.argmax(y_pred, axis=1)\n",
    "argmax_test_y = np.argmax(test_y, axis=1)"
   ]
  },
  {
   "cell_type": "code",
   "execution_count": 27,
   "metadata": {},
   "outputs": [],
   "source": [
    "from sklearn.metrics import accuracy_score, roc_auc_score\n",
    "from evaluate import calculate_BS, f1\n",
    "\n",
    "acc_score = accuracy_score(argmax_test_y, argmax_y_pred)\n",
    "f1_score = f1(argmax_test_y, argmax_y_pred)\n",
    "auc_score = roc_auc_score(test_y, y_pred)\n",
    "BS = calculate_BS(test_y, y_pred, 2)"
   ]
  },
  {
   "cell_type": "code",
   "execution_count": 28,
   "metadata": {},
   "outputs": [
    {
     "name": "stdout",
     "output_type": "stream",
     "text": [
      "accuracy:    0.68\n",
      "f1:          0.00\n",
      "auc:         0.52\n",
      "BS:          0.22\n"
     ]
    }
   ],
   "source": [
    "print('accuracy:    {:.2f}'.format(acc_score))\n",
    "print('f1:          {:.2f}'.format(f1_score))\n",
    "print('auc:         {:.2f}'.format(auc_score))\n",
    "print('BS:          {:.2f}'.format(BS['BS'][0]))"
   ]
  },
  {
   "cell_type": "code",
   "execution_count": 35,
   "metadata": {},
   "outputs": [],
   "source": [
    "def output_result(type, feature_list):\n",
    "    if(type == 'permute'):\n",
    "        output_path = 'permute_feature_result.txt'\n",
    "        f = open(output_path, 'a')\n",
    "        f.write('Permuted feature: ' + str(feature_list) + '\\n')\n",
    "        f.write('-'*40 + '\\n')\n",
    "        f.write('accuracy:    {:.2f}'.format(acc_score) + '\\n')\n",
    "        f.write('f1:          {:.2f}'.format(f1_score) + '\\n')\n",
    "        f.write('auc:         {:.2f}'.format(auc_score) + '\\n')\n",
    "        f.write('BS:          {:.2f}'.format(BS['BS'][0]) + '\\n')\n",
    "        f.write('\\n' + '='*40 + '\\n')\n",
    "        f.close()\n",
    "    elif(type == 'mode'):\n",
    "        output_path = 'replaced_by_mode_result.txt'\n",
    "        f = open(output_path, 'a')\n",
    "        f.write('Fixed feature: ' + str(feature_list) + '\\n')\n",
    "        f.write('-'*40 + '\\n')\n",
    "        f.write('accuracy:    {:.2f}'.format(acc_score) + '\\n')\n",
    "        f.write('f1:          {:.2f}'.format(f1_score) + '\\n')\n",
    "        f.write('auc:         {:.2f}'.format(auc_score) + '\\n')\n",
    "        f.write('BS:          {:.2f}'.format(BS['BS'][0]) + '\\n')\n",
    "        f.write('\\n' + '='*40 + '\\n')\n",
    "    elif(type == 'attention'):\n",
    "        output_path = 'attention_result.txt'\n",
    "        f = open(output_path, 'a')\n",
    "        f.write('Permuted feature: ' + str(feature_list) + '\\n')\n",
    "        f.write('-'*40 + '\\n')\n",
    "        f.write('accuracy:    {:.2f}'.format(acc_score) + '\\n')\n",
    "        f.write('f1:          {:.2f}'.format(f1_score) + '\\n')\n",
    "        f.write('auc:         {:.2f}'.format(auc_score) + '\\n')\n",
    "        f.write('BS:          {:.2f}'.format(BS['BS'][0]) + '\\n')\n",
    "        f.write('\\n' + '='*40 + '\\n')\n",
    "        f.close()"
   ]
  },
  {
   "cell_type": "code",
   "execution_count": 36,
   "metadata": {},
   "outputs": [],
   "source": [
    "output_result('permute', [feature_1, feature_2])\n",
    "# output_result('mode')"
   ]
  },
  {
   "cell_type": "code",
   "execution_count": null,
   "metadata": {},
   "outputs": [],
   "source": []
  }
 ],
 "metadata": {
  "kernelspec": {
   "display_name": "SportsScience",
   "language": "python",
   "name": "python3"
  },
  "language_info": {
   "codemirror_mode": {
    "name": "ipython",
    "version": 3
   },
   "file_extension": ".py",
   "mimetype": "text/x-python",
   "name": "python",
   "nbconvert_exporter": "python",
   "pygments_lexer": "ipython3",
   "version": "3.6.13"
  },
  "orig_nbformat": 4
 },
 "nbformat": 4,
 "nbformat_minor": 2
}
