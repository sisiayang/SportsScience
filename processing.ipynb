{
 "cells": [
  {
   "cell_type": "code",
   "execution_count": 193,
   "metadata": {},
   "outputs": [],
   "source": [
    "import pandas as pd"
   ]
  },
  {
   "attachments": {},
   "cell_type": "markdown",
   "metadata": {},
   "source": [
    "* NaN 用 0 取代\n",
    "* 去除最後一筆資料 (結算最後比分)\n",
    "* 加上隊伍資訊\n",
    "* Action == OP 的 column 去除，reset index"
   ]
  },
  {
   "cell_type": "code",
   "execution_count": 206,
   "metadata": {},
   "outputs": [],
   "source": [
    "def get_data(link, team, set_num):\n",
    "    df = pd.DataFrame()\n",
    "    for i in range(1, set_num+1):\n",
    "        new_df = pd.read_excel(link, sheet_name = team + ' Set' + str(i))\n",
    "        df = pd.concat([df, new_df])\n",
    "    \n",
    "    df = df.fillna(0)\n",
    "    df.insert(0, column='Team', value=[team for i in range(len(df))])\n",
    "    df = df.rename(columns={'No.': 'No'})\n",
    "    drop_col = df.columns.tolist()\n",
    "    col = ['Team', 'No', 'Space', 'Action', 'Erros', 'Attempts', 'Score']\n",
    "    for c in col:\n",
    "        drop_col.remove(c)\n",
    "    df = df.drop(columns=drop_col)\n",
    "    df = df.drop([idx for idx, row in df.iterrows() if(isinstance(row['No'], int)==False and isinstance(row['No'], float)==False)])\n",
    "    df = df.drop(df.query('Space not in [1, 2, 3, 4, 5, 6, 7, 8, 9, \\'M\\', \\'Y\\', \\'L\\', \\'FZ\\']').index)\n",
    "    df = df.drop(df.query('Action not in [\\'A\\', \\'B\\', \\'D\\', \\'FS\\', \\'G\\', \\'JS\\', \\'SS\\', \\'R\\']').index)\n",
    "\n",
    "    df = df.drop(df.query('Score not in [1, 1.0, 0, 0.0]').index)\n",
    "    df = df.drop(df.query('Erros not in [1, 1.0, 0, 0.0]').index)\n",
    "\n",
    "\n",
    "    df = df.astype({'No': 'int32'})\n",
    "    df = df.astype({'No': 'str'})\n",
    "    \n",
    "\n",
    "    df['Space'].replace({'M': 10, 'Y': 11, 'L': 12, 'FZ': 13}, inplace=True)\n",
    "    \n",
    "    df['Action'].replace({'A': 1, 'B': 2, 'D': 3, 'FS': 4, 'G': 5, 'JS': 6, 'SS': 7, 'R': 8}, inplace=True)\n",
    "\n",
    "    return df"
   ]
  },
  {
   "cell_type": "code",
   "execution_count": 207,
   "metadata": {},
   "outputs": [],
   "source": [
    "df_dict = {}\n",
    "\n",
    "df_dict['df_IRI'] = get_data('Data/2022 VNL/IRI VS POL.xlsx', 'IRI', 5)\n",
    "df_dict['df_POL_1'] = get_data('Data/2022 VNL/IRI VS POL.xlsx', 'POL', 5)\n",
    "\n",
    "df_dict['df_ITA_1'] = get_data('Data/2022 VNL/ITA VS FRA.xlsx', 'ITA', 3)\n",
    "df_dict['df_FRA_1'] = get_data('Data/2022 VNL/ITA VS FRA.xlsx', 'FRA', 3)\n",
    "\n",
    "df_dict['df_ITA_2'] = get_data('Data/2022 VNL/ITA VS NED.xlsx', 'ITA', 4)\n",
    "df_dict['df_NED'] = get_data('Data/2022 VNL/ITA VS NED.xlsx', 'NED', 4)\n",
    "\n",
    "df_dict['df_ITA_3'] = get_data('Data/2022 VNL/ITA VS POL.xlsx', 'ITA', 3)\n",
    "df_dict['df_POL_2'] = get_data('Data/2022 VNL/ITA VS POL.xlsx', 'POL', 3)\n",
    "\n",
    "df_dict['df_JAP'] = get_data('Data/2022 VNL/JPA VS FRA.xlsx', 'JAP', 3)\n",
    "df_dict['df_FRA_2'] = get_data('Data/2022 VNL/JPA VS FRA.xlsx', 'FRA', 3)\n",
    "\n",
    "df_dict['df_USA_1'] = get_data('Data/2022 VNL/USA VS BRA.xlsx', 'USA', 3)\n",
    "df_dict['df_BRA_2'] = get_data('Data/2022 VNL/USA VS BRA.xlsx', 'BRA', 3)\n",
    "\n",
    "df_dict['df_USA_2'] = get_data('Data/2022 VNL/USA VS FRA.xlsx', 'USA', 5)\n",
    "df_dict['df_FRA_3'] = get_data('Data/2022 VNL/USA VS FRA.xlsx', 'FRA', 5)\n",
    "\n",
    "df_dict['df_USA_3'] = get_data('Data/2022 VNL/USA VS POL.xlsx', 'USA', 3)\n",
    "df_dict['df_BRA_2'] = get_data('Data/2022 VNL/USA VS POL.xlsx', 'POL', 3)"
   ]
  },
  {
   "cell_type": "code",
   "execution_count": 208,
   "metadata": {},
   "outputs": [
    {
     "name": "stdout",
     "output_type": "stream",
     "text": [
      "454 397 285 306 425 486 365 344 297 297 377 311 445 435 298 "
     ]
    }
   ],
   "source": [
    "for i, df in df_dict.items():\n",
    "    print(len(df), end=' ')"
   ]
  },
  {
   "cell_type": "code",
   "execution_count": 209,
   "metadata": {},
   "outputs": [
    {
     "name": "stdout",
     "output_type": "stream",
     "text": [
      "5522\n"
     ]
    },
    {
     "data": {
      "text/html": [
       "<div>\n",
       "<style scoped>\n",
       "    .dataframe tbody tr th:only-of-type {\n",
       "        vertical-align: middle;\n",
       "    }\n",
       "\n",
       "    .dataframe tbody tr th {\n",
       "        vertical-align: top;\n",
       "    }\n",
       "\n",
       "    .dataframe thead th {\n",
       "        text-align: right;\n",
       "    }\n",
       "</style>\n",
       "<table border=\"1\" class=\"dataframe\">\n",
       "  <thead>\n",
       "    <tr style=\"text-align: right;\">\n",
       "      <th></th>\n",
       "      <th>Team</th>\n",
       "      <th>No</th>\n",
       "      <th>Space</th>\n",
       "      <th>Action</th>\n",
       "      <th>Erros</th>\n",
       "      <th>Attempts</th>\n",
       "      <th>Score</th>\n",
       "    </tr>\n",
       "  </thead>\n",
       "  <tbody>\n",
       "    <tr>\n",
       "      <th>0</th>\n",
       "      <td>NED</td>\n",
       "      <td>22</td>\n",
       "      <td>12</td>\n",
       "      <td>4</td>\n",
       "      <td>1.0</td>\n",
       "      <td>0.0</td>\n",
       "      <td>0</td>\n",
       "    </tr>\n",
       "    <tr>\n",
       "      <th>1</th>\n",
       "      <td>USA</td>\n",
       "      <td>8</td>\n",
       "      <td>9</td>\n",
       "      <td>8</td>\n",
       "      <td>0.0</td>\n",
       "      <td>0.0</td>\n",
       "      <td>0</td>\n",
       "    </tr>\n",
       "    <tr>\n",
       "      <th>2</th>\n",
       "      <td>FRA</td>\n",
       "      <td>9</td>\n",
       "      <td>1</td>\n",
       "      <td>1</td>\n",
       "      <td>0.0</td>\n",
       "      <td>0.0</td>\n",
       "      <td>1</td>\n",
       "    </tr>\n",
       "    <tr>\n",
       "      <th>3</th>\n",
       "      <td>FRA</td>\n",
       "      <td>4</td>\n",
       "      <td>3</td>\n",
       "      <td>1</td>\n",
       "      <td>0.0</td>\n",
       "      <td>0.0</td>\n",
       "      <td>1</td>\n",
       "    </tr>\n",
       "    <tr>\n",
       "      <th>4</th>\n",
       "      <td>IRI</td>\n",
       "      <td>8</td>\n",
       "      <td>8</td>\n",
       "      <td>8</td>\n",
       "      <td>0.0</td>\n",
       "      <td>0.0</td>\n",
       "      <td>0</td>\n",
       "    </tr>\n",
       "  </tbody>\n",
       "</table>\n",
       "</div>"
      ],
      "text/plain": [
       "  Team  No  Space  Action  Erros  Attempts Score\n",
       "0  NED  22     12       4    1.0       0.0     0\n",
       "1  USA   8      9       8    0.0       0.0     0\n",
       "2  FRA   9      1       1    0.0       0.0     1\n",
       "3  FRA   4      3       1    0.0       0.0     1\n",
       "4  IRI   8      8       8    0.0       0.0     0"
      ]
     },
     "execution_count": 209,
     "metadata": {},
     "output_type": "execute_result"
    }
   ],
   "source": [
    "df = pd.concat([df for i, df in df_dict.items()])\n",
    "\n",
    "df = df.sample(frac=1).reset_index(drop=True)   # frac: the persentage of dataset to be remained\n",
    "print(len(df))\n",
    "df.head()"
   ]
  },
  {
   "cell_type": "code",
   "execution_count": 210,
   "metadata": {},
   "outputs": [
    {
     "data": {
      "text/html": [
       "<div>\n",
       "<style scoped>\n",
       "    .dataframe tbody tr th:only-of-type {\n",
       "        vertical-align: middle;\n",
       "    }\n",
       "\n",
       "    .dataframe tbody tr th {\n",
       "        vertical-align: top;\n",
       "    }\n",
       "\n",
       "    .dataframe thead th {\n",
       "        text-align: right;\n",
       "    }\n",
       "</style>\n",
       "<table border=\"1\" class=\"dataframe\">\n",
       "  <thead>\n",
       "    <tr style=\"text-align: right;\">\n",
       "      <th></th>\n",
       "      <th>No</th>\n",
       "      <th>Space</th>\n",
       "      <th>Action</th>\n",
       "      <th>Erros</th>\n",
       "      <th>Attempts</th>\n",
       "      <th>Score</th>\n",
       "    </tr>\n",
       "    <tr>\n",
       "      <th>Team</th>\n",
       "      <th></th>\n",
       "      <th></th>\n",
       "      <th></th>\n",
       "      <th></th>\n",
       "      <th></th>\n",
       "      <th></th>\n",
       "    </tr>\n",
       "  </thead>\n",
       "  <tbody>\n",
       "    <tr>\n",
       "      <th>FRA</th>\n",
       "      <td>1038</td>\n",
       "      <td>1038</td>\n",
       "      <td>1038</td>\n",
       "      <td>1038</td>\n",
       "      <td>1038</td>\n",
       "      <td>1038</td>\n",
       "    </tr>\n",
       "    <tr>\n",
       "      <th>IRI</th>\n",
       "      <td>454</td>\n",
       "      <td>454</td>\n",
       "      <td>454</td>\n",
       "      <td>454</td>\n",
       "      <td>454</td>\n",
       "      <td>454</td>\n",
       "    </tr>\n",
       "    <tr>\n",
       "      <th>ITA</th>\n",
       "      <td>1075</td>\n",
       "      <td>1075</td>\n",
       "      <td>1075</td>\n",
       "      <td>1075</td>\n",
       "      <td>1075</td>\n",
       "      <td>1075</td>\n",
       "    </tr>\n",
       "    <tr>\n",
       "      <th>JAP</th>\n",
       "      <td>297</td>\n",
       "      <td>297</td>\n",
       "      <td>297</td>\n",
       "      <td>297</td>\n",
       "      <td>297</td>\n",
       "      <td>297</td>\n",
       "    </tr>\n",
       "    <tr>\n",
       "      <th>NED</th>\n",
       "      <td>486</td>\n",
       "      <td>486</td>\n",
       "      <td>486</td>\n",
       "      <td>486</td>\n",
       "      <td>486</td>\n",
       "      <td>486</td>\n",
       "    </tr>\n",
       "    <tr>\n",
       "      <th>POL</th>\n",
       "      <td>1052</td>\n",
       "      <td>1052</td>\n",
       "      <td>1052</td>\n",
       "      <td>1052</td>\n",
       "      <td>1052</td>\n",
       "      <td>1052</td>\n",
       "    </tr>\n",
       "    <tr>\n",
       "      <th>USA</th>\n",
       "      <td>1120</td>\n",
       "      <td>1120</td>\n",
       "      <td>1120</td>\n",
       "      <td>1120</td>\n",
       "      <td>1120</td>\n",
       "      <td>1120</td>\n",
       "    </tr>\n",
       "  </tbody>\n",
       "</table>\n",
       "</div>"
      ],
      "text/plain": [
       "        No  Space  Action  Erros  Attempts  Score\n",
       "Team                                             \n",
       "FRA   1038   1038    1038   1038      1038   1038\n",
       "IRI    454    454     454    454       454    454\n",
       "ITA   1075   1075    1075   1075      1075   1075\n",
       "JAP    297    297     297    297       297    297\n",
       "NED    486    486     486    486       486    486\n",
       "POL   1052   1052    1052   1052      1052   1052\n",
       "USA   1120   1120    1120   1120      1120   1120"
      ]
     },
     "execution_count": 210,
     "metadata": {},
     "output_type": "execute_result"
    }
   ],
   "source": [
    "df.groupby('Team').count()"
   ]
  },
  {
   "cell_type": "code",
   "execution_count": 215,
   "metadata": {},
   "outputs": [],
   "source": [
    "df.to_csv('df.csv', index=False)"
   ]
  },
  {
   "cell_type": "code",
   "execution_count": null,
   "metadata": {},
   "outputs": [],
   "source": []
  }
 ],
 "metadata": {
  "kernelspec": {
   "display_name": "SportScience",
   "language": "python",
   "name": "python3"
  },
  "language_info": {
   "codemirror_mode": {
    "name": "ipython",
    "version": 3
   },
   "file_extension": ".py",
   "mimetype": "text/x-python",
   "name": "python",
   "nbconvert_exporter": "python",
   "pygments_lexer": "ipython3",
   "version": "3.6.13"
  },
  "orig_nbformat": 4,
  "vscode": {
   "interpreter": {
    "hash": "d5a07162fe3afdd7b480234d7b349d638e7b8aabfdb46dc5c5983105b59f4026"
   }
  }
 },
 "nbformat": 4,
 "nbformat_minor": 2
}
