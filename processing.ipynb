{
 "cells": [
  {
   "cell_type": "code",
   "execution_count": 2,
   "metadata": {},
   "outputs": [],
   "source": [
    "import pandas as pd\n",
    "import numpy as np"
   ]
  },
  {
   "attachments": {},
   "cell_type": "markdown",
   "metadata": {},
   "source": [
    "* NaN 用 0 取代\n",
    "* 去除最後一筆資料 (結算最後比分)\n",
    "* 加上隊伍資訊\n",
    "* Action == OP 的 column 去除，reset index"
   ]
  },
  {
   "cell_type": "code",
   "execution_count": 52,
   "metadata": {},
   "outputs": [],
   "source": [
    "def dataset_preprocess(df, team):\n",
    "    df = df.fillna(0)\n",
    "    df = df.drop(len(df)-1)\n",
    "    df.insert(0, column='Team', value=[team for i in range(len(df))])\n",
    "    df = df.drop(df[df['Action'] == 'OP'].index)\n",
    "    df = df.reset_index(drop=True)\n",
    "    return df"
   ]
  },
  {
   "cell_type": "code",
   "execution_count": 56,
   "metadata": {},
   "outputs": [],
   "source": [
    "def get_data(link, team):\n",
    "    df_1 = pd.read_excel(link, sheet_name = team + ' Set1')\n",
    "    df_2 = pd.read_excel(link, sheet_name = team + ' Set2')\n",
    "    df_3 = pd.read_excel(link, sheet_name = team + ' Set3')\n",
    "    df_4 = pd.read_excel(link, sheet_name = team + ' Set4')\n",
    "    df_5 = pd.read_excel(link, sheet_name = team + ' Set5')\n",
    "\n",
    "    df_1 = dataset_preprocess(df_1, team)\n",
    "    df_2 = dataset_preprocess(df_2, team)\n",
    "    df_3 = dataset_preprocess(df_3, team)\n",
    "    df_4 = dataset_preprocess(df_4, team)\n",
    "    df_5 = dataset_preprocess(df_5, team)\n",
    "\n",
    "    df = pd.concat([df_1, df_2, df_3, df_4, df_5])\n",
    "    drop_col = df.columns.tolist()\n",
    "    col = ['Team', 'No.', 'Space', 'Action', 'Erros', 'Attempts', 'Score']\n",
    "    for c in col:\n",
    "        drop_col.remove(c)\n",
    "    df = df.drop(columns=drop_col)\n",
    "\n",
    "    df = df.astype({'No.': 'int32'})\n",
    "    df = df.astype({'No.': 'str'})\n",
    "\n",
    "    df['Space'].replace({'M': 9, 'Y': 10, 'L': 11, 'FZ': 12}, inplace=True)\n",
    "    df['Action'].replace({'A': 1, 'B': 2, 'D': 3, 'FS': 4, 'G': 5, 'JS': 6, 'OP': 7, 'R': 8}, inplace=True)\n",
    "\n",
    "    return df"
   ]
  },
  {
   "cell_type": "code",
   "execution_count": 57,
   "metadata": {},
   "outputs": [
    {
     "name": "stdout",
     "output_type": "stream",
     "text": [
      "547 530\n"
     ]
    }
   ],
   "source": [
    "df_IRI = get_data('Data/2022 VNL/IRI VS POL.xlsx', 'IRI')\n",
    "df_POL = get_data('Data/2022 VNL/IRI VS POL.xlsx', 'POL')\n",
    "print(len(df_IRI), len(df_POL))"
   ]
  },
  {
   "cell_type": "code",
   "execution_count": 58,
   "metadata": {},
   "outputs": [
    {
     "data": {
      "text/html": [
       "<div>\n",
       "<style scoped>\n",
       "    .dataframe tbody tr th:only-of-type {\n",
       "        vertical-align: middle;\n",
       "    }\n",
       "\n",
       "    .dataframe tbody tr th {\n",
       "        vertical-align: top;\n",
       "    }\n",
       "\n",
       "    .dataframe thead th {\n",
       "        text-align: right;\n",
       "    }\n",
       "</style>\n",
       "<table border=\"1\" class=\"dataframe\">\n",
       "  <thead>\n",
       "    <tr style=\"text-align: right;\">\n",
       "      <th></th>\n",
       "      <th>Team</th>\n",
       "      <th>No.</th>\n",
       "      <th>Space</th>\n",
       "      <th>Action</th>\n",
       "      <th>Erros</th>\n",
       "      <th>Attempts</th>\n",
       "      <th>Score</th>\n",
       "    </tr>\n",
       "  </thead>\n",
       "  <tbody>\n",
       "    <tr>\n",
       "      <th>0</th>\n",
       "      <td>IRI</td>\n",
       "      <td>2</td>\n",
       "      <td>10</td>\n",
       "      <td>6</td>\n",
       "      <td>0.0</td>\n",
       "      <td>0.0</td>\n",
       "      <td>0.0</td>\n",
       "    </tr>\n",
       "    <tr>\n",
       "      <th>1</th>\n",
       "      <td>IRI</td>\n",
       "      <td>22</td>\n",
       "      <td>1</td>\n",
       "      <td>2</td>\n",
       "      <td>0.0</td>\n",
       "      <td>0.0</td>\n",
       "      <td>1.0</td>\n",
       "    </tr>\n",
       "    <tr>\n",
       "      <th>2</th>\n",
       "      <td>IRI</td>\n",
       "      <td>2</td>\n",
       "      <td>10</td>\n",
       "      <td>6</td>\n",
       "      <td>0.0</td>\n",
       "      <td>0.0</td>\n",
       "      <td>0.0</td>\n",
       "    </tr>\n",
       "    <tr>\n",
       "      <th>3</th>\n",
       "      <td>IRI</td>\n",
       "      <td>2</td>\n",
       "      <td>8</td>\n",
       "      <td>3</td>\n",
       "      <td>1.0</td>\n",
       "      <td>0.0</td>\n",
       "      <td>0.0</td>\n",
       "    </tr>\n",
       "    <tr>\n",
       "      <th>4</th>\n",
       "      <td>IRI</td>\n",
       "      <td>8</td>\n",
       "      <td>8</td>\n",
       "      <td>8</td>\n",
       "      <td>0.0</td>\n",
       "      <td>0.0</td>\n",
       "      <td>0.0</td>\n",
       "    </tr>\n",
       "  </tbody>\n",
       "</table>\n",
       "</div>"
      ],
      "text/plain": [
       "  Team No.  Space Action  Erros  Attempts  Score\n",
       "0  IRI   2     10      6    0.0       0.0    0.0\n",
       "1  IRI  22      1      2    0.0       0.0    1.0\n",
       "2  IRI   2     10      6    0.0       0.0    0.0\n",
       "3  IRI   2      8      3    1.0       0.0    0.0\n",
       "4  IRI   8      8      8    0.0       0.0    0.0"
      ]
     },
     "execution_count": 58,
     "metadata": {},
     "output_type": "execute_result"
    }
   ],
   "source": [
    "df_IRI.head()"
   ]
  },
  {
   "cell_type": "code",
   "execution_count": 75,
   "metadata": {},
   "outputs": [],
   "source": [
    "apprix_1 = df_IRI.iloc[:500,:]\n",
    "apprix_2 = df_IRI.iloc[500:,:]"
   ]
  },
  {
   "attachments": {},
   "cell_type": "markdown",
   "metadata": {},
   "source": [
    "---\n",
    "* Team、No. 做 one-hot encoding\n",
    "* Space、Action 比照羽球 paper 辦理"
   ]
  },
  {
   "cell_type": "code",
   "execution_count": 10,
   "metadata": {},
   "outputs": [
    {
     "name": "stdout",
     "output_type": "stream",
     "text": [
      "['Space']\n",
      "['Action']\n",
      "['Team', 'No.', 'Erros', 'Attempts', 'Score']\n"
     ]
    }
   ],
   "source": [
    "space_col = ['Space']\n",
    "action_col = ['Action']\n",
    "other_col = [c for c in df_IRI_1.columns if(c not in space_col and c not in action_col)]\n",
    "\n",
    "print(space_col)\n",
    "print(action_col)\n",
    "print(other_col)"
   ]
  },
  {
   "cell_type": "code",
   "execution_count": 11,
   "metadata": {},
   "outputs": [],
   "source": [
    "# 分開並在訓練階段 space 和 action 單獨丟進自己的 embedding layer\n",
    "space_encoding = df_IRI_1[space_col].values.astype('float32')\n",
    "action_encoding = df_IRI_1[action_col].values.astype('float32')\n",
    "other_encoding = df_IRI_1[other_col].values.astype('float32')"
   ]
  },
  {
   "attachments": {},
   "cell_type": "markdown",
   "metadata": {},
   "source": [
    "---\n",
    "按照一球把data分開 (好像也無法)\n"
   ]
  }
 ],
 "metadata": {
  "kernelspec": {
   "display_name": "SportScience",
   "language": "python",
   "name": "python3"
  },
  "language_info": {
   "codemirror_mode": {
    "name": "ipython",
    "version": 3
   },
   "file_extension": ".py",
   "mimetype": "text/x-python",
   "name": "python",
   "nbconvert_exporter": "python",
   "pygments_lexer": "ipython3",
   "version": "3.6.13"
  },
  "orig_nbformat": 4,
  "vscode": {
   "interpreter": {
    "hash": "d5a07162fe3afdd7b480234d7b349d638e7b8aabfdb46dc5c5983105b59f4026"
   }
  }
 },
 "nbformat": 4,
 "nbformat_minor": 2
}
