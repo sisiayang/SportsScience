{
 "cells": [
  {
   "cell_type": "code",
   "execution_count": 8,
   "metadata": {},
   "outputs": [],
   "source": [
    "import pandas as pd"
   ]
  },
  {
   "attachments": {},
   "cell_type": "markdown",
   "metadata": {},
   "source": [
    "* NaN 用 0 取代\n",
    "* 去除最後一筆資料 (結算最後比分)\n",
    "* 加上隊伍資訊\n",
    "* Action == OP 的 column 去除，reset index"
   ]
  },
  {
   "cell_type": "code",
   "execution_count": 9,
   "metadata": {},
   "outputs": [],
   "source": [
    "def dataset_preprocess(df, team):\n",
    "    df = df.fillna(0)\n",
    "    df = df.drop(len(df)-1)\n",
    "    df.insert(0, column='Team', value=[team for i in range(len(df))])\n",
    "    df = df.drop(df[df['Action'] == 'OP'].index)\n",
    "    df = df.reset_index(drop=True)\n",
    "    return df"
   ]
  },
  {
   "cell_type": "code",
   "execution_count": 40,
   "metadata": {},
   "outputs": [],
   "source": [
    "def get_data(link, team, set_num):\n",
    "    df = pd.DataFrame()\n",
    "    for i in range(1, set_num+1):\n",
    "        new_df = pd.read_excel(link, sheet_name = team + ' Set' + str(i))\n",
    "        new_df = dataset_preprocess(new_df, team)\n",
    "        df = pd.concat([df, new_df])\n",
    "\n",
    "    drop_col = df.columns.tolist()\n",
    "    col = ['Team', 'No.', 'Space', 'Action', 'Erros', 'Attempts', 'Score']\n",
    "    for c in col:\n",
    "        drop_col.remove(c)\n",
    "    df = df.drop(columns=drop_col)\n",
    "    df = df.drop(df.query('Space not in [1, 2, 3, 4, 5, 6, 7, 8, 9, \\'M\\', \\'Y\\', \\'L\\', \\'FZ\\']').index)\n",
    "    df = df.drop(df.query('Action not in [\\'A\\', \\'B\\', \\'D\\', \\'FS\\', \\'G\\', \\'JS\\', \\'OP\\', \\'R\\']').index)\n",
    "\n",
    "    df = df.astype({'No.': 'int32'})\n",
    "    df = df.astype({'No.': 'str'})\n",
    "\n",
    "\n",
    "    df['Space'].replace({'M': 10, 'Y': 11, 'L': 12, 'FZ': 13}, inplace=True)\n",
    "    \n",
    "    df['Action'].replace({'A': 1, 'B': 2, 'D': 3, 'FS': 4, 'G': 5, 'JS': 6, 'OP': 7, 'R': 8}, inplace=True)\n",
    "\n",
    "    return df"
   ]
  },
  {
   "cell_type": "code",
   "execution_count": 41,
   "metadata": {},
   "outputs": [
    {
     "name": "stdout",
     "output_type": "stream",
     "text": [
      "542 520\n"
     ]
    }
   ],
   "source": [
    "df_IRI = get_data('Data/2022 VNL/IRI VS POL.xlsx', 'IRI', 5)\n",
    "df_POL = get_data('Data/2022 VNL/IRI VS POL.xlsx', 'POL', 5)\n",
    "\n",
    "print(len(df_IRI), len(df_POL))"
   ]
  },
  {
   "cell_type": "code",
   "execution_count": 42,
   "metadata": {},
   "outputs": [
    {
     "data": {
      "text/html": [
       "<div>\n",
       "<style scoped>\n",
       "    .dataframe tbody tr th:only-of-type {\n",
       "        vertical-align: middle;\n",
       "    }\n",
       "\n",
       "    .dataframe tbody tr th {\n",
       "        vertical-align: top;\n",
       "    }\n",
       "\n",
       "    .dataframe thead th {\n",
       "        text-align: right;\n",
       "    }\n",
       "</style>\n",
       "<table border=\"1\" class=\"dataframe\">\n",
       "  <thead>\n",
       "    <tr style=\"text-align: right;\">\n",
       "      <th></th>\n",
       "      <th>Team</th>\n",
       "      <th>No.</th>\n",
       "      <th>Space</th>\n",
       "      <th>Action</th>\n",
       "      <th>Erros</th>\n",
       "      <th>Attempts</th>\n",
       "      <th>Score</th>\n",
       "    </tr>\n",
       "  </thead>\n",
       "  <tbody>\n",
       "    <tr>\n",
       "      <th>0</th>\n",
       "      <td>IRI</td>\n",
       "      <td>2</td>\n",
       "      <td>11</td>\n",
       "      <td>6</td>\n",
       "      <td>0.0</td>\n",
       "      <td>0.0</td>\n",
       "      <td>0.0</td>\n",
       "    </tr>\n",
       "    <tr>\n",
       "      <th>1</th>\n",
       "      <td>IRI</td>\n",
       "      <td>22</td>\n",
       "      <td>1</td>\n",
       "      <td>2</td>\n",
       "      <td>0.0</td>\n",
       "      <td>0.0</td>\n",
       "      <td>1.0</td>\n",
       "    </tr>\n",
       "    <tr>\n",
       "      <th>2</th>\n",
       "      <td>IRI</td>\n",
       "      <td>2</td>\n",
       "      <td>11</td>\n",
       "      <td>6</td>\n",
       "      <td>0.0</td>\n",
       "      <td>0.0</td>\n",
       "      <td>0.0</td>\n",
       "    </tr>\n",
       "    <tr>\n",
       "      <th>3</th>\n",
       "      <td>IRI</td>\n",
       "      <td>2</td>\n",
       "      <td>8</td>\n",
       "      <td>3</td>\n",
       "      <td>1.0</td>\n",
       "      <td>0.0</td>\n",
       "      <td>0.0</td>\n",
       "    </tr>\n",
       "    <tr>\n",
       "      <th>4</th>\n",
       "      <td>IRI</td>\n",
       "      <td>8</td>\n",
       "      <td>8</td>\n",
       "      <td>8</td>\n",
       "      <td>0.0</td>\n",
       "      <td>0.0</td>\n",
       "      <td>0.0</td>\n",
       "    </tr>\n",
       "  </tbody>\n",
       "</table>\n",
       "</div>"
      ],
      "text/plain": [
       "  Team No.  Space  Action  Erros  Attempts  Score\n",
       "0  IRI   2     11       6    0.0       0.0    0.0\n",
       "1  IRI  22      1       2    0.0       0.0    1.0\n",
       "2  IRI   2     11       6    0.0       0.0    0.0\n",
       "3  IRI   2      8       3    1.0       0.0    0.0\n",
       "4  IRI   8      8       8    0.0       0.0    0.0"
      ]
     },
     "execution_count": 42,
     "metadata": {},
     "output_type": "execute_result"
    }
   ],
   "source": [
    "df_IRI.head()"
   ]
  },
  {
   "cell_type": "code",
   "execution_count": 43,
   "metadata": {},
   "outputs": [],
   "source": [
    "train_df_IRI = df_IRI.iloc[:450,:].copy()\n",
    "test_df_IRI = df_IRI.iloc[450:,:].copy()\n",
    "\n",
    "train_df_POL = df_POL.iloc[:450,:].copy()\n",
    "test_df_POL = df_POL.iloc[450:,:].copy()\n",
    "\n",
    "train_df = pd.concat([train_df_IRI, train_df_POL])\n",
    "test_df = pd.concat([test_df_IRI, test_df_POL])"
   ]
  },
  {
   "cell_type": "code",
   "execution_count": 44,
   "metadata": {},
   "outputs": [],
   "source": [
    "train_df.to_csv('train_df.csv', index=False)\n",
    "test_df.to_csv('test_df.csv', index=False)"
   ]
  },
  {
   "cell_type": "code",
   "execution_count": null,
   "metadata": {},
   "outputs": [],
   "source": []
  }
 ],
 "metadata": {
  "kernelspec": {
   "display_name": "SportScience",
   "language": "python",
   "name": "python3"
  },
  "language_info": {
   "codemirror_mode": {
    "name": "ipython",
    "version": 3
   },
   "file_extension": ".py",
   "mimetype": "text/x-python",
   "name": "python",
   "nbconvert_exporter": "python",
   "pygments_lexer": "ipython3",
   "version": "3.6.13"
  },
  "orig_nbformat": 4,
  "vscode": {
   "interpreter": {
    "hash": "d5a07162fe3afdd7b480234d7b349d638e7b8aabfdb46dc5c5983105b59f4026"
   }
  }
 },
 "nbformat": 4,
 "nbformat_minor": 2
}
