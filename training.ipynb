{
 "cells": [
  {
   "cell_type": "code",
   "execution_count": 1,
   "metadata": {},
   "outputs": [],
   "source": [
    "import tensorflow as tf\n",
    "import numpy as np\n",
    "import pandas as pd\n",
    "from keras import layers\n",
    "import keras"
   ]
  },
  {
   "cell_type": "code",
   "execution_count": 2,
   "metadata": {},
   "outputs": [],
   "source": [
    "def training(len_input, embed_space_size, embed_action_size):\n",
    "    '''define layer\n",
    "    embed_space_size: space種類數\n",
    "    embed_action_size: action種類數\n",
    "    len_input: (space預計輸入維度, action預計輸入維度, others預計輸入維度)\n",
    "    '''\n",
    "    input_space = keras.Input(shape=len_input[0], name='Space_input')\n",
    "    input_action = keras.Input(shape=len_input[1], name='Action_input')\n",
    "    input_other = keras.Input(shape=len_input[2], name='Other_input')\n",
    "\n",
    "    space_embedding = layers.Embedding(input_dim=embed_space_size, output_dim=4, mask_zero=True, name='Space_embedding')\n",
    "    action_embeding = layers.Embedding(input_dim=embed_action_size, output_dim=4, mask_zero=True, name='Action_embedding')\n",
    "    \n",
    "    layer_reshape_space = layers.Reshape((4,), input_shape=(len_input[0], 4), name='reshape_space')\n",
    "    layer_reshape_action = layers.Reshape((4,), input_shape=(len_input[1], 4), name='reshape_action')\n",
    "\n",
    "    input_concat_embedding = layers.Concatenate(name='Input_merging', axis=1)\n",
    "    layer_dense = layers.Dense(units=3, activation='softmax')\n",
    "\n",
    "    '''define forward'''\n",
    "    inputs = [input_space, input_action, input_other]\n",
    "    embeded_space = space_embedding(input_space)\n",
    "    embeded_action = action_embeding(input_action)\n",
    "\n",
    "    embeded_space = layer_reshape_space(embeded_space)\n",
    "    embeded_action = layer_reshape_action(embeded_action)\n",
    "\n",
    "    embeded_input = input_concat_embedding([embeded_space, embeded_action, input_other])\n",
    "    output_prob = layer_dense(embeded_input)\n",
    "\n",
    "    model = keras.Model(inputs=inputs, outputs=output_prob, name='classifier')\n",
    "\n",
    "    return model"
   ]
  },
  {
   "attachments": {},
   "cell_type": "markdown",
   "metadata": {},
   "source": [
    "---"
   ]
  },
  {
   "attachments": {},
   "cell_type": "markdown",
   "metadata": {},
   "source": [
    "prepare data"
   ]
  },
  {
   "cell_type": "code",
   "execution_count": 11,
   "metadata": {},
   "outputs": [],
   "source": [
    "def split_data(space_tensor, action_tensor, others_tensor, label):\n",
    "    l = label.shape[0]\n",
    "    split_persentage = int(l*0.7)\n",
    "\n",
    "    train_space = space_tensor[:split_persentage]\n",
    "    train_action = action_tensor[:split_persentage]\n",
    "    train_others = others_tensor[:split_persentage]\n",
    "    train_label = label[:split_persentage]\n",
    "\n",
    "    test_space = space_tensor[split_persentage:]\n",
    "    test_action = action_tensor[split_persentage:]\n",
    "    test_others = others_tensor[split_persentage:]\n",
    "    test_label = label[split_persentage:]\n",
    "\n",
    "    train_x = [train_space, train_action, train_others]\n",
    "    train_y = train_label\n",
    "\n",
    "    test_x = [test_space, test_action, test_others]\n",
    "    test_y = test_label\n",
    "\n",
    "    return train_x, train_y, test_x, test_y"
   ]
  },
  {
   "cell_type": "code",
   "execution_count": 12,
   "metadata": {},
   "outputs": [],
   "source": [
    "def prepare_data(df):\n",
    "    input = df[['Team', 'No', 'Space', 'Action']].copy()\n",
    "    label = df[['Erros', 'Score']].copy().astype('float')\n",
    "\n",
    "    space = input[['Space']].astype('float')\n",
    "    action = input[['Action']].astype('float')\n",
    "    others = input[['Team', 'No']].copy()\n",
    "\n",
    "    others = others.astype({'No': 'str'})\n",
    "    others_dummy = pd.get_dummies(others).astype('float')\n",
    "\n",
    "    label.loc[:, 'Nothing'] = 0.0\n",
    "    label.loc[(label['Erros'] == 0) & (label['Score'] == 0), 'Nothing'] = 1.0\n",
    "\n",
    "    space_tensor = tf.convert_to_tensor(space)\n",
    "    action_tensor = tf.convert_to_tensor(action)\n",
    "\n",
    "    others_tensor = tf.convert_to_tensor(others_dummy)\n",
    "    label_tensor = tf.convert_to_tensor(label)\n",
    "    \n",
    "    train_x, train_y, test_x, test_y = split_data(space_tensor, action_tensor, others_tensor, label_tensor)\n",
    "\n",
    "    return train_x, train_y, test_x, test_y"
   ]
  },
  {
   "cell_type": "code",
   "execution_count": 13,
   "metadata": {},
   "outputs": [],
   "source": [
    "df = pd.read_csv('df.csv')"
   ]
  },
  {
   "cell_type": "code",
   "execution_count": 15,
   "metadata": {},
   "outputs": [
    {
     "name": "stdout",
     "output_type": "stream",
     "text": [
      "5522\n",
      "3865 1657\n"
     ]
    }
   ],
   "source": [
    "train_x, train_y, test_x, test_y = prepare_data(df)\n",
    "\n",
    "print(train_y.shape[0], test_y.shape[0])"
   ]
  },
  {
   "cell_type": "code",
   "execution_count": 16,
   "metadata": {},
   "outputs": [
    {
     "name": "stdout",
     "output_type": "stream",
     "text": [
      "Model: \"classifier\"\n",
      "__________________________________________________________________________________________________\n",
      "Layer (type)                    Output Shape         Param #     Connected to                     \n",
      "==================================================================================================\n",
      "Space_input (InputLayer)        [(None, 1)]          0                                            \n",
      "__________________________________________________________________________________________________\n",
      "Action_input (InputLayer)       [(None, 1)]          0                                            \n",
      "__________________________________________________________________________________________________\n",
      "Space_embedding (Embedding)     (None, 1, 4)         60          Space_input[0][0]                \n",
      "__________________________________________________________________________________________________\n",
      "Action_embedding (Embedding)    (None, 1, 4)         36          Action_input[0][0]               \n",
      "__________________________________________________________________________________________________\n",
      "reshape_space (Reshape)         (None, 4)            0           Space_embedding[0][0]            \n",
      "__________________________________________________________________________________________________\n",
      "reshape_action (Reshape)        (None, 4)            0           Action_embedding[0][0]           \n",
      "__________________________________________________________________________________________________\n",
      "Other_input (InputLayer)        [(None, 36)]         0                                            \n",
      "__________________________________________________________________________________________________\n",
      "Input_merging (Concatenate)     (None, 44)           0           reshape_space[0][0]              \n",
      "                                                                 reshape_action[0][0]             \n",
      "                                                                 Other_input[0][0]                \n",
      "__________________________________________________________________________________________________\n",
      "dense_1 (Dense)                 (None, 3)            135         Input_merging[0][0]              \n",
      "==================================================================================================\n",
      "Total params: 231\n",
      "Trainable params: 231\n",
      "Non-trainable params: 0\n",
      "__________________________________________________________________________________________________\n"
     ]
    }
   ],
   "source": [
    "embed_space_size = 15\n",
    "embed_action_size = 9\n",
    "\n",
    "model = training(\n",
    "    (1, 1, train_x[2].shape[1]), \n",
    "    embed_space_size, \n",
    "    embed_action_size\n",
    "    )\n",
    "    \n",
    "model.summary()"
   ]
  },
  {
   "cell_type": "code",
   "execution_count": 17,
   "metadata": {},
   "outputs": [],
   "source": [
    "# regularizer = tf.keras.regularizers.l2(0.01)\n",
    "optimizer = 'adam'\n",
    "loss = keras.losses.CategoricalCrossentropy()\n",
    "metrics = ['AUC']\n",
    "epochs = 20\n",
    "callbacks = tf.keras.callbacks.EarlyStopping(min_delta=0.002, patience=15, restore_best_weights=True)\n",
    "\n",
    "model.compile(optimizer=optimizer, loss=loss, metrics=metrics)"
   ]
  },
  {
   "cell_type": "code",
   "execution_count": 18,
   "metadata": {},
   "outputs": [
    {
     "name": "stdout",
     "output_type": "stream",
     "text": [
      "Epoch 1/20\n",
      "121/121 [==============================] - 1s 1ms/step - loss: 0.9896 - auc: 0.7202\n",
      "WARNING:tensorflow:Early stopping conditioned on metric `val_loss` which is not available. Available metrics are: loss,auc\n",
      "Epoch 2/20\n",
      "121/121 [==============================] - 0s 1ms/step - loss: 0.8172 - auc: 0.8252\n",
      "WARNING:tensorflow:Early stopping conditioned on metric `val_loss` which is not available. Available metrics are: loss,auc\n",
      "Epoch 3/20\n",
      "121/121 [==============================] - 0s 1ms/step - loss: 0.7308 - auc: 0.8663\n",
      "WARNING:tensorflow:Early stopping conditioned on metric `val_loss` which is not available. Available metrics are: loss,auc\n",
      "Epoch 4/20\n",
      "121/121 [==============================] - 0s 1ms/step - loss: 0.6859 - auc: 0.8774\n",
      "WARNING:tensorflow:Early stopping conditioned on metric `val_loss` which is not available. Available metrics are: loss,auc\n",
      "Epoch 5/20\n",
      "121/121 [==============================] - 0s 1ms/step - loss: 0.6572 - auc: 0.8844\n",
      "WARNING:tensorflow:Early stopping conditioned on metric `val_loss` which is not available. Available metrics are: loss,auc\n",
      "Epoch 6/20\n",
      "121/121 [==============================] - 0s 1ms/step - loss: 0.6371 - auc: 0.8892\n",
      "WARNING:tensorflow:Early stopping conditioned on metric `val_loss` which is not available. Available metrics are: loss,auc\n",
      "Epoch 7/20\n",
      "121/121 [==============================] - 0s 1ms/step - loss: 0.6231 - auc: 0.8923\n",
      "WARNING:tensorflow:Early stopping conditioned on metric `val_loss` which is not available. Available metrics are: loss,auc\n",
      "Epoch 8/20\n",
      "121/121 [==============================] - 0s 1ms/step - loss: 0.6133 - auc: 0.8946\n",
      "WARNING:tensorflow:Early stopping conditioned on metric `val_loss` which is not available. Available metrics are: loss,auc\n",
      "Epoch 9/20\n",
      "121/121 [==============================] - 0s 1ms/step - loss: 0.6058 - auc: 0.8965\n",
      "WARNING:tensorflow:Early stopping conditioned on metric `val_loss` which is not available. Available metrics are: loss,auc\n",
      "Epoch 10/20\n",
      "121/121 [==============================] - 0s 945us/step - loss: 0.6013 - auc: 0.8973\n",
      "WARNING:tensorflow:Early stopping conditioned on metric `val_loss` which is not available. Available metrics are: loss,auc\n",
      "Epoch 11/20\n",
      "121/121 [==============================] - 0s 1ms/step - loss: 0.5977 - auc: 0.8984\n",
      "WARNING:tensorflow:Early stopping conditioned on metric `val_loss` which is not available. Available metrics are: loss,auc\n",
      "Epoch 12/20\n",
      "121/121 [==============================] - 0s 967us/step - loss: 0.5955 - auc: 0.8988\n",
      "WARNING:tensorflow:Early stopping conditioned on metric `val_loss` which is not available. Available metrics are: loss,auc\n",
      "Epoch 13/20\n",
      "121/121 [==============================] - 0s 1ms/step - loss: 0.5937 - auc: 0.8992\n",
      "WARNING:tensorflow:Early stopping conditioned on metric `val_loss` which is not available. Available metrics are: loss,auc\n",
      "Epoch 14/20\n",
      "121/121 [==============================] - 0s 1ms/step - loss: 0.5924 - auc: 0.8994\n",
      "WARNING:tensorflow:Early stopping conditioned on metric `val_loss` which is not available. Available metrics are: loss,auc\n",
      "Epoch 15/20\n",
      "121/121 [==============================] - 0s 1ms/step - loss: 0.5913 - auc: 0.8998\n",
      "WARNING:tensorflow:Early stopping conditioned on metric `val_loss` which is not available. Available metrics are: loss,auc\n",
      "Epoch 16/20\n",
      "121/121 [==============================] - 0s 853us/step - loss: 0.5905 - auc: 0.9000\n",
      "WARNING:tensorflow:Early stopping conditioned on metric `val_loss` which is not available. Available metrics are: loss,auc\n",
      "Epoch 17/20\n",
      "121/121 [==============================] - 0s 891us/step - loss: 0.5899 - auc: 0.9000\n",
      "WARNING:tensorflow:Early stopping conditioned on metric `val_loss` which is not available. Available metrics are: loss,auc\n",
      "Epoch 18/20\n",
      "121/121 [==============================] - 0s 787us/step - loss: 0.5891 - auc: 0.9003\n",
      "WARNING:tensorflow:Early stopping conditioned on metric `val_loss` which is not available. Available metrics are: loss,auc\n",
      "Epoch 19/20\n",
      "121/121 [==============================] - 0s 1ms/step - loss: 0.5889 - auc: 0.9002\n",
      "WARNING:tensorflow:Early stopping conditioned on metric `val_loss` which is not available. Available metrics are: loss,auc\n",
      "Epoch 20/20\n",
      "121/121 [==============================] - 0s 3ms/step - loss: 0.5883 - auc: 0.9004\n",
      "WARNING:tensorflow:Early stopping conditioned on metric `val_loss` which is not available. Available metrics are: loss,auc\n"
     ]
    }
   ],
   "source": [
    "pred = model.fit(train_x, train_y, epochs=epochs, callbacks=[callbacks])"
   ]
  },
  {
   "cell_type": "code",
   "execution_count": 19,
   "metadata": {},
   "outputs": [
    {
     "name": "stdout",
     "output_type": "stream",
     "text": [
      "52/52 [==============================] - 0s 2ms/step - loss: 0.5852 - auc: 0.8968\n",
      "['loss', 'auc']\n",
      "[0.5851829648017883, 0.8967797160148621]\n"
     ]
    }
   ],
   "source": [
    "result = model.evaluate(test_x, test_y)\n",
    "print(model.metrics_names)\n",
    "print(result)"
   ]
  },
  {
   "cell_type": "code",
   "execution_count": null,
   "metadata": {},
   "outputs": [],
   "source": []
  }
 ],
 "metadata": {
  "kernelspec": {
   "display_name": "SportScience",
   "language": "python",
   "name": "python3"
  },
  "language_info": {
   "codemirror_mode": {
    "name": "ipython",
    "version": 3
   },
   "file_extension": ".py",
   "mimetype": "text/x-python",
   "name": "python",
   "nbconvert_exporter": "python",
   "pygments_lexer": "ipython3",
   "version": "3.6.13"
  },
  "orig_nbformat": 4,
  "vscode": {
   "interpreter": {
    "hash": "d5a07162fe3afdd7b480234d7b349d638e7b8aabfdb46dc5c5983105b59f4026"
   }
  }
 },
 "nbformat": 4,
 "nbformat_minor": 2
}
