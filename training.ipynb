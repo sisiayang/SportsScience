{
 "cells": [
  {
   "cell_type": "code",
   "execution_count": 126,
   "metadata": {},
   "outputs": [],
   "source": [
    "import tensorflow as tf\n",
    "import numpy as np\n",
    "import pandas as pd\n",
    "from keras import layers\n",
    "import keras"
   ]
  },
  {
   "cell_type": "code",
   "execution_count": 127,
   "metadata": {},
   "outputs": [],
   "source": [
    "def training(len_input, embed_space_size, embed_action_size):\n",
    "    '''define layer\n",
    "    embed_space_size: space種類數\n",
    "    embed_action_size: action種類數\n",
    "    len_input: (space預計輸入維度, action預計輸入維度, others預計輸入維度)\n",
    "    '''\n",
    "    input_space = keras.Input(shape=len_input[0], name='Space_input')\n",
    "    input_action = keras.Input(shape=len_input[1], name='Action_input')\n",
    "    input_other = keras.Input(shape=len_input[2], name='Other_input')\n",
    "\n",
    "    space_embedding = layers.Embedding(input_dim=embed_space_size, output_dim=4, mask_zero=True, name='Space_embedding')\n",
    "    action_embeding = layers.Embedding(input_dim=embed_action_size, output_dim=4, mask_zero=True, name='Action_embedding')\n",
    "    \n",
    "    layer_reshape_space = layers.Reshape((4,), input_shape=(len_input[0], 4), name='reshape_space')\n",
    "    layer_reshape_action = layers.Reshape((4,), input_shape=(len_input[1], 4), name='reshape_action')\n",
    "\n",
    "    input_concat_embedding = layers.Concatenate(name='Input_merging', axis=1)\n",
    "    layer_dense = layers.Dense(units=3, activation='softmax')\n",
    "\n",
    "    '''define forward'''\n",
    "    inputs = [input_space, input_action, input_other]\n",
    "    embeded_space = space_embedding(input_space)\n",
    "    embeded_action = action_embeding(input_action)\n",
    "\n",
    "    embeded_space = layer_reshape_space(embeded_space)\n",
    "    embeded_action = layer_reshape_action(embeded_action)\n",
    "\n",
    "    embeded_input = input_concat_embedding([embeded_space, embeded_action, input_other])\n",
    "    output_prob = layer_dense(embeded_input)\n",
    "\n",
    "    model = keras.Model(inputs=inputs, outputs=output_prob, name='classifier')\n",
    "\n",
    "    return model"
   ]
  },
  {
   "attachments": {},
   "cell_type": "markdown",
   "metadata": {},
   "source": [
    "---"
   ]
  },
  {
   "attachments": {},
   "cell_type": "markdown",
   "metadata": {},
   "source": [
    "prepare data"
   ]
  },
  {
   "cell_type": "code",
   "execution_count": 128,
   "metadata": {},
   "outputs": [],
   "source": [
    "train_df = pd.read_csv('train_df.csv')\n",
    "test_df = pd.read_csv('test_df.csv')"
   ]
  },
  {
   "cell_type": "code",
   "execution_count": 129,
   "metadata": {},
   "outputs": [],
   "source": [
    "train_input = train_df[['Team', 'No.', 'Space', 'Action']]\n",
    "train_label = train_df[['Erros', 'Score']]"
   ]
  },
  {
   "cell_type": "code",
   "execution_count": 130,
   "metadata": {},
   "outputs": [],
   "source": [
    "train_space = train_input[['Space']].astype('float')\n",
    "train_action = train_input[['Action']].astype('float')\n",
    "train_others = train_input[['Team', 'No.']]\n",
    "\n",
    "# train_space = train_space.astype({'Space': 'str'})\n",
    "# train_action = train_action.astype({'Action': 'str'})\n",
    "train_others = train_others.astype({'No.': 'str'})"
   ]
  },
  {
   "cell_type": "code",
   "execution_count": 131,
   "metadata": {},
   "outputs": [],
   "source": [
    "# train_space_dummy = pd.get_dummies(train_space)\n",
    "# train_action_dummy = pd.get_dummies(train_action)\n",
    "train_others_dummy = pd.get_dummies(train_others).astype('float')"
   ]
  },
  {
   "cell_type": "code",
   "execution_count": 132,
   "metadata": {},
   "outputs": [
    {
     "name": "stderr",
     "output_type": "stream",
     "text": [
      "c:\\Users\\user\\anaconda3\\envs\\SportScience\\lib\\site-packages\\pandas\\core\\indexing.py:1596: SettingWithCopyWarning: \n",
      "A value is trying to be set on a copy of a slice from a DataFrame.\n",
      "Try using .loc[row_indexer,col_indexer] = value instead\n",
      "\n",
      "See the caveats in the documentation: https://pandas.pydata.org/pandas-docs/stable/user_guide/indexing.html#returning-a-view-versus-a-copy\n",
      "  self.obj[key] = _infer_fill_value(value)\n",
      "c:\\Users\\user\\anaconda3\\envs\\SportScience\\lib\\site-packages\\pandas\\core\\indexing.py:1781: SettingWithCopyWarning: \n",
      "A value is trying to be set on a copy of a slice from a DataFrame.\n",
      "Try using .loc[row_indexer,col_indexer] = value instead\n",
      "\n",
      "See the caveats in the documentation: https://pandas.pydata.org/pandas-docs/stable/user_guide/indexing.html#returning-a-view-versus-a-copy\n",
      "  self.obj[item_labels[indexer[info_axis]]] = value\n",
      "c:\\Users\\user\\anaconda3\\envs\\SportScience\\lib\\site-packages\\pandas\\core\\indexing.py:670: SettingWithCopyWarning: \n",
      "A value is trying to be set on a copy of a slice from a DataFrame\n",
      "\n",
      "See the caveats in the documentation: https://pandas.pydata.org/pandas-docs/stable/user_guide/indexing.html#returning-a-view-versus-a-copy\n",
      "  iloc._setitem_with_indexer(indexer, value)\n",
      "c:\\Users\\user\\anaconda3\\envs\\SportScience\\lib\\site-packages\\ipykernel_launcher.py:2: SettingWithCopyWarning: \n",
      "A value is trying to be set on a copy of a slice from a DataFrame\n",
      "\n",
      "See the caveats in the documentation: https://pandas.pydata.org/pandas-docs/stable/user_guide/indexing.html#returning-a-view-versus-a-copy\n",
      "  \n"
     ]
    }
   ],
   "source": [
    "train_label.loc[:, 'Nothing'] = 0.0\n",
    "train_label.loc[(train_label['Erros'] == 0) & (train_label['Score'] == 0), 'Nothing'] = 1.0"
   ]
  },
  {
   "cell_type": "code",
   "execution_count": 133,
   "metadata": {},
   "outputs": [
    {
     "name": "stdout",
     "output_type": "stream",
     "text": [
      "(900, 1)\n",
      "(900, 1)\n",
      "(900, 24)\n",
      "(900, 3)\n"
     ]
    }
   ],
   "source": [
    "print(train_space.shape)\n",
    "print(train_action.shape)\n",
    "print(train_others_dummy.shape)\n",
    "\n",
    "print(train_label.shape)"
   ]
  },
  {
   "cell_type": "code",
   "execution_count": 134,
   "metadata": {},
   "outputs": [],
   "source": [
    "# Avoid tensorflow use full memory\n",
    "physical_devices = tf.config.experimental.list_physical_devices('CPU')\n",
    "try:\n",
    "    tf.config.experimental.set_memory_growth(physical_devices[0], True)\n",
    "except:\n",
    "    # Invalid device or cannot modify virtual devices once initialized.\n",
    "    pass"
   ]
  },
  {
   "cell_type": "code",
   "execution_count": 135,
   "metadata": {},
   "outputs": [
    {
     "name": "stdout",
     "output_type": "stream",
     "text": [
      "Model: \"classifier\"\n",
      "__________________________________________________________________________________________________\n",
      "Layer (type)                    Output Shape         Param #     Connected to                     \n",
      "==================================================================================================\n",
      "Space_input (InputLayer)        [(None, 1)]          0                                            \n",
      "__________________________________________________________________________________________________\n",
      "Action_input (InputLayer)       [(None, 1)]          0                                            \n",
      "__________________________________________________________________________________________________\n",
      "Space_embedding (Embedding)     (None, 1, 4)         60          Space_input[0][0]                \n",
      "__________________________________________________________________________________________________\n",
      "Action_embedding (Embedding)    (None, 1, 4)         36          Action_input[0][0]               \n",
      "__________________________________________________________________________________________________\n",
      "reshape_space (Reshape)         (None, 4)            0           Space_embedding[0][0]            \n",
      "__________________________________________________________________________________________________\n",
      "reshape_action (Reshape)        (None, 4)            0           Action_embedding[0][0]           \n",
      "__________________________________________________________________________________________________\n",
      "Other_input (InputLayer)        [(None, 24)]         0                                            \n",
      "__________________________________________________________________________________________________\n",
      "Input_merging (Concatenate)     (None, 32)           0           reshape_space[0][0]              \n",
      "                                                                 reshape_action[0][0]             \n",
      "                                                                 Other_input[0][0]                \n",
      "__________________________________________________________________________________________________\n",
      "dense_8 (Dense)                 (None, 3)            99          Input_merging[0][0]              \n",
      "==================================================================================================\n",
      "Total params: 195\n",
      "Trainable params: 195\n",
      "Non-trainable params: 0\n",
      "__________________________________________________________________________________________________\n"
     ]
    }
   ],
   "source": [
    "embed_space_size = 15\n",
    "embed_action_size = 9\n",
    "model = training(\n",
    "    (1, 1, 24), \n",
    "    embed_space_size, \n",
    "    embed_action_size\n",
    "    )\n",
    "    \n",
    "model.summary()"
   ]
  },
  {
   "cell_type": "code",
   "execution_count": 136,
   "metadata": {},
   "outputs": [],
   "source": [
    "# x = [[[1, 20]], [[2, 3]], [[1, 1]]]\n",
    "# x[1: :]\n",
    "\n",
    "# model = tf.keras.Sequential()\n",
    "# model.add(tf.keras.layers.Reshape((2,), input_shape=(1, 2)))\n",
    "# # model.output_shape == (None, 3, 4), `None` is the batch size.\n",
    "# model.output_shape\n",
    "# model.input_shape"
   ]
  },
  {
   "cell_type": "code",
   "execution_count": 137,
   "metadata": {},
   "outputs": [],
   "source": [
    "regularizer = tf.keras.regularizers.l2(0.01)\n",
    "optimizer = 'adam'\n",
    "loss = keras.losses.CategoricalCrossentropy()\n",
    "metrics = ['AUC']\n",
    "epochs = 20\n",
    "callbacks = tf.keras.callbacks.EarlyStopping(min_delta=0.002, patience=15, restore_best_weights=True)\n",
    "\n",
    "model.compile(optimizer=optimizer, loss=loss, metrics=metrics)"
   ]
  },
  {
   "cell_type": "code",
   "execution_count": 138,
   "metadata": {},
   "outputs": [],
   "source": [
    "train_space_tensor = tf.convert_to_tensor(train_space)\n",
    "train_action_tensor = tf.convert_to_tensor(train_action)\n",
    "train_others_tensor = tf.convert_to_tensor(train_others_dummy)\n",
    "train_label_tensor = tf.convert_to_tensor(train_label)\n",
    "\n",
    "# train_space_tensor = tf.expand_dims(train_space_tensor, 0)\n",
    "# train_action_tensor = tf.expand_dims(train_action_tensor, 0)\n",
    "# train_others_tensor = tf.expand_dims(train_others_tensor, 0)\n",
    "# train_label_tensor = tf.expand_dims(train_label_tensor, 0)\n",
    "\n",
    "\n",
    "train_x = [train_space_tensor, train_action_tensor, train_others_tensor]"
   ]
  },
  {
   "cell_type": "code",
   "execution_count": 139,
   "metadata": {},
   "outputs": [
    {
     "name": "stdout",
     "output_type": "stream",
     "text": [
      "Epoch 1/20\n",
      "29/29 [==============================] - 1s 2ms/step - loss: 1.1276 - auc: 0.5307\n",
      "WARNING:tensorflow:Early stopping conditioned on metric `val_loss` which is not available. Available metrics are: loss,auc\n",
      "Epoch 2/20\n",
      "29/29 [==============================] - 0s 2ms/step - loss: 1.0572 - auc: 0.6331\n",
      "WARNING:tensorflow:Early stopping conditioned on metric `val_loss` which is not available. Available metrics are: loss,auc\n",
      "Epoch 3/20\n",
      "29/29 [==============================] - 0s 1ms/step - loss: 0.9910 - auc: 0.7221\n",
      "WARNING:tensorflow:Early stopping conditioned on metric `val_loss` which is not available. Available metrics are: loss,auc\n",
      "Epoch 4/20\n",
      "29/29 [==============================] - 0s 2ms/step - loss: 0.9308 - auc: 0.7827\n",
      "WARNING:tensorflow:Early stopping conditioned on metric `val_loss` which is not available. Available metrics are: loss,auc\n",
      "Epoch 5/20\n",
      "29/29 [==============================] - 0s 3ms/step - loss: 0.8763 - auc: 0.8177\n",
      "WARNING:tensorflow:Early stopping conditioned on metric `val_loss` which is not available. Available metrics are: loss,auc\n",
      "Epoch 6/20\n",
      "29/29 [==============================] - 0s 2ms/step - loss: 0.8321 - auc: 0.8333\n",
      "WARNING:tensorflow:Early stopping conditioned on metric `val_loss` which is not available. Available metrics are: loss,auc\n",
      "Epoch 7/20\n",
      "29/29 [==============================] - 0s 2ms/step - loss: 0.7959 - auc: 0.8484\n",
      "WARNING:tensorflow:Early stopping conditioned on metric `val_loss` which is not available. Available metrics are: loss,auc\n",
      "Epoch 8/20\n",
      "29/29 [==============================] - 0s 3ms/step - loss: 0.7669 - auc: 0.8586\n",
      "WARNING:tensorflow:Early stopping conditioned on metric `val_loss` which is not available. Available metrics are: loss,auc\n",
      "Epoch 9/20\n",
      "29/29 [==============================] - 0s 2ms/step - loss: 0.7432 - auc: 0.8655\n",
      "WARNING:tensorflow:Early stopping conditioned on metric `val_loss` which is not available. Available metrics are: loss,auc\n",
      "Epoch 10/20\n",
      "29/29 [==============================] - 0s 2ms/step - loss: 0.7249 - auc: 0.8703\n",
      "WARNING:tensorflow:Early stopping conditioned on metric `val_loss` which is not available. Available metrics are: loss,auc\n",
      "Epoch 11/20\n",
      "29/29 [==============================] - 0s 2ms/step - loss: 0.7097 - auc: 0.8739\n",
      "WARNING:tensorflow:Early stopping conditioned on metric `val_loss` which is not available. Available metrics are: loss,auc\n",
      "Epoch 12/20\n",
      "29/29 [==============================] - 0s 1ms/step - loss: 0.6967 - auc: 0.8773\n",
      "WARNING:tensorflow:Early stopping conditioned on metric `val_loss` which is not available. Available metrics are: loss,auc\n",
      "Epoch 13/20\n",
      "29/29 [==============================] - 0s 1ms/step - loss: 0.6857 - auc: 0.8796\n",
      "WARNING:tensorflow:Early stopping conditioned on metric `val_loss` which is not available. Available metrics are: loss,auc\n",
      "Epoch 14/20\n",
      "29/29 [==============================] - 0s 1ms/step - loss: 0.6755 - auc: 0.8823\n",
      "WARNING:tensorflow:Early stopping conditioned on metric `val_loss` which is not available. Available metrics are: loss,auc\n",
      "Epoch 15/20\n",
      "29/29 [==============================] - 0s 999us/step - loss: 0.6661 - auc: 0.8842\n",
      "WARNING:tensorflow:Early stopping conditioned on metric `val_loss` which is not available. Available metrics are: loss,auc\n",
      "Epoch 16/20\n",
      "29/29 [==============================] - 0s 1ms/step - loss: 0.6580 - auc: 0.8855\n",
      "WARNING:tensorflow:Early stopping conditioned on metric `val_loss` which is not available. Available metrics are: loss,auc\n",
      "Epoch 17/20\n",
      "29/29 [==============================] - 0s 818us/step - loss: 0.6507 - auc: 0.8869\n",
      "WARNING:tensorflow:Early stopping conditioned on metric `val_loss` which is not available. Available metrics are: loss,auc\n",
      "Epoch 18/20\n",
      "29/29 [==============================] - 0s 1ms/step - loss: 0.6440 - auc: 0.8880\n",
      "WARNING:tensorflow:Early stopping conditioned on metric `val_loss` which is not available. Available metrics are: loss,auc\n",
      "Epoch 19/20\n",
      "29/29 [==============================] - 0s 2ms/step - loss: 0.6377 - auc: 0.8894\n",
      "WARNING:tensorflow:Early stopping conditioned on metric `val_loss` which is not available. Available metrics are: loss,auc\n",
      "Epoch 20/20\n",
      "29/29 [==============================] - 0s 2ms/step - loss: 0.6322 - auc: 0.8903\n",
      "WARNING:tensorflow:Early stopping conditioned on metric `val_loss` which is not available. Available metrics are: loss,auc\n"
     ]
    }
   ],
   "source": [
    "pred = model.fit(train_x, train_label_tensor, epochs=epochs, callbacks=[callbacks])"
   ]
  },
  {
   "cell_type": "code",
   "execution_count": null,
   "metadata": {},
   "outputs": [],
   "source": []
  },
  {
   "cell_type": "code",
   "execution_count": null,
   "metadata": {},
   "outputs": [],
   "source": []
  }
 ],
 "metadata": {
  "kernelspec": {
   "display_name": "SportScience",
   "language": "python",
   "name": "python3"
  },
  "language_info": {
   "codemirror_mode": {
    "name": "ipython",
    "version": 3
   },
   "file_extension": ".py",
   "mimetype": "text/x-python",
   "name": "python",
   "nbconvert_exporter": "python",
   "pygments_lexer": "ipython3",
   "version": "3.6.13"
  },
  "orig_nbformat": 4,
  "vscode": {
   "interpreter": {
    "hash": "d5a07162fe3afdd7b480234d7b349d638e7b8aabfdb46dc5c5983105b59f4026"
   }
  }
 },
 "nbformat": 4,
 "nbformat_minor": 2
}
