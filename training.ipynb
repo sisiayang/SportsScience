{
 "cells": [
  {
   "cell_type": "code",
   "execution_count": 1,
   "metadata": {},
   "outputs": [],
   "source": [
    "import tensorflow as tf\n",
    "import numpy as np\n",
    "import pandas as pd\n",
    "from keras import layers, Model\n",
    "import keras"
   ]
  },
  {
   "cell_type": "code",
   "execution_count": null,
   "metadata": {},
   "outputs": [],
   "source": [
    "def training(len_input, embed_space_size, embed_action_size):\n",
    "    # shape = (資料筆數, 資料維度)？\n",
    "    input_space = keras.Input(shape=len_input, name='Space_input')\n",
    "    input_action = keras.Input(shape=len_input, name='Action_input')\n",
    "\n",
    "    if(embed_space_size is not None):\n",
    "        space_embedding = layers.Embedding(input_dim=embed_space_size, output_dim=4, mask_zero=True, name='Space_embedding')\n",
    "    else:\n",
    "        space_embedding = None\n",
    "\n",
    "    if(embed_action_size is not None):\n",
    "        action_embeding = layers.Embedding(input_dim=embed_action_size, output_dim=4, mask_zero=True, name='Action_embedding')\n",
    "    else:\n",
    "        action_embeding = None\n",
    "\n",
    "\n"
   ]
  },
  {
   "cell_type": "code",
   "execution_count": null,
   "metadata": {},
   "outputs": [],
   "source": []
  },
  {
   "cell_type": "code",
   "execution_count": null,
   "metadata": {},
   "outputs": [],
   "source": []
  },
  {
   "attachments": {},
   "cell_type": "markdown",
   "metadata": {},
   "source": [
    "---"
   ]
  },
  {
   "cell_type": "code",
   "execution_count": 19,
   "metadata": {},
   "outputs": [],
   "source": [
    "def sample_process():\n",
    "    inputs = keras.Input(shape=(None, None, 3))\n",
    "    processed = layers.RandomCrop(width=32, height=32)(inputs)\n",
    "    conv = layers.Conv2D(filters=2, kernel_size=3)(processed)\n",
    "    pooling = layers.GlobalAveragePooling2D()(conv)\n",
    "    feature = layers.Dense(10)(pooling)\n",
    "\n",
    "    full_model = Model(inputs, feature)\n",
    "    return full_model"
   ]
  },
  {
   "cell_type": "code",
   "execution_count": 20,
   "metadata": {},
   "outputs": [
    {
     "name": "stdout",
     "output_type": "stream",
     "text": [
      "Model: \"model_6\"\n",
      "_________________________________________________________________\n",
      "Layer (type)                 Output Shape              Param #   \n",
      "=================================================================\n",
      "input_3 (InputLayer)         [(None, None, None, 3)]   0         \n",
      "_________________________________________________________________\n",
      "random_crop_2 (RandomCrop)   (None, 32, 32, 3)         0         \n",
      "_________________________________________________________________\n",
      "conv2d_2 (Conv2D)            (None, 30, 30, 2)         56        \n",
      "_________________________________________________________________\n",
      "global_average_pooling2d_2 ( (None, 2)                 0         \n",
      "_________________________________________________________________\n",
      "dense_6 (Dense)              (None, 10)                30        \n",
      "=================================================================\n",
      "Total params: 86\n",
      "Trainable params: 86\n",
      "Non-trainable params: 0\n",
      "_________________________________________________________________\n"
     ]
    }
   ],
   "source": [
    "model = sample_process()\n",
    "model.summary()"
   ]
  },
  {
   "attachments": {},
   "cell_type": "markdown",
   "metadata": {},
   "source": [
    "---"
   ]
  },
  {
   "cell_type": "code",
   "execution_count": 21,
   "metadata": {},
   "outputs": [],
   "source": [
    "def training_process(data_size, space_dim, action_dim):\n",
    "    # shape = data sequence size\n",
    "    space_input = keras.Input(shape=data_size, name='Space_input')\n",
    "    action_input = keras.Input(shape=data_size, name='Action_input')\n",
    "\n",
    "    # input_dim = each input's dimension (how many classes)\n",
    "    space_embedding = layers.Embedding(input_dim=space_dim, output_dim=10, mask_zero=True, name='Space_Embedding')\n",
    "    action_embedding = layers.Embedding(input_dim=action_dim, output_dim=10, mask_zero=True, name='Action_Embedding')\n",
    "\n",
    "    # merge two embedding\n",
    "    layer_concat_embedding = layers.Concatenate(name='merged_Embedding')\n",
    "\n",
    "    layer_dense = layers.Dense(units=1, activation='sigmoid')\n",
    "    \n",
    "    # forward\n",
    "    inputs = [space_input, action_input]\n",
    "    embeded_space = space_embedding(space_input)\n",
    "    embeded_action = action_embedding(action_input)\n",
    "    merged_embedding = layer_concat_embedding([embeded_space, embeded_action])\n",
    "    output = layer_dense(merged_embedding)\n",
    "\n",
    "    model = Model(inputs=inputs, outputs=output)\n",
    "    return model"
   ]
  },
  {
   "cell_type": "code",
   "execution_count": 22,
   "metadata": {},
   "outputs": [
    {
     "name": "stdout",
     "output_type": "stream",
     "text": [
      "Model: \"model_7\"\n",
      "__________________________________________________________________________________________________\n",
      "Layer (type)                    Output Shape         Param #     Connected to                     \n",
      "==================================================================================================\n",
      "Space_input (InputLayer)        [(None, 30)]         0                                            \n",
      "__________________________________________________________________________________________________\n",
      "Action_input (InputLayer)       [(None, 30)]         0                                            \n",
      "__________________________________________________________________________________________________\n",
      "Space_Embedding (Embedding)     (None, 30, 10)       50          Space_input[0][0]                \n",
      "__________________________________________________________________________________________________\n",
      "Action_Embedding (Embedding)    (None, 30, 10)       50          Action_input[0][0]               \n",
      "__________________________________________________________________________________________________\n",
      "merged_Embedding (Concatenate)  (None, 30, 20)       0           Space_Embedding[0][0]            \n",
      "                                                                 Action_Embedding[0][0]           \n",
      "__________________________________________________________________________________________________\n",
      "dense_7 (Dense)                 (None, 30, 1)        21          merged_Embedding[0][0]           \n",
      "==================================================================================================\n",
      "Total params: 121\n",
      "Trainable params: 121\n",
      "Non-trainable params: 0\n",
      "__________________________________________________________________________________________________\n"
     ]
    }
   ],
   "source": [
    "model = training_process(30, 5, 5)\n",
    "model.summary()"
   ]
  }
 ],
 "metadata": {
  "kernelspec": {
   "display_name": "SportsScience",
   "language": "python",
   "name": "python3"
  },
  "language_info": {
   "codemirror_mode": {
    "name": "ipython",
    "version": 3
   },
   "file_extension": ".py",
   "mimetype": "text/x-python",
   "name": "python",
   "nbconvert_exporter": "python",
   "pygments_lexer": "ipython3",
   "version": "3.6.13"
  },
  "orig_nbformat": 4,
  "vscode": {
   "interpreter": {
    "hash": "fffa34264f6ce6b77cc651277138adbd1ba76ccda355db23c9a68779b5598a6c"
   }
  }
 },
 "nbformat": 4,
 "nbformat_minor": 2
}
