{
 "cells": [
  {
   "cell_type": "code",
   "execution_count": 174,
   "metadata": {},
   "outputs": [],
   "source": [
    "import tensorflow as tf\n",
    "import numpy as np\n",
    "import pandas as pd\n",
    "from keras import layers, Model\n",
    "import keras"
   ]
  },
  {
   "cell_type": "code",
   "execution_count": 175,
   "metadata": {},
   "outputs": [],
   "source": [
    "def training(len_input, embed_space_size, embed_action_size):\n",
    "    '''define layer'''\n",
    "    # shape = (資料筆數, other_input dimension)\n",
    "    input_space = keras.Input(shape=len_input[0], name='Space_input')\n",
    "    input_action = keras.Input(shape=len_input[0], name='Action_input')\n",
    "    input_other = keras.Input(shape=len_input, name='Other_input')\n",
    "\n",
    "    space_embedding = layers.Embedding(input_dim=embed_space_size, output_dim=4, mask_zero=True, name='Space_embedding')\n",
    "    action_embeding = layers.Embedding(input_dim=embed_action_size, output_dim=4, mask_zero=True, name='Action_embedding')\n",
    "    \n",
    "    input_concat_embedding = layers.Concatenate(name='Input_merging', axis=2)\n",
    "    layer_dense = layers.Dense(units=3, activation='softmax')\n",
    "\n",
    "    '''define forward'''\n",
    "    inputs = [input_space, input_action, input_other]\n",
    "    embeded_space = space_embedding(input_space)\n",
    "    embeded_action = action_embeding(input_action)\n",
    "\n",
    "    embeded_input = input_concat_embedding([embeded_space, embeded_action, input_other])\n",
    "    output_prob = layer_dense(embeded_input)\n",
    "\n",
    "    model = keras.Model(inputs=inputs, outputs=output_prob, name='classifier')\n",
    "\n",
    "    return model"
   ]
  },
  {
   "cell_type": "code",
   "execution_count": 176,
   "metadata": {},
   "outputs": [],
   "source": [
    "# x = np.arange(20).reshape(2, 2, 5)\n",
    "# print(x)\n",
    "\n",
    "# y = np.arange(20, 32).reshape(2, 2, 3)\n",
    "# print(y)\n",
    "\n",
    "# tf.keras.layers.Concatenate(axis=2)([x, y])"
   ]
  },
  {
   "cell_type": "code",
   "execution_count": 177,
   "metadata": {},
   "outputs": [
    {
     "name": "stdout",
     "output_type": "stream",
     "text": [
      "Model: \"classifier\"\n",
      "__________________________________________________________________________________________________\n",
      "Layer (type)                    Output Shape         Param #     Connected to                     \n",
      "==================================================================================================\n",
      "Space_input (InputLayer)        [(None, 100)]        0                                            \n",
      "__________________________________________________________________________________________________\n",
      "Action_input (InputLayer)       [(None, 100)]        0                                            \n",
      "__________________________________________________________________________________________________\n",
      "Space_embedding (Embedding)     (None, 100, 4)       40          Space_input[0][0]                \n",
      "__________________________________________________________________________________________________\n",
      "Action_embedding (Embedding)    (None, 100, 4)       40          Action_input[0][0]               \n",
      "__________________________________________________________________________________________________\n",
      "Other_input (InputLayer)        [(None, 100, 1)]     0                                            \n",
      "__________________________________________________________________________________________________\n",
      "Input_merging (Concatenate)     (None, 100, 9)       0           Space_embedding[0][0]            \n",
      "                                                                 Action_embedding[0][0]           \n",
      "                                                                 Other_input[0][0]                \n",
      "__________________________________________________________________________________________________\n",
      "dense_18 (Dense)                (None, 100, 3)       30          Input_merging[0][0]              \n",
      "==================================================================================================\n",
      "Total params: 110\n",
      "Trainable params: 110\n",
      "Non-trainable params: 0\n",
      "__________________________________________________________________________________________________\n"
     ]
    }
   ],
   "source": [
    "model = training((100, 1), 10, 10)\n",
    "model.summary()"
   ]
  },
  {
   "attachments": {},
   "cell_type": "markdown",
   "metadata": {},
   "source": [
    "---"
   ]
  },
  {
   "attachments": {},
   "cell_type": "markdown",
   "metadata": {},
   "source": [
    "prepare data"
   ]
  },
  {
   "cell_type": "code",
   "execution_count": 178,
   "metadata": {},
   "outputs": [],
   "source": [
    "train_df = pd.read_csv('train_df.csv')\n",
    "test_df = pd.read_csv('test_df.csv')"
   ]
  },
  {
   "cell_type": "code",
   "execution_count": 179,
   "metadata": {},
   "outputs": [],
   "source": [
    "train_input = train_df[['Team', 'No.', 'Space', 'Action']]\n",
    "train_label = train_df[['Erros', 'Score']]"
   ]
  },
  {
   "cell_type": "code",
   "execution_count": 186,
   "metadata": {},
   "outputs": [],
   "source": [
    "train_space = train_input[['Space']]\n",
    "train_action = train_input[['Action']]\n",
    "train_others = train_input[['Team', 'No.']]\n",
    "\n",
    "train_others = train_others.astype({'No.': 'str'})"
   ]
  },
  {
   "cell_type": "code",
   "execution_count": 187,
   "metadata": {},
   "outputs": [],
   "source": [
    "train_space_dummy = pd.get_dummies(train_space)\n",
    "train_action_dummy = pd.get_dummies(train_action)\n",
    "train_others_dummy = pd.get_dummies(train_others)"
   ]
  },
  {
   "cell_type": "code",
   "execution_count": 188,
   "metadata": {},
   "outputs": [
    {
     "name": "stderr",
     "output_type": "stream",
     "text": [
      "c:\\Users\\YiChen\\anaconda3\\envs\\SportsScience\\lib\\site-packages\\pandas\\core\\indexing.py:1781: SettingWithCopyWarning: \n",
      "A value is trying to be set on a copy of a slice from a DataFrame.\n",
      "Try using .loc[row_indexer,col_indexer] = value instead\n",
      "\n",
      "See the caveats in the documentation: https://pandas.pydata.org/pandas-docs/stable/user_guide/indexing.html#returning-a-view-versus-a-copy\n",
      "  self.obj[item_labels[indexer[info_axis]]] = value\n",
      "c:\\Users\\YiChen\\anaconda3\\envs\\SportsScience\\lib\\site-packages\\pandas\\core\\indexing.py:670: SettingWithCopyWarning: \n",
      "A value is trying to be set on a copy of a slice from a DataFrame\n",
      "\n",
      "See the caveats in the documentation: https://pandas.pydata.org/pandas-docs/stable/user_guide/indexing.html#returning-a-view-versus-a-copy\n",
      "  iloc._setitem_with_indexer(indexer, value)\n",
      "c:\\Users\\YiChen\\anaconda3\\envs\\SportsScience\\lib\\site-packages\\ipykernel_launcher.py:2: SettingWithCopyWarning: \n",
      "A value is trying to be set on a copy of a slice from a DataFrame\n",
      "\n",
      "See the caveats in the documentation: https://pandas.pydata.org/pandas-docs/stable/user_guide/indexing.html#returning-a-view-versus-a-copy\n",
      "  \n"
     ]
    }
   ],
   "source": [
    "train_label.loc[:, 'Nothing'] = 0.0\n",
    "train_label.loc[(train_label['Erros'] == 0) & (train_label['Score'] == 0), 'Nothing'] = 1.0"
   ]
  },
  {
   "cell_type": "code",
   "execution_count": 189,
   "metadata": {},
   "outputs": [
    {
     "name": "stdout",
     "output_type": "stream",
     "text": [
      "(900, 24)\n",
      "(900, 14)\n",
      "(900, 8)\n",
      "(900, 3)\n"
     ]
    }
   ],
   "source": [
    "print(train_others_dummy.shape)\n",
    "print(train_space_dummy.shape)\n",
    "print(train_action_dummy.shape)\n",
    "print(train_label.shape)"
   ]
  },
  {
   "cell_type": "code",
   "execution_count": 193,
   "metadata": {},
   "outputs": [
    {
     "data": {
      "text/plain": [
       "8"
      ]
     },
     "execution_count": 193,
     "metadata": {},
     "output_type": "execute_result"
    }
   ],
   "source": [
    "train_action_dummy.shape[1]"
   ]
  },
  {
   "cell_type": "code",
   "execution_count": null,
   "metadata": {},
   "outputs": [],
   "source": [
    "model = training(train_others_dummy.shape, train_space_dummy.shape[1], train_action_dummy.shape[1])"
   ]
  }
 ],
 "metadata": {
  "kernelspec": {
   "display_name": "SportsScience",
   "language": "python",
   "name": "python3"
  },
  "language_info": {
   "codemirror_mode": {
    "name": "ipython",
    "version": 3
   },
   "file_extension": ".py",
   "mimetype": "text/x-python",
   "name": "python",
   "nbconvert_exporter": "python",
   "pygments_lexer": "ipython3",
   "version": "3.6.13"
  },
  "orig_nbformat": 4,
  "vscode": {
   "interpreter": {
    "hash": "fffa34264f6ce6b77cc651277138adbd1ba76ccda355db23c9a68779b5598a6c"
   }
  }
 },
 "nbformat": 4,
 "nbformat_minor": 2
}
