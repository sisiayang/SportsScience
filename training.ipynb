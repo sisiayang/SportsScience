{
 "cells": [
  {
   "cell_type": "code",
   "execution_count": 168,
   "metadata": {},
   "outputs": [],
   "source": [
    "import tensorflow as tf\n",
    "import numpy as np\n",
    "import pandas as pd\n",
    "from keras import layers\n",
    "import keras"
   ]
  },
  {
   "cell_type": "code",
   "execution_count": 169,
   "metadata": {},
   "outputs": [],
   "source": [
    "def training(len_input, embed_space_size, embed_action_size):\n",
    "    '''define layer\n",
    "    embed_space_size: space種類數\n",
    "    embed_action_size: action種類數\n",
    "    len_input: (space預計輸入維度, action預計輸入維度, others預計輸入維度)\n",
    "    '''\n",
    "    input_space = keras.Input(shape=len_input[0], name='Space_input')\n",
    "    input_action = keras.Input(shape=len_input[1], name='Action_input')\n",
    "    input_other = keras.Input(shape=len_input[2], name='Other_input')\n",
    "\n",
    "    space_embedding = layers.Embedding(input_dim=embed_space_size, output_dim=4, mask_zero=True, name='Space_embedding')\n",
    "    action_embeding = layers.Embedding(input_dim=embed_action_size, output_dim=4, mask_zero=True, name='Action_embedding')\n",
    "    \n",
    "    layer_reshape_space = layers.Reshape((4,), input_shape=(len_input[0], 4), name='reshape_space')\n",
    "    layer_reshape_action = layers.Reshape((4,), input_shape=(len_input[1], 4), name='reshape_action')\n",
    "\n",
    "    input_concat_embedding = layers.Concatenate(name='Input_merging', axis=1)\n",
    "    layer_dense = layers.Dense(units=3, activation='softmax')\n",
    "\n",
    "    '''define forward'''\n",
    "    inputs = [input_space, input_action, input_other]\n",
    "    embeded_space = space_embedding(input_space)\n",
    "    embeded_action = action_embeding(input_action)\n",
    "\n",
    "    embeded_space = layer_reshape_space(embeded_space)\n",
    "    embeded_action = layer_reshape_action(embeded_action)\n",
    "\n",
    "    embeded_input = input_concat_embedding([embeded_space, embeded_action, input_other])\n",
    "    output_prob = layer_dense(embeded_input)\n",
    "\n",
    "    model = keras.Model(inputs=inputs, outputs=output_prob, name='classifier')\n",
    "\n",
    "    return model"
   ]
  },
  {
   "attachments": {},
   "cell_type": "markdown",
   "metadata": {},
   "source": [
    "---"
   ]
  },
  {
   "attachments": {},
   "cell_type": "markdown",
   "metadata": {},
   "source": [
    "prepare data"
   ]
  },
  {
   "cell_type": "code",
   "execution_count": 170,
   "metadata": {},
   "outputs": [],
   "source": [
    "def prepare_data(df):\n",
    "    input = df[['Team', 'No.', 'Space', 'Action']].copy()\n",
    "    label = df[['Erros', 'Score']].copy()\n",
    "\n",
    "    space = input[['Space']].astype('float')\n",
    "    action = input[['Action']].astype('float')\n",
    "    others = input[['Team', 'No.']].copy()\n",
    "\n",
    "    others = others.astype({'No.': 'str'})\n",
    "    others_dummy = pd.get_dummies(others).astype('float')\n",
    "\n",
    "    label.loc[:, 'Nothing'] = 0.0\n",
    "    label.loc[(label['Erros'] == 0) & (label['Score'] == 0), 'Nothing'] = 1.0\n",
    "\n",
    "    space_tensor = tf.convert_to_tensor(space)\n",
    "    action_tensor = tf.convert_to_tensor(action)\n",
    "    others_tensor = tf.convert_to_tensor(others_dummy)\n",
    "    \n",
    "    x = [space_tensor, action_tensor, others_tensor]\n",
    "    y = tf.convert_to_tensor(label)\n",
    "\n",
    "    return x, y"
   ]
  },
  {
   "cell_type": "code",
   "execution_count": 171,
   "metadata": {},
   "outputs": [],
   "source": [
    "train_df = pd.read_csv('train_df.csv')\n",
    "test_df = pd.read_csv('test_df.csv')"
   ]
  },
  {
   "cell_type": "code",
   "execution_count": 172,
   "metadata": {},
   "outputs": [],
   "source": [
    "train_x, train_y = prepare_data(train_df)"
   ]
  },
  {
   "cell_type": "code",
   "execution_count": 173,
   "metadata": {},
   "outputs": [
    {
     "name": "stdout",
     "output_type": "stream",
     "text": [
      "Model: \"classifier\"\n",
      "__________________________________________________________________________________________________\n",
      "Layer (type)                    Output Shape         Param #     Connected to                     \n",
      "==================================================================================================\n",
      "Space_input (InputLayer)        [(None, 1)]          0                                            \n",
      "__________________________________________________________________________________________________\n",
      "Action_input (InputLayer)       [(None, 1)]          0                                            \n",
      "__________________________________________________________________________________________________\n",
      "Space_embedding (Embedding)     (None, 1, 4)         60          Space_input[0][0]                \n",
      "__________________________________________________________________________________________________\n",
      "Action_embedding (Embedding)    (None, 1, 4)         36          Action_input[0][0]               \n",
      "__________________________________________________________________________________________________\n",
      "reshape_space (Reshape)         (None, 4)            0           Space_embedding[0][0]            \n",
      "__________________________________________________________________________________________________\n",
      "reshape_action (Reshape)        (None, 4)            0           Action_embedding[0][0]           \n",
      "__________________________________________________________________________________________________\n",
      "Other_input (InputLayer)        [(None, 24)]         0                                            \n",
      "__________________________________________________________________________________________________\n",
      "Input_merging (Concatenate)     (None, 32)           0           reshape_space[0][0]              \n",
      "                                                                 reshape_action[0][0]             \n",
      "                                                                 Other_input[0][0]                \n",
      "__________________________________________________________________________________________________\n",
      "dense_11 (Dense)                (None, 3)            99          Input_merging[0][0]              \n",
      "==================================================================================================\n",
      "Total params: 195\n",
      "Trainable params: 195\n",
      "Non-trainable params: 0\n",
      "__________________________________________________________________________________________________\n"
     ]
    }
   ],
   "source": [
    "embed_space_size = 15\n",
    "embed_action_size = 9\n",
    "model = training(\n",
    "    (1, 1, 24), \n",
    "    embed_space_size, \n",
    "    embed_action_size\n",
    "    )\n",
    "    \n",
    "model.summary()"
   ]
  },
  {
   "cell_type": "code",
   "execution_count": 174,
   "metadata": {},
   "outputs": [],
   "source": [
    "regularizer = tf.keras.regularizers.l2(0.01)\n",
    "optimizer = 'adam'\n",
    "loss = keras.losses.CategoricalCrossentropy()\n",
    "metrics = ['AUC']\n",
    "epochs = 20\n",
    "callbacks = tf.keras.callbacks.EarlyStopping(min_delta=0.002, patience=15, restore_best_weights=True)\n",
    "\n",
    "model.compile(optimizer=optimizer, loss=loss, metrics=metrics)"
   ]
  },
  {
   "cell_type": "code",
   "execution_count": 175,
   "metadata": {},
   "outputs": [
    {
     "name": "stdout",
     "output_type": "stream",
     "text": [
      "Epoch 1/20\n",
      "29/29 [==============================] - 1s 1ms/step - loss: 1.2516 - auc: 0.3242\n",
      "WARNING:tensorflow:Early stopping conditioned on metric `val_loss` which is not available. Available metrics are: loss,auc\n",
      "Epoch 2/20\n",
      "29/29 [==============================] - 0s 2ms/step - loss: 1.1769 - auc: 0.4249\n",
      "WARNING:tensorflow:Early stopping conditioned on metric `val_loss` which is not available. Available metrics are: loss,auc\n",
      "Epoch 3/20\n",
      "29/29 [==============================] - 0s 2ms/step - loss: 1.1031 - auc: 0.5395\n",
      "WARNING:tensorflow:Early stopping conditioned on metric `val_loss` which is not available. Available metrics are: loss,auc\n",
      "Epoch 4/20\n",
      "29/29 [==============================] - 0s 2ms/step - loss: 1.0279 - auc: 0.6709\n",
      "WARNING:tensorflow:Early stopping conditioned on metric `val_loss` which is not available. Available metrics are: loss,auc\n",
      "Epoch 5/20\n",
      "29/29 [==============================] - 0s 2ms/step - loss: 0.9569 - auc: 0.7623\n",
      "WARNING:tensorflow:Early stopping conditioned on metric `val_loss` which is not available. Available metrics are: loss,auc\n",
      "Epoch 6/20\n",
      "29/29 [==============================] - 0s 3ms/step - loss: 0.8921 - auc: 0.8078\n",
      "WARNING:tensorflow:Early stopping conditioned on metric `val_loss` which is not available. Available metrics are: loss,auc\n",
      "Epoch 7/20\n",
      "29/29 [==============================] - 0s 3ms/step - loss: 0.8400 - auc: 0.8258\n",
      "WARNING:tensorflow:Early stopping conditioned on metric `val_loss` which is not available. Available metrics are: loss,auc\n",
      "Epoch 8/20\n",
      "29/29 [==============================] - 0s 4ms/step - loss: 0.7973 - auc: 0.8435\n",
      "WARNING:tensorflow:Early stopping conditioned on metric `val_loss` which is not available. Available metrics are: loss,auc\n",
      "Epoch 9/20\n",
      "29/29 [==============================] - 0s 2ms/step - loss: 0.7665 - auc: 0.8559\n",
      "WARNING:tensorflow:Early stopping conditioned on metric `val_loss` which is not available. Available metrics are: loss,auc\n",
      "Epoch 10/20\n",
      "29/29 [==============================] - 0s 3ms/step - loss: 0.7427 - auc: 0.8645\n",
      "WARNING:tensorflow:Early stopping conditioned on metric `val_loss` which is not available. Available metrics are: loss,auc\n",
      "Epoch 11/20\n",
      "29/29 [==============================] - 0s 3ms/step - loss: 0.7238 - auc: 0.8710\n",
      "WARNING:tensorflow:Early stopping conditioned on metric `val_loss` which is not available. Available metrics are: loss,auc\n",
      "Epoch 12/20\n",
      "29/29 [==============================] - 0s 2ms/step - loss: 0.7080 - auc: 0.8760\n",
      "WARNING:tensorflow:Early stopping conditioned on metric `val_loss` which is not available. Available metrics are: loss,auc\n",
      "Epoch 13/20\n",
      "29/29 [==============================] - 0s 2ms/step - loss: 0.6949 - auc: 0.8798\n",
      "WARNING:tensorflow:Early stopping conditioned on metric `val_loss` which is not available. Available metrics are: loss,auc\n",
      "Epoch 14/20\n",
      "29/29 [==============================] - 0s 2ms/step - loss: 0.6833 - auc: 0.8831\n",
      "WARNING:tensorflow:Early stopping conditioned on metric `val_loss` which is not available. Available metrics are: loss,auc\n",
      "Epoch 15/20\n",
      "29/29 [==============================] - 0s 2ms/step - loss: 0.6733 - auc: 0.8851\n",
      "WARNING:tensorflow:Early stopping conditioned on metric `val_loss` which is not available. Available metrics are: loss,auc\n",
      "Epoch 16/20\n",
      "29/29 [==============================] - 0s 1ms/step - loss: 0.6642 - auc: 0.8870\n",
      "WARNING:tensorflow:Early stopping conditioned on metric `val_loss` which is not available. Available metrics are: loss,auc\n",
      "Epoch 17/20\n",
      "29/29 [==============================] - 0s 2ms/step - loss: 0.6564 - auc: 0.8886\n",
      "WARNING:tensorflow:Early stopping conditioned on metric `val_loss` which is not available. Available metrics are: loss,auc\n",
      "Epoch 18/20\n",
      "29/29 [==============================] - 0s 2ms/step - loss: 0.6490 - auc: 0.8899\n",
      "WARNING:tensorflow:Early stopping conditioned on metric `val_loss` which is not available. Available metrics are: loss,auc\n",
      "Epoch 19/20\n",
      "29/29 [==============================] - 0s 2ms/step - loss: 0.6424 - auc: 0.8910\n",
      "WARNING:tensorflow:Early stopping conditioned on metric `val_loss` which is not available. Available metrics are: loss,auc\n",
      "Epoch 20/20\n",
      "29/29 [==============================] - 0s 2ms/step - loss: 0.6363 - auc: 0.8919\n",
      "WARNING:tensorflow:Early stopping conditioned on metric `val_loss` which is not available. Available metrics are: loss,auc\n"
     ]
    }
   ],
   "source": [
    "pred = model.fit(train_x, train_y, epochs=epochs, callbacks=[callbacks])"
   ]
  },
  {
   "cell_type": "code",
   "execution_count": null,
   "metadata": {},
   "outputs": [],
   "source": []
  },
  {
   "cell_type": "code",
   "execution_count": null,
   "metadata": {},
   "outputs": [],
   "source": []
  }
 ],
 "metadata": {
  "kernelspec": {
   "display_name": "SportScience",
   "language": "python",
   "name": "python3"
  },
  "language_info": {
   "codemirror_mode": {
    "name": "ipython",
    "version": 3
   },
   "file_extension": ".py",
   "mimetype": "text/x-python",
   "name": "python",
   "nbconvert_exporter": "python",
   "pygments_lexer": "ipython3",
   "version": "3.6.13"
  },
  "orig_nbformat": 4,
  "vscode": {
   "interpreter": {
    "hash": "d5a07162fe3afdd7b480234d7b349d638e7b8aabfdb46dc5c5983105b59f4026"
   }
  }
 },
 "nbformat": 4,
 "nbformat_minor": 2
}
