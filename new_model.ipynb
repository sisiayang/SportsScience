{
 "cells": [
  {
   "cell_type": "code",
   "execution_count": 1,
   "metadata": {},
   "outputs": [],
   "source": [
    "import tensorflow as tf\n",
    "import numpy as np\n",
    "import pandas as pd\n",
    "from keras import layers\n",
    "import keras\n",
    "from model import CNN_with_mask"
   ]
  },
  {
   "cell_type": "code",
   "execution_count": null,
   "metadata": {},
   "outputs": [],
   "source": [
    "def create_model(input_dim, seq_len, embed_space_size, embed_action_size):\n",
    "    input_space = keras.Input(shape=(seq_len, input_dim[0]), name='Space_input')\n",
    "    input_action = keras.Input(shape=(seq_len, input_dim[1]), name='Action_input')\n",
    "    input_others = keras.Input(shape=(seq_len, input_dim[0], input_dim[2]), name='Other_input')\n",
    "\n",
    "    input_shot = keras.Input(shape=(3, input_dim[0]))\n",
    "\n",
    "    space_embedding = layers.Embedding(input_dim=embed_space_size, output_dim=4, mask_zero=True, name='Space_embedding')\n",
    "    action_embeding = layers.Embedding(input_dim=embed_action_size, output_dim=4, mask_zero=True, name='Action_embedding')\n",
    "\n",
    "    masking_layer = layers.Masking(mask_value=0)\n",
    "    \n",
    "    input_concat_embedding = layers.Concatenate(name='Input_merging')\n",
    "    \n",
    "    layer_cnn = CNN_with_mask(filters=4+4+input_dim[2], kernel_size=3, name='cnn')\n",
    "    layer_dense = layers.Dense(units=3, activation='softmax')\n",
    "\n",
    "    '''define forward'''\n",
    "    inputs = [input_space, input_action, input_others]\n",
    "    embeded_space = space_embedding(input_space)\n",
    "    embeded_action = action_embeding(input_action)\n",
    "\n",
    "    unmasked_others = tf.cast(input_others, tf.float32)\n",
    "    masked_others = masking_layer(unmasked_others)\n",
    "\n",
    "    embeded_input = input_concat_embedding([embeded_space, embeded_action, masked_others])\n",
    "\n",
    "    cnn = layer_cnn(embeded_input)\n",
    "    output_prob = layer_dense(cnn)\n",
    "\n",
    "    model = keras.Model(inputs=inputs, outputs=output_prob, name='classifier')\n",
    "\n",
    "    return model"
   ]
  }
 ],
 "metadata": {
  "kernelspec": {
   "display_name": "SportsScience",
   "language": "python",
   "name": "python3"
  },
  "language_info": {
   "codemirror_mode": {
    "name": "ipython",
    "version": 3
   },
   "file_extension": ".py",
   "mimetype": "text/x-python",
   "name": "python",
   "nbconvert_exporter": "python",
   "pygments_lexer": "ipython3",
   "version": "3.6.13"
  },
  "orig_nbformat": 4
 },
 "nbformat": 4,
 "nbformat_minor": 2
}
