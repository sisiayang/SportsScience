{
 "cells": [
  {
   "cell_type": "code",
   "execution_count": 211,
   "metadata": {},
   "outputs": [],
   "source": [
    "import tensorflow as tf\n",
    "import numpy as np\n",
    "import pandas as pd\n",
    "from keras import layers\n",
    "import keras"
   ]
  },
  {
   "cell_type": "code",
   "execution_count": 245,
   "metadata": {},
   "outputs": [
    {
     "name": "stdout",
     "output_type": "stream",
     "text": [
      "KerasTensor(type_spec=TensorSpec(shape=(None, 3, 1), dtype=tf.bool, name=None), name='masking_15/Squeeze:0')\n",
      "Model: \"model_69\"\n",
      "__________________________________________________________________________________________________\n",
      "Layer (type)                    Output Shape         Param #     Connected to                     \n",
      "==================================================================================================\n",
      "input_178 (InputLayer)          [(None, 3, 1)]       0                                            \n",
      "__________________________________________________________________________________________________\n",
      "input_179 (InputLayer)          [(None, 3, 1)]       0                                            \n",
      "__________________________________________________________________________________________________\n",
      "input_180 (InputLayer)          [(None, 3, 1, 2)]    0                                            \n",
      "__________________________________________________________________________________________________\n",
      "embedding_148 (Embedding)       (None, 3, 1, 2)      6           input_178[0][0]                  \n",
      "==================================================================================================\n",
      "Total params: 6\n",
      "Trainable params: 6\n",
      "Non-trainable params: 0\n",
      "__________________________________________________________________________________________________\n"
     ]
    }
   ],
   "source": [
    "def model(shape1, shape2, shape3):\n",
    "    x1 = layers.Input(shape=shape1)\n",
    "    x2 = layers.Input(shape=shape2)\n",
    "    x3 = layers.Input(shape=shape3)\n",
    "    embedding1 = layers.Embedding(3, 2, mask_zero=True, input_length=1)\n",
    "    embedding2 = layers.Embedding(3, 2, mask_zero=True, input_length=1)\n",
    "    concat = layers.Concatenate(name='Input_merging', axis=len(x3.shape)-1)\n",
    "\n",
    "    masking_layer = layers.Masking()\n",
    "\n",
    "    # layer_cnn = layers.Conv1D(filters=6, kernel_size=3, padding='same', name='cnn')\n",
    "    \n",
    "    # dense = layers.Dense(units=2, activation='softmax')\n",
    "\n",
    "    e1 = embedding1(x1)\n",
    "    e2 = embedding2(x2)\n",
    "    c = concat([e1, e2, x3])\n",
    "    m = masking_layer(c)\n",
    "    print(m._keras_mask)\n",
    "    # cnn_output = layer_cnn(c)\n",
    "    # y = dense(cnn_output)\n",
    "    # output = tf.squeeze(y)\n",
    "    model = keras.Model([x1, x2, x3], e1)\n",
    "    # model = keras.Model([x1, x2, x3], output)\n",
    "    return model\n",
    "\n",
    "model = model((3, 1), (3, 1), (3, 1, 2))   # (sequence_len, dimension)\n",
    "model.summary()"
   ]
  },
  {
   "cell_type": "code",
   "execution_count": 246,
   "metadata": {},
   "outputs": [
    {
     "data": {
      "text/plain": [
       "[array([[-0.04509665,  0.02554139],\n",
       "        [-0.02233099, -0.01081265],\n",
       "        [-0.00100253,  0.03505286]], dtype=float32)]"
      ]
     },
     "execution_count": 246,
     "metadata": {},
     "output_type": "execute_result"
    }
   ],
   "source": [
    "model.layers[3].get_weights()"
   ]
  },
  {
   "cell_type": "code",
   "execution_count": null,
   "metadata": {},
   "outputs": [],
   "source": []
  },
  {
   "cell_type": "code",
   "execution_count": 247,
   "metadata": {},
   "outputs": [
    {
     "data": {
      "text/plain": [
       "array([[[[-0.02233099, -0.01081265]],\n",
       "\n",
       "        [[-0.02233099, -0.01081265]],\n",
       "\n",
       "        [[-0.04509665,  0.02554139]]],\n",
       "\n",
       "\n",
       "       [[[-0.00100253,  0.03505286]],\n",
       "\n",
       "        [[-0.04509665,  0.02554139]],\n",
       "\n",
       "        [[-0.02233099, -0.01081265]]]], dtype=float32)"
      ]
     },
     "execution_count": 247,
     "metadata": {},
     "output_type": "execute_result"
    }
   ],
   "source": [
    "# input_array1 = tf.convert_to_tensor([[[1], [1], [0]], [[2], [0], [1]], [[1], [4], [1]], [[4], [3], [2]]])\n",
    "# input_array2 = tf.convert_to_tensor([[[1], [1], [0]], [[2], [0], [1]], [[1], [4], [1]], [[4], [3], [2]]])\n",
    "# input_array3 = tf.convert_to_tensor([[[[1, 1]], [[1, 1]], [[0, 0]]], [[[2, 1]], [[2, 0]], [[2, 2]]], [[[4, 1]], [[1, 1]], [[2, 0]]], [[[3, 1]], [[2, 2]], [[0, 1]]]])\n",
    "\n",
    "input_array1 = tf.convert_to_tensor([[[1], [1], [0]], [[2], [0], [1]]])\n",
    "input_array2 = tf.convert_to_tensor([[[1], [1], [0]], [[2], [0], [1]]])\n",
    "input_array3 = tf.convert_to_tensor([[[[1, 1]], [[1, 1]], [[0, 0]]], [[[2, 1]], [[0, 0]], [[2, 2]]]])\n",
    "\n",
    "\n",
    "model.compile('rmsprop', 'mse')\n",
    "output_array = model.predict([input_array1, input_array2, input_array3])\n",
    "output_array"
   ]
  },
  {
   "cell_type": "code",
   "execution_count": 601,
   "metadata": {},
   "outputs": [],
   "source": [
    "input_array1 = tf.convert_to_tensor([[[1], [2], [1], [0]], [[1], [0], [0], [2]]])\n",
    "input_array2 = tf.convert_to_tensor([[[1], [2], [2], [0]], [[1], [0], [0], [2]]])\n",
    "input_array3 = tf.convert_to_tensor([[[[1, 1]], [[2, 2]], [[1, 0]], [[0, 0]]], [[[1, 1]], [[0, 0]], [[0, 0]], [[2, 2]]]])"
   ]
  },
  {
   "cell_type": "code",
   "execution_count": 742,
   "metadata": {},
   "outputs": [
    {
     "name": "stdout",
     "output_type": "stream",
     "text": [
      "(2, 4, 1)\n",
      "(2, 4, 1)\n",
      "(2, 4, 1, 2)\n"
     ]
    }
   ],
   "source": [
    "print(input_array1.shape)\n",
    "print(input_array2.shape)\n",
    "print(input_array3.shape)"
   ]
  },
  {
   "cell_type": "code",
   "execution_count": 602,
   "metadata": {},
   "outputs": [],
   "source": [
    "from model import CNN_with_mask"
   ]
  },
  {
   "cell_type": "code",
   "execution_count": 603,
   "metadata": {},
   "outputs": [
    {
     "name": "stdout",
     "output_type": "stream",
     "text": [
      "tf.Tensor(\n",
      "[[[ True]\n",
      "  [ True]\n",
      "  [ True]\n",
      "  [False]]\n",
      "\n",
      " [[ True]\n",
      "  [False]\n",
      "  [False]\n",
      "  [ True]]], shape=(2, 4, 1), dtype=bool)\n",
      "tf.Tensor(\n",
      "[[[[0.3363277  0.66367227]]\n",
      "\n",
      "  [[0.20549262 0.7945073 ]]\n",
      "\n",
      "  [[0.35759407 0.6424059 ]]\n",
      "\n",
      "  [[0.50300574 0.4969942 ]]]\n",
      "\n",
      "\n",
      " [[[0.3363277  0.66367227]]\n",
      "\n",
      "  [[0.50300574 0.4969942 ]]\n",
      "\n",
      "  [[0.50300574 0.4969942 ]]\n",
      "\n",
      "  [[0.20549262 0.7945073 ]]]], shape=(2, 4, 1, 2), dtype=float32)\n"
     ]
    }
   ],
   "source": [
    "masking_layer = layers.Masking(mask_value=0)\n",
    "embedding1 = layers.Embedding(3, 2, mask_zero=True, input_length=1)\n",
    "concat = layers.Concatenate(name='Input_merging')\n",
    "layer_cnn = CNN_with_mask(filters=6, kernel_size=3, name='cnn')\n",
    "dense = layers.Dense(units=2, activation='softmax')\n",
    "\n",
    "e = embedding1(input_array1)\n",
    "\n",
    "unmasked_embedding = tf.cast(input_array3, tf.float32)\n",
    "masked_embedding = masking_layer(unmasked_embedding)\n",
    "c = concat([e, masked_embedding])\n",
    "cnn = layer_cnn(c)\n",
    "output = dense(cnn)\n",
    "print(output._keras_mask)\n",
    "\n",
    "print(output)"
   ]
  },
  {
   "cell_type": "code",
   "execution_count": 680,
   "metadata": {},
   "outputs": [],
   "source": [
    "label = np.array([[[[1.,  0.]],\n",
    "  [[0.,  1.]],\n",
    "  [[1., 0.]],\n",
    "  [[0., 0.]]],\n",
    " [[[0.,  1.]],\n",
    "  [[0., 0.]],\n",
    "  [[0., 0.]],\n",
    "  [[0.,  1.]]]])"
   ]
  },
  {
   "cell_type": "code",
   "execution_count": 744,
   "metadata": {},
   "outputs": [
    {
     "data": {
      "text/plain": [
       "(2, 4, 1, 2)"
      ]
     },
     "execution_count": 744,
     "metadata": {},
     "output_type": "execute_result"
    }
   ],
   "source": [
    "label.shape"
   ]
  },
  {
   "cell_type": "code",
   "execution_count": 718,
   "metadata": {},
   "outputs": [],
   "source": [
    "input_tensor1 = keras.Input(shape=(4, 1))\n",
    "input_tensor2 = keras.Input(shape=(4, 1, 2))\n",
    "\n",
    "masking_layer = layers.Masking(mask_value=0)\n",
    "embedding1 = layers.Embedding(3, 2, mask_zero=True, input_length=1)\n",
    "concat = layers.Concatenate(name='Input_merging')\n",
    "layer_cnn = CNN_with_mask(filters=6, kernel_size=3, name='cnn')\n",
    "dense = layers.Dense(units=2, activation='softmax')\n",
    "\n",
    "e = embedding1(input_tensor1)\n",
    "\n",
    "unmasked_embedding = tf.cast(input_tensor2, tf.float32)\n",
    "masked_embedding = masking_layer(unmasked_embedding)\n",
    "c = concat([e, masked_embedding])\n",
    "cnn = layer_cnn(c)\n",
    "output = dense(cnn)\n",
    "\n",
    "model = keras.Model([input_tensor1, input_tensor2], output)\n"
   ]
  },
  {
   "cell_type": "code",
   "execution_count": 720,
   "metadata": {},
   "outputs": [
    {
     "name": "stdout",
     "output_type": "stream",
     "text": [
      "1/1 [==============================] - 0s 316ms/step - loss: 0.1241 - binary_accuracy: 0.6000\n"
     ]
    },
    {
     "data": {
      "text/plain": [
       "[0.12414862960577011, 0.6000000238418579]"
      ]
     },
     "execution_count": 720,
     "metadata": {},
     "output_type": "execute_result"
    }
   ],
   "source": [
    "model.compile(loss=tf.keras.losses.MeanSquaredError(), optimizer='adam', metrics=[keras.metrics.BinaryAccuracy()])\n",
    "model.evaluate([input_array1, input_array3], label)"
   ]
  },
  {
   "cell_type": "code",
   "execution_count": null,
   "metadata": {},
   "outputs": [],
   "source": []
  },
  {
   "cell_type": "code",
   "execution_count": null,
   "metadata": {},
   "outputs": [],
   "source": []
  },
  {
   "cell_type": "code",
   "execution_count": 739,
   "metadata": {},
   "outputs": [],
   "source": [
    "def model(input_dim, seq_len, embed_space_size, embed_action_size):\n",
    "    input_space = keras.Input(shape=(seq_len, input_dim[0]), name='Space_input')\n",
    "    input_action = keras.Input(shape=(seq_len, input_dim[1]), name='Action_input')\n",
    "    input_others = keras.Input(shape=(seq_len, input_dim[0], input_dim[2]), name='Other_input')\n",
    "\n",
    "    space_embedding = layers.Embedding(input_dim=embed_space_size, output_dim=4, mask_zero=True, name='Space_embedding')\n",
    "    action_embeding = layers.Embedding(input_dim=embed_action_size, output_dim=4, mask_zero=True, name='Action_embedding')\n",
    "\n",
    "    masking_layer = layers.Masking(mask_value=0)\n",
    "    \n",
    "    input_concat_embedding = layers.Concatenate(name='Input_merging')\n",
    "    \n",
    "    layer_cnn = CNN_with_mask(filters=4+4+input_dim[2], kernel_size=3, name='cnn')\n",
    "    layer_dense = layers.Dense(units=3, activation='softmax')\n",
    "\n",
    "    '''define forward'''\n",
    "    inputs = [input_space, input_action, input_others]\n",
    "    embeded_space = space_embedding(input_space)\n",
    "    embeded_action = action_embeding(input_action)\n",
    "\n",
    "    unmasked_others = tf.cast(input_others, tf.float32)\n",
    "    masked_others = masking_layer(unmasked_others)\n",
    "\n",
    "    embeded_input = input_concat_embedding([embeded_space, embeded_action, masked_others])\n",
    "\n",
    "    cnn = layer_cnn(embeded_input)\n",
    "    output_prob = layer_dense(cnn)\n",
    "\n",
    "    model = keras.Model(inputs=inputs, outputs=output_prob, name='classifier')\n",
    "\n",
    "    return model"
   ]
  },
  {
   "cell_type": "code",
   "execution_count": 740,
   "metadata": {},
   "outputs": [
    {
     "name": "stdout",
     "output_type": "stream",
     "text": [
      "Model: \"classifier\"\n",
      "__________________________________________________________________________________________________\n",
      "Layer (type)                    Output Shape         Param #     Connected to                     \n",
      "==================================================================================================\n",
      "Other_input (InputLayer)        [(None, 3, 1, 7)]    0                                            \n",
      "__________________________________________________________________________________________________\n",
      "Space_input (InputLayer)        [(None, 3, 1)]       0                                            \n",
      "__________________________________________________________________________________________________\n",
      "Action_input (InputLayer)       [(None, 3, 1)]       0                                            \n",
      "__________________________________________________________________________________________________\n",
      "tf.cast_67 (TFOpLambda)         (None, 3, 1, 7)      0           Other_input[0][0]                \n",
      "__________________________________________________________________________________________________\n",
      "Space_embedding (Embedding)     (None, 3, 1, 4)      20          Space_input[0][0]                \n",
      "__________________________________________________________________________________________________\n",
      "Action_embedding (Embedding)    (None, 3, 1, 4)      20          Action_input[0][0]               \n",
      "__________________________________________________________________________________________________\n",
      "masking_134 (Masking)           (None, 3, 1, 7)      0           tf.cast_67[0][0]                 \n",
      "__________________________________________________________________________________________________\n",
      "Input_merging (Concatenate)     (None, 3, 1, 15)     0           Space_embedding[0][0]            \n",
      "                                                                 Action_embedding[0][0]           \n",
      "                                                                 masking_134[0][0]                \n",
      "__________________________________________________________________________________________________\n",
      "cnn_with_mask_57 (CNN_with_mask (None, 3, 1, 15)     690         Input_merging[0][0]              \n",
      "__________________________________________________________________________________________________\n",
      "dense_181 (Dense)               (None, 3, 1, 3)      48          cnn_with_mask_57[0][0]           \n",
      "==================================================================================================\n",
      "Total params: 778\n",
      "Trainable params: 778\n",
      "Non-trainable params: 0\n",
      "__________________________________________________________________________________________________\n"
     ]
    }
   ],
   "source": [
    "model = model((1, 1, 7), 3, 5, 5)\n",
    "model.summary()"
   ]
  },
  {
   "cell_type": "code",
   "execution_count": null,
   "metadata": {},
   "outputs": [],
   "source": []
  },
  {
   "cell_type": "code",
   "execution_count": null,
   "metadata": {},
   "outputs": [],
   "source": []
  },
  {
   "cell_type": "code",
   "execution_count": null,
   "metadata": {},
   "outputs": [],
   "source": []
  },
  {
   "cell_type": "code",
   "execution_count": 115,
   "metadata": {},
   "outputs": [
    {
     "name": "stdout",
     "output_type": "stream",
     "text": [
      "(None, 2, 1, 2)\n",
      "Model: \"model_26\"\n",
      "_________________________________________________________________\n",
      "Layer (type)                 Output Shape              Param #   \n",
      "=================================================================\n",
      "input_43 (InputLayer)        [(None, 2, 1)]            0         \n",
      "_________________________________________________________________\n",
      "embedding_44 (Embedding)     (None, 2, 1, 2)           10        \n",
      "_________________________________________________________________\n",
      "dense_29 (Dense)             (None, 2, 1, 2)           6         \n",
      "_________________________________________________________________\n",
      "reshape_8 (Reshape)          (None, 2, 2)              0         \n",
      "=================================================================\n",
      "Total params: 16\n",
      "Trainable params: 16\n",
      "Non-trainable params: 0\n",
      "_________________________________________________________________\n"
     ]
    }
   ],
   "source": [
    "def model(input_shape):\n",
    "    x = layers.Input(shape=input_shape)\n",
    "    embedding = layers.Embedding(5, 2, mask_zero=True, input_length=1)\n",
    "    # flatten = layers.Flatten()\n",
    "    \n",
    "    dense = layers.Dense(units=2, activation='softmax')\n",
    "    \n",
    "    reshape = layers.Reshape((2, 2))\n",
    "\n",
    "    e = embedding(x)\n",
    "    y = dense(e)\n",
    "    print(y.shape)\n",
    "    model = keras.Model(x, reshape(y))\n",
    "    return model\n",
    "\n",
    "model = model((2, 1))   # (sequence_len, dimension)\n",
    "model.summary()"
   ]
  },
  {
   "cell_type": "code",
   "execution_count": 116,
   "metadata": {},
   "outputs": [
    {
     "data": {
      "text/plain": [
       "array([[[0.52306634, 0.4769337 ],\n",
       "        [0.47747383, 0.52252626]],\n",
       "\n",
       "       [[0.47747383, 0.52252626],\n",
       "        [0.5073446 , 0.49265543]],\n",
       "\n",
       "       [[0.48104572, 0.51895434],\n",
       "        [0.52306634, 0.4769337 ]],\n",
       "\n",
       "       [[0.5001904 , 0.49980965],\n",
       "        [0.47747383, 0.52252626]]], dtype=float32)"
      ]
     },
     "execution_count": 116,
     "metadata": {},
     "output_type": "execute_result"
    }
   ],
   "source": [
    "input_array = [[[1], [2]], [[2], [0]], [[4], [1]], [[3], [2]]]\n",
    "\n",
    "\n",
    "model.compile('rmsprop', 'mse')\n",
    "output_array = model.predict(input_array)\n",
    "output_array"
   ]
  },
  {
   "cell_type": "code",
   "execution_count": null,
   "metadata": {},
   "outputs": [],
   "source": []
  },
  {
   "cell_type": "code",
   "execution_count": null,
   "metadata": {},
   "outputs": [],
   "source": []
  },
  {
   "cell_type": "code",
   "execution_count": null,
   "metadata": {},
   "outputs": [],
   "source": []
  },
  {
   "attachments": {},
   "cell_type": "markdown",
   "metadata": {},
   "source": [
    "---"
   ]
  },
  {
   "cell_type": "code",
   "execution_count": 117,
   "metadata": {},
   "outputs": [],
   "source": [
    "def model(input_shape):\n",
    "    x = layers.Input(shape=(input_shape,))\n",
    "\n",
    "    embedding = layers.Embedding(5, 2, mask_zero=True, input_length=1)\n",
    "    flatten = layers.Flatten()\n",
    "    dense = layers.Dense(units=1, activation='softmax')\n",
    "    \n",
    "    e = embedding(x)\n",
    "    p = flatten(e)\n",
    "    y = dense(p)\n",
    "    model = keras.Model(x, y)\n",
    "    return model"
   ]
  },
  {
   "cell_type": "code",
   "execution_count": 118,
   "metadata": {},
   "outputs": [
    {
     "name": "stdout",
     "output_type": "stream",
     "text": [
      "Model: \"model_27\"\n",
      "_________________________________________________________________\n",
      "Layer (type)                 Output Shape              Param #   \n",
      "=================================================================\n",
      "input_44 (InputLayer)        [(None, 1)]               0         \n",
      "_________________________________________________________________\n",
      "embedding_45 (Embedding)     (None, 1, 2)              10        \n",
      "_________________________________________________________________\n",
      "flatten_7 (Flatten)          (None, 2)                 0         \n",
      "_________________________________________________________________\n",
      "dense_30 (Dense)             (None, 1)                 3         \n",
      "=================================================================\n",
      "Total params: 13\n",
      "Trainable params: 13\n",
      "Non-trainable params: 0\n",
      "_________________________________________________________________\n"
     ]
    }
   ],
   "source": [
    "m = model(1)\n",
    "m.summary()"
   ]
  },
  {
   "cell_type": "code",
   "execution_count": 119,
   "metadata": {},
   "outputs": [],
   "source": [
    "model = keras.models.Sequential()\n",
    "model.add(layers.Embedding(5, 2))\n",
    "\n",
    "input_array = [[1], [2], [3]]\n",
    "\n",
    "model.compile('rmsprop', 'mse')\n",
    "output_array = model.predict(input_array)"
   ]
  },
  {
   "cell_type": "code",
   "execution_count": 120,
   "metadata": {},
   "outputs": [
    {
     "name": "stdout",
     "output_type": "stream",
     "text": [
      "[[1], [2], [3]]\n",
      "[[[ 0.02308043 -0.03748535]]\n",
      "\n",
      " [[-0.0021935   0.01627899]]\n",
      "\n",
      " [[ 0.03740347  0.03914301]]]\n"
     ]
    }
   ],
   "source": [
    "print(input_array)\n",
    "print(output_array)"
   ]
  },
  {
   "cell_type": "code",
   "execution_count": 121,
   "metadata": {},
   "outputs": [
    {
     "data": {
      "text/plain": [
       "(3, 1, 2)"
      ]
     },
     "execution_count": 121,
     "metadata": {},
     "output_type": "execute_result"
    }
   ],
   "source": [
    "output_array.shape"
   ]
  },
  {
   "cell_type": "code",
   "execution_count": 122,
   "metadata": {},
   "outputs": [],
   "source": [
    "output_array.resize([output_array.shape[0], output_array.shape[2]])"
   ]
  },
  {
   "cell_type": "code",
   "execution_count": 123,
   "metadata": {},
   "outputs": [
    {
     "data": {
      "text/plain": [
       "array([[ 0.02308043, -0.03748535],\n",
       "       [-0.0021935 ,  0.01627899],\n",
       "       [ 0.03740347,  0.03914301]], dtype=float32)"
      ]
     },
     "execution_count": 123,
     "metadata": {},
     "output_type": "execute_result"
    }
   ],
   "source": [
    "output_array"
   ]
  },
  {
   "cell_type": "code",
   "execution_count": null,
   "metadata": {},
   "outputs": [],
   "source": []
  }
 ],
 "metadata": {
  "kernelspec": {
   "display_name": "SportScience",
   "language": "python",
   "name": "python3"
  },
  "language_info": {
   "codemirror_mode": {
    "name": "ipython",
    "version": 3
   },
   "file_extension": ".py",
   "mimetype": "text/x-python",
   "name": "python",
   "nbconvert_exporter": "python",
   "pygments_lexer": "ipython3",
   "version": "3.6.13"
  },
  "orig_nbformat": 4,
  "vscode": {
   "interpreter": {
    "hash": "d5a07162fe3afdd7b480234d7b349d638e7b8aabfdb46dc5c5983105b59f4026"
   }
  }
 },
 "nbformat": 4,
 "nbformat_minor": 2
}
